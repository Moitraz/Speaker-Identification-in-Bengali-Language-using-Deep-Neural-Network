{
  "nbformat": 4,
  "nbformat_minor": 0,
  "metadata": {
    "colab": {
      "name": "CNN+RPLP.ipynb",
      "provenance": []
    },
    "kernelspec": {
      "name": "python3",
      "display_name": "Python 3"
    },
    "language_info": {
      "name": "python"
    },
    "accelerator": "GPU"
  },
  "cells": [
    {
      "cell_type": "code",
      "execution_count": 1,
      "metadata": {
        "id": "pYhvuBLFktAZ"
      },
      "outputs": [],
      "source": [
        "import tensorflow as tf\n",
        "from google.colab import drive\n",
        "from google.colab import files\n",
        "import os\n",
        "import cv2\n",
        "import random\n",
        "from sklearn.model_selection import train_test_split\n",
        "import numpy as np\n",
        "import matplotlib.pyplot as plt"
      ]
    },
    {
      "cell_type": "code",
      "source": [
        "filepath=os.listdir('drive/MyDrive/RPLP')\n",
        "for sub in filepath:\n",
        "  print(sub)"
      ],
      "metadata": {
        "colab": {
          "base_uri": "https://localhost:8080/"
        },
        "id": "F-nwlHUelDoL",
        "outputId": "a033e66a-e433-45da-9832-874992802bf5"
      },
      "execution_count": 2,
      "outputs": [
        {
          "output_type": "stream",
          "name": "stdout",
          "text": [
            "Person 3\n",
            "Person 4\n",
            "Person 2\n",
            "Person 1\n"
          ]
        }
      ]
    },
    {
      "cell_type": "code",
      "source": [
        "train_dir='drive/MyDrive/RPLP'\n",
        "training_data=[]"
      ],
      "metadata": {
        "id": "mJvRSdKzlTew"
      },
      "execution_count": 3,
      "outputs": []
    },
    {
      "cell_type": "code",
      "source": [
        "def create_trainingdata():\n",
        "    categories=os.listdir(train_dir)\n",
        "    for sub in categories:\n",
        "        path=os.path.join(train_dir,sub)\n",
        "        class_num=categories.index(sub)\n",
        "        for img in os.listdir(path):\n",
        "            img_array=cv2.imread(os.path.join(path,img))\n",
        "            new_array=cv2.resize(img_array,(250,250))\n",
        "            training_data.append([new_array,class_num])"
      ],
      "metadata": {
        "id": "qWNNVb74lbec"
      },
      "execution_count": 4,
      "outputs": []
    },
    {
      "cell_type": "code",
      "source": [
        "create_trainingdata()"
      ],
      "metadata": {
        "id": "_jcJy4vclfjW"
      },
      "execution_count": 5,
      "outputs": []
    },
    {
      "cell_type": "code",
      "source": [
        "random.shuffle(training_data)"
      ],
      "metadata": {
        "id": "qKaGIH-Plint"
      },
      "execution_count": 6,
      "outputs": []
    },
    {
      "cell_type": "code",
      "source": [
        "X=[]\n",
        "Y=[]\n",
        "for features,label in training_data:\n",
        "    X.append(features)\n",
        "    Y.append(label)\n",
        "\n",
        "X=np.array(X).reshape(-1,250,250,3)\n",
        "Y=np.array(Y).reshape(-1,1)"
      ],
      "metadata": {
        "id": "oWOo9a-JlqAg"
      },
      "execution_count": 7,
      "outputs": []
    },
    {
      "cell_type": "code",
      "source": [
        "x_train,x_test,y_train,y_test=train_test_split(X,Y)"
      ],
      "metadata": {
        "id": "qT2---fLlsrJ"
      },
      "execution_count": 8,
      "outputs": []
    },
    {
      "cell_type": "code",
      "source": [
        "x_train.shape"
      ],
      "metadata": {
        "colab": {
          "base_uri": "https://localhost:8080/"
        },
        "id": "FAlSxrhrl0HS",
        "outputId": "bb250256-88af-4f11-81d6-fef5fbde4774"
      },
      "execution_count": 9,
      "outputs": [
        {
          "output_type": "execute_result",
          "data": {
            "text/plain": [
              "(2250, 250, 250, 3)"
            ]
          },
          "metadata": {},
          "execution_count": 9
        }
      ]
    },
    {
      "cell_type": "code",
      "source": [
        "cnn=tf.keras.Sequential([\n",
        "        tf.keras.layers.Conv2D(64,(3,3),activation='relu',input_shape=(250,250,3)),\n",
        "        tf.keras.layers.MaxPooling2D(2,2),\n",
        "      \n",
        "        tf.keras.layers.Conv2D(64, (3,3), activation=\"relu\"),\n",
        "        tf.keras.layers.MaxPooling2D(2,2),\n",
        "\n",
        "        tf.keras.layers.Conv2D(32, (3,3), activation=\"relu\"),\n",
        "        tf.keras.layers.MaxPooling2D(2,2),    \n",
        "        tf.keras.layers.Flatten(),\n",
        "        tf.keras.layers.Dropout(0.4),\n",
        "        tf.keras.layers.Dense(32, activation=\"relu\"),\n",
        "        tf.keras.layers.Dense(5, activation=\"softmax\")\n",
        "        ])\n",
        "\n",
        "cnn.compile(optimizer='adam',loss=\"sparse_categorical_crossentropy\",metrics=['accuracy'])   "
      ],
      "metadata": {
        "id": "bOYHlfDml40X"
      },
      "execution_count": 10,
      "outputs": []
    },
    {
      "cell_type": "code",
      "source": [
        "model1=cnn.fit(x_train,y_train,epochs=100,validation_data=(x_test,y_test))"
      ],
      "metadata": {
        "colab": {
          "base_uri": "https://localhost:8080/"
        },
        "id": "uLbpXGZ4maY7",
        "outputId": "95dabd9b-59a7-4d1d-811f-35b3f56dc96e"
      },
      "execution_count": 11,
      "outputs": [
        {
          "output_type": "stream",
          "name": "stdout",
          "text": [
            "Epoch 1/100\n",
            "71/71 [==============================] - 11s 100ms/step - loss: 12.2322 - accuracy: 0.6756 - val_loss: 0.1782 - val_accuracy: 0.9440\n",
            "Epoch 2/100\n",
            "71/71 [==============================] - 6s 88ms/step - loss: 0.2745 - accuracy: 0.8942 - val_loss: 0.2057 - val_accuracy: 0.9533\n",
            "Epoch 3/100\n",
            "71/71 [==============================] - 6s 88ms/step - loss: 0.2198 - accuracy: 0.9142 - val_loss: 0.1309 - val_accuracy: 0.9533\n",
            "Epoch 4/100\n",
            "71/71 [==============================] - 6s 89ms/step - loss: 0.1480 - accuracy: 0.9422 - val_loss: 0.0986 - val_accuracy: 0.9613\n",
            "Epoch 5/100\n",
            "71/71 [==============================] - 6s 89ms/step - loss: 0.1318 - accuracy: 0.9511 - val_loss: 0.1371 - val_accuracy: 0.9600\n",
            "Epoch 6/100\n",
            "71/71 [==============================] - 6s 90ms/step - loss: 0.1495 - accuracy: 0.9449 - val_loss: 0.1156 - val_accuracy: 0.9627\n",
            "Epoch 7/100\n",
            "71/71 [==============================] - 6s 90ms/step - loss: 0.1336 - accuracy: 0.9507 - val_loss: 0.1359 - val_accuracy: 0.9547\n",
            "Epoch 8/100\n",
            "71/71 [==============================] - 6s 91ms/step - loss: 0.1493 - accuracy: 0.9422 - val_loss: 0.1530 - val_accuracy: 0.9400\n",
            "Epoch 9/100\n",
            "71/71 [==============================] - 6s 90ms/step - loss: 0.1375 - accuracy: 0.9538 - val_loss: 0.3115 - val_accuracy: 0.8533\n",
            "Epoch 10/100\n",
            "71/71 [==============================] - 6s 90ms/step - loss: 0.1573 - accuracy: 0.9378 - val_loss: 0.0950 - val_accuracy: 0.9627\n",
            "Epoch 11/100\n",
            "71/71 [==============================] - 6s 89ms/step - loss: 0.1416 - accuracy: 0.9449 - val_loss: 0.1003 - val_accuracy: 0.9547\n",
            "Epoch 12/100\n",
            "71/71 [==============================] - 6s 89ms/step - loss: 0.1089 - accuracy: 0.9613 - val_loss: 0.1040 - val_accuracy: 0.9693\n",
            "Epoch 13/100\n",
            "71/71 [==============================] - 6s 89ms/step - loss: 0.1097 - accuracy: 0.9644 - val_loss: 0.0775 - val_accuracy: 0.9680\n",
            "Epoch 14/100\n",
            "71/71 [==============================] - 6s 89ms/step - loss: 0.1195 - accuracy: 0.9569 - val_loss: 0.0936 - val_accuracy: 0.9573\n",
            "Epoch 15/100\n",
            "71/71 [==============================] - 6s 89ms/step - loss: 0.1630 - accuracy: 0.9538 - val_loss: 0.1499 - val_accuracy: 0.9333\n",
            "Epoch 16/100\n",
            "71/71 [==============================] - 6s 89ms/step - loss: 0.1412 - accuracy: 0.9547 - val_loss: 0.0787 - val_accuracy: 0.9680\n",
            "Epoch 17/100\n",
            "71/71 [==============================] - 6s 89ms/step - loss: 0.1445 - accuracy: 0.9547 - val_loss: 0.1028 - val_accuracy: 0.9653\n",
            "Epoch 18/100\n",
            "71/71 [==============================] - 6s 89ms/step - loss: 0.1024 - accuracy: 0.9693 - val_loss: 0.1093 - val_accuracy: 0.9693\n",
            "Epoch 19/100\n",
            "71/71 [==============================] - 6s 89ms/step - loss: 0.0729 - accuracy: 0.9733 - val_loss: 0.0759 - val_accuracy: 0.9680\n",
            "Epoch 20/100\n",
            "71/71 [==============================] - 7s 97ms/step - loss: 0.0820 - accuracy: 0.9724 - val_loss: 0.0932 - val_accuracy: 0.9640\n",
            "Epoch 21/100\n",
            "71/71 [==============================] - 6s 89ms/step - loss: 0.0926 - accuracy: 0.9680 - val_loss: 0.0844 - val_accuracy: 0.9653\n",
            "Epoch 22/100\n",
            "71/71 [==============================] - 6s 90ms/step - loss: 0.0837 - accuracy: 0.9676 - val_loss: 0.0832 - val_accuracy: 0.9653\n",
            "Epoch 23/100\n",
            "71/71 [==============================] - 6s 90ms/step - loss: 0.0876 - accuracy: 0.9662 - val_loss: 0.0764 - val_accuracy: 0.9693\n",
            "Epoch 24/100\n",
            "71/71 [==============================] - 6s 89ms/step - loss: 0.1020 - accuracy: 0.9636 - val_loss: 0.0582 - val_accuracy: 0.9733\n",
            "Epoch 25/100\n",
            "71/71 [==============================] - 6s 89ms/step - loss: 0.0875 - accuracy: 0.9693 - val_loss: 0.0775 - val_accuracy: 0.9733\n",
            "Epoch 26/100\n",
            "71/71 [==============================] - 6s 89ms/step - loss: 0.0971 - accuracy: 0.9693 - val_loss: 0.0697 - val_accuracy: 0.9707\n",
            "Epoch 27/100\n",
            "71/71 [==============================] - 6s 89ms/step - loss: 0.0835 - accuracy: 0.9711 - val_loss: 0.0721 - val_accuracy: 0.9720\n",
            "Epoch 28/100\n",
            "71/71 [==============================] - 6s 89ms/step - loss: 0.0740 - accuracy: 0.9742 - val_loss: 0.0784 - val_accuracy: 0.9707\n",
            "Epoch 29/100\n",
            "71/71 [==============================] - 6s 89ms/step - loss: 0.0802 - accuracy: 0.9707 - val_loss: 0.0723 - val_accuracy: 0.9640\n",
            "Epoch 30/100\n",
            "71/71 [==============================] - 6s 89ms/step - loss: 0.0627 - accuracy: 0.9840 - val_loss: 0.0655 - val_accuracy: 0.9800\n",
            "Epoch 31/100\n",
            "71/71 [==============================] - 6s 89ms/step - loss: 0.0668 - accuracy: 0.9756 - val_loss: 0.0605 - val_accuracy: 0.9747\n",
            "Epoch 32/100\n",
            "71/71 [==============================] - 6s 89ms/step - loss: 0.0559 - accuracy: 0.9809 - val_loss: 0.0606 - val_accuracy: 0.9787\n",
            "Epoch 33/100\n",
            "71/71 [==============================] - 6s 90ms/step - loss: 0.0557 - accuracy: 0.9818 - val_loss: 0.0502 - val_accuracy: 0.9800\n",
            "Epoch 34/100\n",
            "71/71 [==============================] - 6s 90ms/step - loss: 0.0507 - accuracy: 0.9804 - val_loss: 0.0763 - val_accuracy: 0.9693\n",
            "Epoch 35/100\n",
            "71/71 [==============================] - 6s 89ms/step - loss: 0.0588 - accuracy: 0.9804 - val_loss: 0.0577 - val_accuracy: 0.9773\n",
            "Epoch 36/100\n",
            "71/71 [==============================] - 6s 89ms/step - loss: 0.0542 - accuracy: 0.9787 - val_loss: 0.0611 - val_accuracy: 0.9773\n",
            "Epoch 37/100\n",
            "71/71 [==============================] - 6s 90ms/step - loss: 0.0665 - accuracy: 0.9769 - val_loss: 0.0783 - val_accuracy: 0.9720\n",
            "Epoch 38/100\n",
            "71/71 [==============================] - 6s 90ms/step - loss: 0.0494 - accuracy: 0.9787 - val_loss: 0.0528 - val_accuracy: 0.9733\n",
            "Epoch 39/100\n",
            "71/71 [==============================] - 6s 90ms/step - loss: 0.0770 - accuracy: 0.9724 - val_loss: 0.0675 - val_accuracy: 0.9693\n",
            "Epoch 40/100\n",
            "71/71 [==============================] - 6s 89ms/step - loss: 0.0549 - accuracy: 0.9778 - val_loss: 0.0568 - val_accuracy: 0.9787\n",
            "Epoch 41/100\n",
            "71/71 [==============================] - 6s 89ms/step - loss: 0.0380 - accuracy: 0.9862 - val_loss: 0.0609 - val_accuracy: 0.9787\n",
            "Epoch 42/100\n",
            "71/71 [==============================] - 6s 90ms/step - loss: 0.0557 - accuracy: 0.9809 - val_loss: 0.1519 - val_accuracy: 0.9493\n",
            "Epoch 43/100\n",
            "71/71 [==============================] - 6s 90ms/step - loss: 0.0940 - accuracy: 0.9680 - val_loss: 0.0566 - val_accuracy: 0.9747\n",
            "Epoch 44/100\n",
            "71/71 [==============================] - 6s 90ms/step - loss: 0.0585 - accuracy: 0.9813 - val_loss: 0.0925 - val_accuracy: 0.9733\n",
            "Epoch 45/100\n",
            "71/71 [==============================] - 6s 89ms/step - loss: 0.0863 - accuracy: 0.9698 - val_loss: 0.0890 - val_accuracy: 0.9627\n",
            "Epoch 46/100\n",
            "71/71 [==============================] - 6s 89ms/step - loss: 0.0592 - accuracy: 0.9791 - val_loss: 0.0614 - val_accuracy: 0.9760\n",
            "Epoch 47/100\n",
            "71/71 [==============================] - 6s 89ms/step - loss: 0.0587 - accuracy: 0.9813 - val_loss: 0.0492 - val_accuracy: 0.9733\n",
            "Epoch 48/100\n",
            "71/71 [==============================] - 7s 97ms/step - loss: 0.0490 - accuracy: 0.9831 - val_loss: 0.1659 - val_accuracy: 0.9400\n",
            "Epoch 49/100\n",
            "71/71 [==============================] - 6s 90ms/step - loss: 0.0594 - accuracy: 0.9773 - val_loss: 0.0544 - val_accuracy: 0.9813\n",
            "Epoch 50/100\n",
            "71/71 [==============================] - 6s 90ms/step - loss: 0.0375 - accuracy: 0.9867 - val_loss: 0.0549 - val_accuracy: 0.9773\n",
            "Epoch 51/100\n",
            "71/71 [==============================] - 6s 90ms/step - loss: 0.0541 - accuracy: 0.9809 - val_loss: 0.0456 - val_accuracy: 0.9813\n",
            "Epoch 52/100\n",
            "71/71 [==============================] - 6s 89ms/step - loss: 0.0374 - accuracy: 0.9871 - val_loss: 0.0666 - val_accuracy: 0.9800\n",
            "Epoch 53/100\n",
            "71/71 [==============================] - 6s 90ms/step - loss: 0.0393 - accuracy: 0.9858 - val_loss: 0.0446 - val_accuracy: 0.9827\n",
            "Epoch 54/100\n",
            "71/71 [==============================] - 6s 90ms/step - loss: 0.0296 - accuracy: 0.9898 - val_loss: 0.0595 - val_accuracy: 0.9760\n",
            "Epoch 55/100\n",
            "71/71 [==============================] - 6s 90ms/step - loss: 0.0623 - accuracy: 0.9809 - val_loss: 0.0737 - val_accuracy: 0.9707\n",
            "Epoch 56/100\n",
            "71/71 [==============================] - 6s 90ms/step - loss: 0.0438 - accuracy: 0.9867 - val_loss: 0.0801 - val_accuracy: 0.9747\n",
            "Epoch 57/100\n",
            "71/71 [==============================] - 6s 90ms/step - loss: 0.0490 - accuracy: 0.9818 - val_loss: 0.0652 - val_accuracy: 0.9773\n",
            "Epoch 58/100\n",
            "71/71 [==============================] - 7s 98ms/step - loss: 0.0590 - accuracy: 0.9782 - val_loss: 0.0417 - val_accuracy: 0.9880\n",
            "Epoch 59/100\n",
            "71/71 [==============================] - 6s 90ms/step - loss: 0.0368 - accuracy: 0.9862 - val_loss: 0.0564 - val_accuracy: 0.9800\n",
            "Epoch 60/100\n",
            "71/71 [==============================] - 6s 90ms/step - loss: 0.0489 - accuracy: 0.9844 - val_loss: 0.0632 - val_accuracy: 0.9720\n",
            "Epoch 61/100\n",
            "71/71 [==============================] - 6s 90ms/step - loss: 0.0375 - accuracy: 0.9880 - val_loss: 0.0492 - val_accuracy: 0.9800\n",
            "Epoch 62/100\n",
            "71/71 [==============================] - 6s 90ms/step - loss: 0.0380 - accuracy: 0.9867 - val_loss: 0.0632 - val_accuracy: 0.9773\n",
            "Epoch 63/100\n",
            "71/71 [==============================] - 6s 90ms/step - loss: 0.0537 - accuracy: 0.9822 - val_loss: 0.0770 - val_accuracy: 0.9707\n",
            "Epoch 64/100\n",
            "71/71 [==============================] - 6s 90ms/step - loss: 0.0403 - accuracy: 0.9876 - val_loss: 0.0634 - val_accuracy: 0.9707\n",
            "Epoch 65/100\n",
            "71/71 [==============================] - 6s 90ms/step - loss: 0.0313 - accuracy: 0.9889 - val_loss: 0.0496 - val_accuracy: 0.9800\n",
            "Epoch 66/100\n",
            "71/71 [==============================] - 6s 90ms/step - loss: 0.0318 - accuracy: 0.9911 - val_loss: 0.0575 - val_accuracy: 0.9813\n",
            "Epoch 67/100\n",
            "71/71 [==============================] - 6s 90ms/step - loss: 0.0496 - accuracy: 0.9831 - val_loss: 0.0525 - val_accuracy: 0.9800\n",
            "Epoch 68/100\n",
            "71/71 [==============================] - 6s 90ms/step - loss: 0.0376 - accuracy: 0.9867 - val_loss: 0.0699 - val_accuracy: 0.9707\n",
            "Epoch 69/100\n",
            "71/71 [==============================] - 6s 89ms/step - loss: 0.0767 - accuracy: 0.9747 - val_loss: 0.0811 - val_accuracy: 0.9720\n",
            "Epoch 70/100\n",
            "71/71 [==============================] - 6s 90ms/step - loss: 0.0320 - accuracy: 0.9907 - val_loss: 0.0515 - val_accuracy: 0.9827\n",
            "Epoch 71/100\n",
            "71/71 [==============================] - 7s 98ms/step - loss: 0.0650 - accuracy: 0.9773 - val_loss: 0.0561 - val_accuracy: 0.9813\n",
            "Epoch 72/100\n",
            "71/71 [==============================] - 6s 90ms/step - loss: 0.0557 - accuracy: 0.9831 - val_loss: 0.0806 - val_accuracy: 0.9707\n",
            "Epoch 73/100\n",
            "71/71 [==============================] - 6s 90ms/step - loss: 0.1326 - accuracy: 0.9618 - val_loss: 0.1255 - val_accuracy: 0.9560\n",
            "Epoch 74/100\n",
            "71/71 [==============================] - 6s 90ms/step - loss: 0.4665 - accuracy: 0.8289 - val_loss: 0.3951 - val_accuracy: 0.7707\n",
            "Epoch 75/100\n",
            "71/71 [==============================] - 6s 89ms/step - loss: 0.4279 - accuracy: 0.7324 - val_loss: 0.3213 - val_accuracy: 0.8653\n",
            "Epoch 76/100\n",
            "71/71 [==============================] - 6s 89ms/step - loss: 0.2446 - accuracy: 0.8969 - val_loss: 0.1164 - val_accuracy: 0.9547\n",
            "Epoch 77/100\n",
            "71/71 [==============================] - 6s 89ms/step - loss: 0.1131 - accuracy: 0.9547 - val_loss: 0.0829 - val_accuracy: 0.9653\n",
            "Epoch 78/100\n",
            "71/71 [==============================] - 6s 89ms/step - loss: 0.0728 - accuracy: 0.9720 - val_loss: 0.0872 - val_accuracy: 0.9693\n",
            "Epoch 79/100\n",
            "71/71 [==============================] - 6s 89ms/step - loss: 0.0730 - accuracy: 0.9787 - val_loss: 0.0658 - val_accuracy: 0.9747\n",
            "Epoch 80/100\n",
            "71/71 [==============================] - 6s 89ms/step - loss: 0.0746 - accuracy: 0.9773 - val_loss: 0.0681 - val_accuracy: 0.9773\n",
            "Epoch 81/100\n",
            "71/71 [==============================] - 7s 97ms/step - loss: 0.0644 - accuracy: 0.9800 - val_loss: 0.0687 - val_accuracy: 0.9773\n",
            "Epoch 82/100\n",
            "71/71 [==============================] - 6s 90ms/step - loss: 0.0530 - accuracy: 0.9809 - val_loss: 0.0637 - val_accuracy: 0.9747\n",
            "Epoch 83/100\n",
            "71/71 [==============================] - 7s 97ms/step - loss: 0.0432 - accuracy: 0.9853 - val_loss: 0.0664 - val_accuracy: 0.9773\n",
            "Epoch 84/100\n",
            "71/71 [==============================] - 7s 97ms/step - loss: 0.0685 - accuracy: 0.9769 - val_loss: 0.0560 - val_accuracy: 0.9747\n",
            "Epoch 85/100\n",
            "71/71 [==============================] - 6s 89ms/step - loss: 0.0509 - accuracy: 0.9836 - val_loss: 0.0808 - val_accuracy: 0.9693\n",
            "Epoch 86/100\n",
            "71/71 [==============================] - 6s 89ms/step - loss: 0.0676 - accuracy: 0.9764 - val_loss: 0.0639 - val_accuracy: 0.9760\n",
            "Epoch 87/100\n",
            "71/71 [==============================] - 7s 97ms/step - loss: 0.0617 - accuracy: 0.9809 - val_loss: 0.0542 - val_accuracy: 0.9773\n",
            "Epoch 88/100\n",
            "71/71 [==============================] - 6s 89ms/step - loss: 0.0590 - accuracy: 0.9844 - val_loss: 0.0628 - val_accuracy: 0.9760\n",
            "Epoch 89/100\n",
            "71/71 [==============================] - 6s 89ms/step - loss: 0.0360 - accuracy: 0.9871 - val_loss: 0.1276 - val_accuracy: 0.9547\n",
            "Epoch 90/100\n",
            "71/71 [==============================] - 6s 89ms/step - loss: 0.0555 - accuracy: 0.9818 - val_loss: 0.0751 - val_accuracy: 0.9707\n",
            "Epoch 91/100\n",
            "71/71 [==============================] - 6s 89ms/step - loss: 0.0651 - accuracy: 0.9818 - val_loss: 0.0623 - val_accuracy: 0.9760\n",
            "Epoch 92/100\n",
            "71/71 [==============================] - 6s 89ms/step - loss: 0.0416 - accuracy: 0.9849 - val_loss: 0.0514 - val_accuracy: 0.9853\n",
            "Epoch 93/100\n",
            "71/71 [==============================] - 6s 89ms/step - loss: 0.0545 - accuracy: 0.9813 - val_loss: 0.0548 - val_accuracy: 0.9707\n",
            "Epoch 94/100\n",
            "71/71 [==============================] - 6s 89ms/step - loss: 0.0779 - accuracy: 0.9702 - val_loss: 0.0808 - val_accuracy: 0.9667\n",
            "Epoch 95/100\n",
            "71/71 [==============================] - 6s 90ms/step - loss: 0.0494 - accuracy: 0.9844 - val_loss: 0.1024 - val_accuracy: 0.9653\n",
            "Epoch 96/100\n",
            "71/71 [==============================] - 6s 90ms/step - loss: 0.0332 - accuracy: 0.9884 - val_loss: 0.0546 - val_accuracy: 0.9787\n",
            "Epoch 97/100\n",
            "71/71 [==============================] - 6s 90ms/step - loss: 0.0304 - accuracy: 0.9889 - val_loss: 0.0508 - val_accuracy: 0.9787\n",
            "Epoch 98/100\n",
            "71/71 [==============================] - 6s 89ms/step - loss: 0.0401 - accuracy: 0.9840 - val_loss: 0.0478 - val_accuracy: 0.9813\n",
            "Epoch 99/100\n",
            "71/71 [==============================] - 6s 90ms/step - loss: 0.0353 - accuracy: 0.9902 - val_loss: 0.0384 - val_accuracy: 0.9853\n",
            "Epoch 100/100\n",
            "71/71 [==============================] - 6s 90ms/step - loss: 0.0428 - accuracy: 0.9880 - val_loss: 0.0549 - val_accuracy: 0.9867\n"
          ]
        }
      ]
    },
    {
      "cell_type": "code",
      "source": [
        "cnn.save(\"CNNRPLP.h5\")"
      ],
      "metadata": {
        "id": "4JKZ9Ds_0J2x"
      },
      "execution_count": 12,
      "outputs": []
    },
    {
      "cell_type": "code",
      "source": [
        "test_loss,test_acc=cnn.evaluate(x_test,y_test)"
      ],
      "metadata": {
        "colab": {
          "base_uri": "https://localhost:8080/"
        },
        "id": "SJhoJGfl0UL0",
        "outputId": "6d81ad20-3685-4776-9648-2103813b4c0f"
      },
      "execution_count": 13,
      "outputs": [
        {
          "output_type": "stream",
          "name": "stdout",
          "text": [
            "24/24 [==============================] - 1s 34ms/step - loss: 0.0549 - accuracy: 0.9867\n"
          ]
        }
      ]
    },
    {
      "cell_type": "code",
      "source": [
        "plt.plot(model1.history['accuracy'])\n",
        "plt.plot(model1.history['val_accuracy'])\n",
        "plt.title('model accuracy')\n",
        "plt.ylabel('accuracy')\n",
        "plt.xlabel('epoch')\n",
        "plt.legend(['train', 'val'], loc='upper left')\n",
        "plt.show()"
      ],
      "metadata": {
        "colab": {
          "base_uri": "https://localhost:8080/",
          "height": 295
        },
        "id": "pwlFl5PY0YOD",
        "outputId": "0739c7c1-5d32-4510-a689-3973471078ff"
      },
      "execution_count": 14,
      "outputs": [
        {
          "output_type": "display_data",
          "data": {
            "text/plain": [
              "<Figure size 432x288 with 1 Axes>"
            ],
            "image/png": "[encoded data removed]"
          },
          "metadata": {
            "needs_background": "light"
          }
        }
      ]
    },
    {
      "cell_type": "code",
      "source": [
        "plt.plot(model1.history['loss'])\n",
        "plt.plot(model1.history['val_loss'])\n",
        "plt.title('model loss')\n",
        "plt.ylabel('loss')\n",
        "plt.xlabel('epoch')\n",
        "plt.legend(['train', 'val'], loc='upper left')\n",
        "plt.show()"
      ],
      "metadata": {
        "colab": {
          "base_uri": "https://localhost:8080/",
          "height": 295
        },
        "id": "WW0IQO960byn",
        "outputId": "36b82f43-b9a8-45a3-d9cb-bf87b14ced91"
      },
      "execution_count": 15,
      "outputs": [
        {
          "output_type": "display_data",
          "data": {
            "text/plain": [
              "<Figure size 432x288 with 1 Axes>"
            ],
            "image/png": "[encoded data removed]"
          },
          "metadata": {
            "needs_background": "light"
          }
        }
      ]
    },
    {
      "cell_type": "code",
      "source": [
        "model_pred=cnn.predict(x_test)\n",
        "model_pred=np.argmax(model_pred[:10],axis=1)\n",
        "actual=y_test[:10].reshape(-1)\n",
        "\n",
        "print(\"Prediction:\")\n",
        "print(model_pred)\n",
        "print(\"Actual :\")\n",
        "print(actual)"
      ],
      "metadata": {
        "colab": {
          "base_uri": "https://localhost:8080/"
        },
        "id": "EVEVQclz0trf",
        "outputId": "1673dc77-e0ed-4eac-a92c-7f2150fdcb41"
      },
      "execution_count": 18,
      "outputs": [
        {
          "output_type": "stream",
          "name": "stdout",
          "text": [
            "Prediction:\n",
            "[1 1 3 0 3 2 1 3 3 0]\n",
            "Actual :\n",
            "[1 1 3 0 3 2 1 3 3 3]\n"
          ]
        }
      ]
    }
  ]
}