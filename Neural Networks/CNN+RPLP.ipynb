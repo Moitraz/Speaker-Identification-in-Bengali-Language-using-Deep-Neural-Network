{
  "nbformat": 4,
  "nbformat_minor": 0,
  "metadata": {
    "colab": {
      "name": "CNN+RPLP.ipynb",
      "provenance": [],
      "collapsed_sections": []
    },
    "kernelspec": {
      "name": "python3",
      "display_name": "Python 3"
    },
    "language_info": {
      "name": "python"
    },
    "accelerator": "GPU"
  },
  "cells": [
    {
      "cell_type": "code",
      "execution_count": 1,
      "metadata": {
        "id": "pYhvuBLFktAZ"
      },
      "outputs": [],
      "source": [
        "import tensorflow as tf\n",
        "from google.colab import drive\n",
        "from google.colab import files\n",
        "import os\n",
        "import cv2\n",
        "import random\n",
        "from sklearn.model_selection import train_test_split\n",
        "import numpy as np\n",
        "import matplotlib.pyplot as plt"
      ]
    },
    {
      "cell_type": "code",
      "source": [
        "filepath=os.listdir('drive/MyDrive/RPLP')\n",
        "for sub in filepath:\n",
        "  print(sub)"
      ],
      "metadata": {
        "colab": {
          "base_uri": "https://localhost:8080/"
        },
        "id": "F-nwlHUelDoL",
        "outputId": "ac892c15-4cb5-4966-ab9a-b71ffe719047"
      },
      "execution_count": 2,
      "outputs": [
        {
          "output_type": "stream",
          "name": "stdout",
          "text": [
            "Person 8\n",
            "Person 9\n",
            "Person 1\n",
            "Person 7\n",
            "Person 2\n",
            "Person 6\n",
            "Person 10\n",
            "Person 4\n",
            "Person 5\n",
            "Person 3\n"
          ]
        }
      ]
    },
    {
      "cell_type": "code",
      "source": [
        "train_dir='drive/MyDrive/RPLP'\n",
        "training_data=[]"
      ],
      "metadata": {
        "id": "mJvRSdKzlTew"
      },
      "execution_count": 3,
      "outputs": []
    },
    {
      "cell_type": "code",
      "source": [
        "def create_trainingdata():\n",
        "    categories=os.listdir(train_dir)\n",
        "    for sub in categories:\n",
        "        path=os.path.join(train_dir,sub)\n",
        "        class_num=categories.index(sub)\n",
        "        for img in os.listdir(path):\n",
        "            img_array=cv2.imread(os.path.join(path,img))\n",
        "            new_array=cv2.resize(img_array,(250,250))\n",
        "            training_data.append([new_array,class_num])"
      ],
      "metadata": {
        "id": "qWNNVb74lbec"
      },
      "execution_count": 4,
      "outputs": []
    },
    {
      "cell_type": "code",
      "source": [
        "create_trainingdata()"
      ],
      "metadata": {
        "id": "_jcJy4vclfjW"
      },
      "execution_count": 5,
      "outputs": []
    },
    {
      "cell_type": "code",
      "source": [
        "random.shuffle(training_data)"
      ],
      "metadata": {
        "id": "qKaGIH-Plint"
      },
      "execution_count": 6,
      "outputs": []
    },
    {
      "cell_type": "code",
      "source": [
        "X=[]\n",
        "Y=[]\n",
        "for features,label in training_data:\n",
        "    X.append(features)\n",
        "    Y.append(label)\n",
        "\n",
        "X=np.array(X).reshape(-1,250,250,3)\n",
        "Y=np.array(Y).reshape(-1,1)"
      ],
      "metadata": {
        "id": "oWOo9a-JlqAg"
      },
      "execution_count": 7,
      "outputs": []
    },
    {
      "cell_type": "code",
      "source": [
        "x_train,x_test,y_train,y_test=train_test_split(X,Y)"
      ],
      "metadata": {
        "id": "qT2---fLlsrJ"
      },
      "execution_count": 8,
      "outputs": []
    },
    {
      "cell_type": "code",
      "source": [
        "x_train.shape"
      ],
      "metadata": {
        "colab": {
          "base_uri": "https://localhost:8080/"
        },
        "id": "FAlSxrhrl0HS",
        "outputId": "1e452abe-1db8-474c-f466-be2527bea366"
      },
      "execution_count": 9,
      "outputs": [
        {
          "output_type": "execute_result",
          "data": {
            "text/plain": [
              "(5625, 250, 250, 3)"
            ]
          },
          "metadata": {},
          "execution_count": 9
        }
      ]
    },
    {
      "cell_type": "code",
      "source": [
        "cnn=tf.keras.Sequential([\n",
        "        tf.keras.layers.Conv2D(128,(3,3),activation='relu',input_shape=(250,250,3)),\n",
        "        tf.keras.layers.MaxPooling2D(2,2),\n",
        "\n",
        "        tf.keras.layers.Conv2D(64, (3,3), activation=\"relu\"),\n",
        "        tf.keras.layers.MaxPooling2D(2,2),\n",
        "\n",
        "        tf.keras.layers.Conv2D(64, (3,3), activation=\"relu\"),\n",
        "        tf.keras.layers.MaxPooling2D(2,2),    \n",
        "        tf.keras.layers.Flatten(),\n",
        "        tf.keras.layers.Dropout(0.4),\n",
        "        tf.keras.layers.Dense(64, activation=\"relu\"),\n",
        "        tf.keras.layers.Dense(32, activation=\"relu\"),\n",
        "        tf.keras.layers.Dense(10, activation=\"softmax\")\n",
        "        ])\n",
        "\n",
        "cnn.compile(optimizer='adam',loss=\"sparse_categorical_crossentropy\",metrics=['accuracy'])   "
      ],
      "metadata": {
        "id": "bOYHlfDml40X"
      },
      "execution_count": 15,
      "outputs": []
    },
    {
      "cell_type": "code",
      "source": [
        "model1=cnn.fit(x_train,y_train,epochs=50,validation_data=(x_test,y_test))"
      ],
      "metadata": {
        "colab": {
          "base_uri": "https://localhost:8080/"
        },
        "id": "uLbpXGZ4maY7",
        "outputId": "216d538e-949e-451d-9a3d-605a1693e843"
      },
      "execution_count": 16,
      "outputs": [
        {
          "output_type": "stream",
          "name": "stdout",
          "text": [
            "Epoch 1/50\n",
            "176/176 [==============================] - 28s 156ms/step - loss: 4.1999 - accuracy: 0.2949 - val_loss: 1.2957 - val_accuracy: 0.3152\n",
            "Epoch 2/50\n",
            "176/176 [==============================] - 27s 153ms/step - loss: 1.2327 - accuracy: 0.4523 - val_loss: 1.3072 - val_accuracy: 0.3285\n",
            "Epoch 3/50\n",
            "176/176 [==============================] - 27s 152ms/step - loss: 1.3520 - accuracy: 0.3019 - val_loss: 1.2326 - val_accuracy: 0.3461\n",
            "Epoch 4/50\n",
            "176/176 [==============================] - 29s 164ms/step - loss: 1.2856 - accuracy: 0.3305 - val_loss: 1.1541 - val_accuracy: 0.5280\n",
            "Epoch 5/50\n",
            "176/176 [==============================] - 27s 153ms/step - loss: 0.9157 - accuracy: 0.6366 - val_loss: 0.5582 - val_accuracy: 0.7941\n",
            "Epoch 6/50\n",
            "176/176 [==============================] - 27s 153ms/step - loss: 0.6137 - accuracy: 0.7753 - val_loss: 0.3970 - val_accuracy: 0.8480\n",
            "Epoch 7/50\n",
            "176/176 [==============================] - 27s 152ms/step - loss: 0.4692 - accuracy: 0.8373 - val_loss: 0.3451 - val_accuracy: 0.8869\n",
            "Epoch 8/50\n",
            "176/176 [==============================] - 27s 152ms/step - loss: 0.3875 - accuracy: 0.8601 - val_loss: 0.3739 - val_accuracy: 0.8693\n",
            "Epoch 9/50\n",
            "176/176 [==============================] - 27s 153ms/step - loss: 0.3575 - accuracy: 0.8734 - val_loss: 0.2446 - val_accuracy: 0.9189\n",
            "Epoch 10/50\n",
            "176/176 [==============================] - 27s 152ms/step - loss: 0.3091 - accuracy: 0.8875 - val_loss: 0.2327 - val_accuracy: 0.9312\n",
            "Epoch 11/50\n",
            "176/176 [==============================] - 27s 153ms/step - loss: 0.2851 - accuracy: 0.8969 - val_loss: 0.2391 - val_accuracy: 0.9141\n",
            "Epoch 12/50\n",
            "176/176 [==============================] - 27s 152ms/step - loss: 0.2924 - accuracy: 0.9010 - val_loss: 0.2395 - val_accuracy: 0.9067\n",
            "Epoch 13/50\n",
            "176/176 [==============================] - 27s 152ms/step - loss: 0.2537 - accuracy: 0.9068 - val_loss: 0.1750 - val_accuracy: 0.9424\n",
            "Epoch 14/50\n",
            "176/176 [==============================] - 27s 152ms/step - loss: 0.2245 - accuracy: 0.9207 - val_loss: 0.1746 - val_accuracy: 0.9387\n",
            "Epoch 15/50\n",
            "176/176 [==============================] - 27s 152ms/step - loss: 0.2126 - accuracy: 0.9262 - val_loss: 0.2061 - val_accuracy: 0.9280\n",
            "Epoch 16/50\n",
            "176/176 [==============================] - 27s 152ms/step - loss: 0.2255 - accuracy: 0.9177 - val_loss: 0.1899 - val_accuracy: 0.9371\n",
            "Epoch 17/50\n",
            "176/176 [==============================] - 27s 152ms/step - loss: 0.1997 - accuracy: 0.9324 - val_loss: 0.1777 - val_accuracy: 0.9429\n",
            "Epoch 18/50\n",
            "176/176 [==============================] - 27s 152ms/step - loss: 0.1823 - accuracy: 0.9372 - val_loss: 0.1929 - val_accuracy: 0.9349\n",
            "Epoch 19/50\n",
            "176/176 [==============================] - 27s 152ms/step - loss: 0.1723 - accuracy: 0.9372 - val_loss: 0.1656 - val_accuracy: 0.9488\n",
            "Epoch 20/50\n",
            "176/176 [==============================] - 27s 152ms/step - loss: 0.2045 - accuracy: 0.9280 - val_loss: 0.2124 - val_accuracy: 0.9248\n",
            "Epoch 21/50\n",
            "176/176 [==============================] - 27s 152ms/step - loss: 0.2034 - accuracy: 0.9280 - val_loss: 0.1523 - val_accuracy: 0.9472\n",
            "Epoch 22/50\n",
            "176/176 [==============================] - 27s 152ms/step - loss: 0.1864 - accuracy: 0.9333 - val_loss: 0.1308 - val_accuracy: 0.9504\n",
            "Epoch 23/50\n",
            "176/176 [==============================] - 27s 151ms/step - loss: 0.1916 - accuracy: 0.9316 - val_loss: 0.1616 - val_accuracy: 0.9488\n",
            "Epoch 24/50\n",
            "176/176 [==============================] - 27s 152ms/step - loss: 0.1337 - accuracy: 0.9524 - val_loss: 0.1981 - val_accuracy: 0.9323\n",
            "Epoch 25/50\n",
            "176/176 [==============================] - 27s 151ms/step - loss: 0.1596 - accuracy: 0.9460 - val_loss: 0.1243 - val_accuracy: 0.9621\n",
            "Epoch 26/50\n",
            "176/176 [==============================] - 27s 152ms/step - loss: 0.1275 - accuracy: 0.9547 - val_loss: 0.1399 - val_accuracy: 0.9573\n",
            "Epoch 27/50\n",
            "176/176 [==============================] - 27s 151ms/step - loss: 0.1705 - accuracy: 0.9435 - val_loss: 0.1545 - val_accuracy: 0.9472\n",
            "Epoch 28/50\n",
            "176/176 [==============================] - 27s 151ms/step - loss: 0.2588 - accuracy: 0.9143 - val_loss: 0.1438 - val_accuracy: 0.9504\n",
            "Epoch 29/50\n",
            "176/176 [==============================] - 27s 151ms/step - loss: 0.1665 - accuracy: 0.9394 - val_loss: 0.1400 - val_accuracy: 0.9499\n",
            "Epoch 30/50\n",
            "176/176 [==============================] - 27s 151ms/step - loss: 0.1539 - accuracy: 0.9488 - val_loss: 0.1218 - val_accuracy: 0.9605\n",
            "Epoch 31/50\n",
            "176/176 [==============================] - 27s 151ms/step - loss: 0.1203 - accuracy: 0.9559 - val_loss: 0.1236 - val_accuracy: 0.9616\n",
            "Epoch 32/50\n",
            "176/176 [==============================] - 26s 151ms/step - loss: 0.1183 - accuracy: 0.9573 - val_loss: 0.1252 - val_accuracy: 0.9616\n",
            "Epoch 33/50\n",
            "176/176 [==============================] - 27s 151ms/step - loss: 0.1636 - accuracy: 0.9445 - val_loss: 0.1058 - val_accuracy: 0.9669\n",
            "Epoch 34/50\n",
            "176/176 [==============================] - 27s 151ms/step - loss: 0.1371 - accuracy: 0.9520 - val_loss: 0.0844 - val_accuracy: 0.9696\n",
            "Epoch 35/50\n",
            "176/176 [==============================] - 26s 151ms/step - loss: 0.1250 - accuracy: 0.9573 - val_loss: 0.1180 - val_accuracy: 0.9579\n",
            "Epoch 36/50\n",
            "176/176 [==============================] - 26s 151ms/step - loss: 0.1207 - accuracy: 0.9563 - val_loss: 0.2127 - val_accuracy: 0.9371\n",
            "Epoch 37/50\n",
            "176/176 [==============================] - 26s 151ms/step - loss: 0.1118 - accuracy: 0.9620 - val_loss: 0.0987 - val_accuracy: 0.9680\n",
            "Epoch 38/50\n",
            "176/176 [==============================] - 26s 151ms/step - loss: 0.1485 - accuracy: 0.9488 - val_loss: 0.1121 - val_accuracy: 0.9589\n",
            "Epoch 39/50\n",
            "176/176 [==============================] - 26s 151ms/step - loss: 0.0981 - accuracy: 0.9657 - val_loss: 0.0945 - val_accuracy: 0.9691\n",
            "Epoch 40/50\n",
            "176/176 [==============================] - 26s 151ms/step - loss: 0.1176 - accuracy: 0.9568 - val_loss: 0.1154 - val_accuracy: 0.9669\n",
            "Epoch 41/50\n",
            "176/176 [==============================] - 26s 150ms/step - loss: 0.1216 - accuracy: 0.9566 - val_loss: 0.1217 - val_accuracy: 0.9611\n",
            "Epoch 42/50\n",
            "176/176 [==============================] - 26s 151ms/step - loss: 0.1370 - accuracy: 0.9566 - val_loss: 0.1019 - val_accuracy: 0.9643\n",
            "Epoch 43/50\n",
            "176/176 [==============================] - 26s 150ms/step - loss: 0.1145 - accuracy: 0.9604 - val_loss: 0.1623 - val_accuracy: 0.9504\n",
            "Epoch 44/50\n",
            "176/176 [==============================] - 26s 150ms/step - loss: 0.1097 - accuracy: 0.9621 - val_loss: 0.0894 - val_accuracy: 0.9707\n",
            "Epoch 45/50\n",
            "176/176 [==============================] - 27s 151ms/step - loss: 0.1111 - accuracy: 0.9614 - val_loss: 0.1237 - val_accuracy: 0.9600\n",
            "Epoch 46/50\n",
            "176/176 [==============================] - 26s 150ms/step - loss: 0.1242 - accuracy: 0.9561 - val_loss: 0.0996 - val_accuracy: 0.9653\n",
            "Epoch 47/50\n",
            "176/176 [==============================] - 26s 150ms/step - loss: 0.1066 - accuracy: 0.9653 - val_loss: 0.1501 - val_accuracy: 0.9557\n",
            "Epoch 48/50\n",
            "176/176 [==============================] - 26s 150ms/step - loss: 0.1038 - accuracy: 0.9653 - val_loss: 0.1355 - val_accuracy: 0.9552\n",
            "Epoch 49/50\n",
            "176/176 [==============================] - 26s 150ms/step - loss: 0.1112 - accuracy: 0.9618 - val_loss: 0.1224 - val_accuracy: 0.9589\n",
            "Epoch 50/50\n",
            "176/176 [==============================] - 26s 150ms/step - loss: 0.0911 - accuracy: 0.9691 - val_loss: 0.0744 - val_accuracy: 0.9776\n"
          ]
        }
      ]
    },
    {
      "cell_type": "code",
      "source": [
        "cnn.save(\"CNNRPLP.h5\")"
      ],
      "metadata": {
        "id": "4JKZ9Ds_0J2x"
      },
      "execution_count": 22,
      "outputs": []
    },
    {
      "cell_type": "code",
      "source": [
        "test_loss,test_acc=cnn.evaluate(x_test,y_test)"
      ],
      "metadata": {
        "colab": {
          "base_uri": "https://localhost:8080/"
        },
        "id": "SJhoJGfl0UL0",
        "outputId": "22aa89ac-422c-4999-b764-960d34a664e6"
      },
      "execution_count": 17,
      "outputs": [
        {
          "output_type": "stream",
          "name": "stdout",
          "text": [
            "59/59 [==============================] - 4s 67ms/step - loss: 0.0744 - accuracy: 0.9776\n"
          ]
        }
      ]
    },
    {
      "cell_type": "code",
      "source": [
        "plt.plot(model1.history['accuracy'])\n",
        "plt.plot(model1.history['val_accuracy'])\n",
        "plt.title('model accuracy')\n",
        "plt.ylabel('accuracy')\n",
        "plt.xlabel('epoch')\n",
        "plt.legend(['train', 'val'], loc='upper left')\n",
        "plt.show()"
      ],
      "metadata": {
        "colab": {
          "base_uri": "https://localhost:8080/",
          "height": 295
        },
        "id": "pwlFl5PY0YOD",
        "outputId": "22d8a4d1-87d3-4eaf-f552-6a66d63d77f9"
      },
      "execution_count": 18,
      "outputs": [
        {
          "output_type": "display_data",
          "data": {
            "text/plain": [
              "<Figure size 432x288 with 1 Axes>"
            ],
            "image/png": "[encoded data removed]"
          },
          "metadata": {
            "needs_background": "light"
          }
        }
      ]
    },
    {
      "cell_type": "code",
      "source": [
        "plt.plot(model1.history['loss'])\n",
        "plt.plot(model1.history['val_loss'])\n",
        "plt.title('model loss')\n",
        "plt.ylabel('loss')\n",
        "plt.xlabel('epoch')\n",
        "plt.legend(['train', 'val'], loc='upper left')\n",
        "plt.show()"
      ],
      "metadata": {
        "colab": {
          "base_uri": "https://localhost:8080/",
          "height": 295
        },
        "id": "WW0IQO960byn",
        "outputId": "5981aae8-c0fd-447a-d5f5-6830e2619e0b"
      },
      "execution_count": 19,
      "outputs": [
        {
          "output_type": "display_data",
          "data": {
            "text/plain": [
              "<Figure size 432x288 with 1 Axes>"
            ],
            "image/png": "[encoded data removed]"
          },
          "metadata": {
            "needs_background": "light"
          }
        }
      ]
    },
    {
      "cell_type": "code",
      "source": [
        "model_pred=cnn.predict(x_test)\n",
        "model_pred=np.argmax(model_pred[:20],axis=1)\n",
        "actual=y_test[:20].reshape(-1)\n",
        "\n",
        "print(\"Prediction:\")\n",
        "print(model_pred)\n",
        "print(\"Actual :\")\n",
        "print(actual)"
      ],
      "metadata": {
        "colab": {
          "base_uri": "https://localhost:8080/"
        },
        "id": "EVEVQclz0trf",
        "outputId": "4277b70d-7fb9-400e-90f8-f3d7d4f95960"
      },
      "execution_count": 21,
      "outputs": [
        {
          "output_type": "stream",
          "name": "stdout",
          "text": [
            "Prediction:\n",
            "[4 3 2 9 1 8 4 7 4 8 1 9 3 2 8 5 3 0 7 0]\n",
            "Actual :\n",
            "[4 3 2 9 1 8 4 7 4 8 1 9 3 2 8 5 3 0 7 0]\n"
          ]
        }
      ]
    }
  ]
}