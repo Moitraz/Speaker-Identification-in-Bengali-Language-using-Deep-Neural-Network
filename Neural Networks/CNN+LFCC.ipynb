{
  "nbformat": 4,
  "nbformat_minor": 0,
  "metadata": {
    "colab": {
      "name": "CNN+LFCC.ipynb",
      "provenance": [],
      "collapsed_sections": []
    },
    "kernelspec": {
      "name": "python3",
      "display_name": "Python 3"
    },
    "language_info": {
      "name": "python"
    },
    "accelerator": "GPU"
  },
  "cells": [
    {
      "cell_type": "code",
      "execution_count": 1,
      "metadata": {
        "id": "OBx1TMaE-UR7"
      },
      "outputs": [],
      "source": [
        "import tensorflow as tf\n",
        "from google.colab import drive\n",
        "from google.colab import files\n",
        "import os\n",
        "import cv2\n",
        "import random\n",
        "from sklearn.model_selection import train_test_split\n",
        "import numpy as np\n",
        "import matplotlib.pyplot as plt"
      ]
    },
    {
      "cell_type": "code",
      "source": [
        "filepath=os.listdir('drive/MyDrive/LFCC')\n",
        "for sub in filepath:\n",
        "  print(sub)"
      ],
      "metadata": {
        "colab": {
          "base_uri": "https://localhost:8080/"
        },
        "id": "O8zKA9D5-hS_",
        "outputId": "dcf0b71e-cc81-4630-a01e-b85d502d84b6"
      },
      "execution_count": 2,
      "outputs": [
        {
          "output_type": "stream",
          "name": "stdout",
          "text": [
            "Person 1\n",
            "Person 2\n",
            "Person 3\n"
          ]
        }
      ]
    },
    {
      "cell_type": "code",
      "source": [
        "train_dir='drive/MyDrive/LFCC'\n",
        "training_data=[]"
      ],
      "metadata": {
        "id": "eslFZvsI-oKC"
      },
      "execution_count": 3,
      "outputs": []
    },
    {
      "cell_type": "code",
      "source": [
        "def create_trainingdata():\n",
        "    categories=os.listdir(train_dir)\n",
        "    for sub in categories:\n",
        "        path=os.path.join(train_dir,sub)\n",
        "        class_num=categories.index(sub)\n",
        "        for img in os.listdir(path):\n",
        "            img_array=cv2.imread(os.path.join(path,img))\n",
        "            new_array=cv2.resize(img_array,(250,250))\n",
        "            training_data.append([new_array,class_num])"
      ],
      "metadata": {
        "id": "_ZHEACK1-ry8"
      },
      "execution_count": 4,
      "outputs": []
    },
    {
      "cell_type": "code",
      "source": [
        "create_trainingdata()"
      ],
      "metadata": {
        "id": "fCFYLo0v-t32"
      },
      "execution_count": 5,
      "outputs": []
    },
    {
      "cell_type": "code",
      "source": [
        "random.shuffle(training_data)"
      ],
      "metadata": {
        "id": "P3fkLw7C-vit"
      },
      "execution_count": 6,
      "outputs": []
    },
    {
      "cell_type": "code",
      "source": [
        "X=[]\n",
        "Y=[]\n",
        "for features,label in training_data:\n",
        "    X.append(features)\n",
        "    Y.append(label)\n",
        "\n",
        "X=np.array(X).reshape(-1,250,250,3)\n",
        "Y=np.array(Y).reshape(-1,1)"
      ],
      "metadata": {
        "id": "Yz6F_1Zy-yfK"
      },
      "execution_count": 7,
      "outputs": []
    },
    {
      "cell_type": "code",
      "source": [
        "x_train,x_test,y_train,y_test=train_test_split(X,Y)"
      ],
      "metadata": {
        "id": "ZTXJL0VK-zF2"
      },
      "execution_count": 8,
      "outputs": []
    },
    {
      "cell_type": "code",
      "source": [
        "cnn=tf.keras.Sequential([\n",
        "        tf.keras.layers.Conv2D(64,(3,3),activation='relu',input_shape=(250,250,3)),\n",
        "        tf.keras.layers.MaxPooling2D(2,2),\n",
        "      \n",
        "        tf.keras.layers.Conv2D(64, (3,3), activation=\"relu\"),\n",
        "        tf.keras.layers.MaxPooling2D(2,2),\n",
        "\n",
        "        tf.keras.layers.Conv2D(32, (3,3), activation=\"relu\"),\n",
        "        tf.keras.layers.MaxPooling2D(2,2),    \n",
        "        tf.keras.layers.Flatten(),\n",
        "        tf.keras.layers.Dropout(0.04),\n",
        "        tf.keras.layers.Dense(32, activation=\"relu\"),\n",
        "        tf.keras.layers.Dense(5, activation=\"softmax\")\n",
        "        ])\n",
        "\n",
        "cnn.compile(optimizer='adam',loss=\"sparse_categorical_crossentropy\",metrics=['accuracy'])   "
      ],
      "metadata": {
        "id": "IFTMj50e-1Fm"
      },
      "execution_count": 14,
      "outputs": []
    },
    {
      "cell_type": "code",
      "source": [
        "model1=cnn.fit(x_train,y_train,epochs=50,validation_data=(x_test,y_test))"
      ],
      "metadata": {
        "colab": {
          "base_uri": "https://localhost:8080/"
        },
        "id": "KAIXiTWa_T0E",
        "outputId": "2160b26e-a3b6-4fe3-ef20-4c6f505aa881"
      },
      "execution_count": 15,
      "outputs": [
        {
          "output_type": "stream",
          "name": "stdout",
          "text": [
            "Epoch 1/50\n",
            "54/54 [==============================] - 5s 91ms/step - loss: 20.2904 - accuracy: 0.7556 - val_loss: 0.4573 - val_accuracy: 0.8169\n",
            "Epoch 2/50\n",
            "54/54 [==============================] - 5s 86ms/step - loss: 0.4188 - accuracy: 0.8373 - val_loss: 0.1875 - val_accuracy: 0.9437\n",
            "Epoch 3/50\n",
            "54/54 [==============================] - 5s 86ms/step - loss: 0.2599 - accuracy: 0.9136 - val_loss: 0.1612 - val_accuracy: 0.9472\n",
            "Epoch 4/50\n",
            "54/54 [==============================] - 5s 86ms/step - loss: 0.1548 - accuracy: 0.9471 - val_loss: 0.1636 - val_accuracy: 0.9437\n",
            "Epoch 5/50\n",
            "54/54 [==============================] - 5s 86ms/step - loss: 0.1620 - accuracy: 0.9489 - val_loss: 0.1526 - val_accuracy: 0.9472\n",
            "Epoch 6/50\n",
            "54/54 [==============================] - 5s 86ms/step - loss: 0.1460 - accuracy: 0.9565 - val_loss: 0.1953 - val_accuracy: 0.9472\n",
            "Epoch 7/50\n",
            "54/54 [==============================] - 5s 86ms/step - loss: 0.4082 - accuracy: 0.8890 - val_loss: 0.3463 - val_accuracy: 0.9032\n",
            "Epoch 8/50\n",
            "54/54 [==============================] - 5s 87ms/step - loss: 0.1584 - accuracy: 0.9501 - val_loss: 0.1575 - val_accuracy: 0.9489\n",
            "Epoch 9/50\n",
            "54/54 [==============================] - 5s 86ms/step - loss: 0.1449 - accuracy: 0.9524 - val_loss: 0.2323 - val_accuracy: 0.9384\n",
            "Epoch 10/50\n",
            "54/54 [==============================] - 5s 87ms/step - loss: 0.1786 - accuracy: 0.9501 - val_loss: 0.1642 - val_accuracy: 0.9437\n",
            "Epoch 11/50\n",
            "54/54 [==============================] - 5s 87ms/step - loss: 0.1448 - accuracy: 0.9565 - val_loss: 0.1698 - val_accuracy: 0.9419\n",
            "Epoch 12/50\n",
            "54/54 [==============================] - 5s 87ms/step - loss: 0.1354 - accuracy: 0.9530 - val_loss: 0.1735 - val_accuracy: 0.9366\n",
            "Epoch 13/50\n",
            "54/54 [==============================] - 5s 88ms/step - loss: 0.1369 - accuracy: 0.9506 - val_loss: 0.1837 - val_accuracy: 0.9437\n",
            "Epoch 14/50\n",
            "54/54 [==============================] - 5s 87ms/step - loss: 0.1410 - accuracy: 0.9583 - val_loss: 0.2448 - val_accuracy: 0.9173\n",
            "Epoch 15/50\n",
            "54/54 [==============================] - 5s 88ms/step - loss: 0.1375 - accuracy: 0.9612 - val_loss: 0.3949 - val_accuracy: 0.9067\n",
            "Epoch 16/50\n",
            "54/54 [==============================] - 5s 87ms/step - loss: 0.1682 - accuracy: 0.9483 - val_loss: 0.1682 - val_accuracy: 0.9419\n",
            "Epoch 17/50\n",
            "54/54 [==============================] - 5s 87ms/step - loss: 0.1231 - accuracy: 0.9530 - val_loss: 0.2306 - val_accuracy: 0.9173\n",
            "Epoch 18/50\n",
            "54/54 [==============================] - 5s 87ms/step - loss: 0.1113 - accuracy: 0.9612 - val_loss: 0.1669 - val_accuracy: 0.9331\n",
            "Epoch 19/50\n",
            "54/54 [==============================] - 5s 87ms/step - loss: 0.1041 - accuracy: 0.9630 - val_loss: 0.1461 - val_accuracy: 0.9472\n",
            "Epoch 20/50\n",
            "54/54 [==============================] - 5s 87ms/step - loss: 0.1150 - accuracy: 0.9647 - val_loss: 0.2066 - val_accuracy: 0.9313\n",
            "Epoch 21/50\n",
            "54/54 [==============================] - 5s 87ms/step - loss: 0.1235 - accuracy: 0.9659 - val_loss: 0.1609 - val_accuracy: 0.9349\n",
            "Epoch 22/50\n",
            "54/54 [==============================] - 5s 87ms/step - loss: 0.1079 - accuracy: 0.9642 - val_loss: 0.1425 - val_accuracy: 0.9472\n",
            "Epoch 23/50\n",
            "54/54 [==============================] - 5s 87ms/step - loss: 0.1018 - accuracy: 0.9706 - val_loss: 0.1551 - val_accuracy: 0.9419\n",
            "Epoch 24/50\n",
            "54/54 [==============================] - 5s 87ms/step - loss: 0.0964 - accuracy: 0.9724 - val_loss: 0.1669 - val_accuracy: 0.9401\n",
            "Epoch 25/50\n",
            "54/54 [==============================] - 5s 88ms/step - loss: 0.0822 - accuracy: 0.9671 - val_loss: 0.1764 - val_accuracy: 0.9454\n",
            "Epoch 26/50\n",
            "54/54 [==============================] - 5s 88ms/step - loss: 0.0663 - accuracy: 0.9812 - val_loss: 0.1379 - val_accuracy: 0.9525\n",
            "Epoch 27/50\n",
            "54/54 [==============================] - 5s 87ms/step - loss: 0.0690 - accuracy: 0.9783 - val_loss: 0.1372 - val_accuracy: 0.9454\n",
            "Epoch 28/50\n",
            "54/54 [==============================] - 5s 88ms/step - loss: 0.1584 - accuracy: 0.9595 - val_loss: 0.1588 - val_accuracy: 0.9384\n",
            "Epoch 29/50\n",
            "54/54 [==============================] - 5s 87ms/step - loss: 0.0988 - accuracy: 0.9706 - val_loss: 0.1645 - val_accuracy: 0.9489\n",
            "Epoch 30/50\n",
            "54/54 [==============================] - 5s 87ms/step - loss: 0.0840 - accuracy: 0.9718 - val_loss: 0.1459 - val_accuracy: 0.9507\n",
            "Epoch 31/50\n",
            "54/54 [==============================] - 5s 88ms/step - loss: 0.0633 - accuracy: 0.9812 - val_loss: 0.1517 - val_accuracy: 0.9507\n",
            "Epoch 32/50\n",
            "54/54 [==============================] - 5s 88ms/step - loss: 0.0596 - accuracy: 0.9830 - val_loss: 0.2262 - val_accuracy: 0.9454\n",
            "Epoch 33/50\n",
            "54/54 [==============================] - 5s 88ms/step - loss: 0.0460 - accuracy: 0.9865 - val_loss: 0.1372 - val_accuracy: 0.9507\n",
            "Epoch 34/50\n",
            "54/54 [==============================] - 5s 88ms/step - loss: 0.0383 - accuracy: 0.9906 - val_loss: 0.1431 - val_accuracy: 0.9560\n",
            "Epoch 35/50\n",
            "54/54 [==============================] - 5s 88ms/step - loss: 0.0385 - accuracy: 0.9865 - val_loss: 0.1442 - val_accuracy: 0.9542\n",
            "Epoch 36/50\n",
            "54/54 [==============================] - 5s 89ms/step - loss: 0.0539 - accuracy: 0.9812 - val_loss: 0.1606 - val_accuracy: 0.9560\n",
            "Epoch 37/50\n",
            "54/54 [==============================] - 5s 90ms/step - loss: 0.0459 - accuracy: 0.9865 - val_loss: 0.1409 - val_accuracy: 0.9525\n",
            "Epoch 38/50\n",
            "54/54 [==============================] - 5s 88ms/step - loss: 0.0304 - accuracy: 0.9918 - val_loss: 0.1597 - val_accuracy: 0.9595\n",
            "Epoch 39/50\n",
            "54/54 [==============================] - 5s 88ms/step - loss: 0.0381 - accuracy: 0.9871 - val_loss: 0.1556 - val_accuracy: 0.9630\n",
            "Epoch 40/50\n",
            "54/54 [==============================] - 5s 88ms/step - loss: 0.0274 - accuracy: 0.9929 - val_loss: 0.1653 - val_accuracy: 0.9525\n",
            "Epoch 41/50\n",
            "54/54 [==============================] - 5s 88ms/step - loss: 0.0263 - accuracy: 0.9888 - val_loss: 0.1800 - val_accuracy: 0.9577\n",
            "Epoch 42/50\n",
            "54/54 [==============================] - 5s 89ms/step - loss: 0.0329 - accuracy: 0.9912 - val_loss: 0.2359 - val_accuracy: 0.9331\n",
            "Epoch 43/50\n",
            "54/54 [==============================] - 5s 88ms/step - loss: 0.0280 - accuracy: 0.9900 - val_loss: 0.1695 - val_accuracy: 0.9542\n",
            "Epoch 44/50\n",
            "54/54 [==============================] - 5s 88ms/step - loss: 0.0419 - accuracy: 0.9853 - val_loss: 0.2120 - val_accuracy: 0.9560\n",
            "Epoch 45/50\n",
            "54/54 [==============================] - 5s 88ms/step - loss: 0.0494 - accuracy: 0.9847 - val_loss: 0.1639 - val_accuracy: 0.9613\n",
            "Epoch 46/50\n",
            "54/54 [==============================] - 5s 88ms/step - loss: 0.0264 - accuracy: 0.9888 - val_loss: 0.1384 - val_accuracy: 0.9648\n",
            "Epoch 47/50\n",
            "54/54 [==============================] - 5s 90ms/step - loss: 0.0171 - accuracy: 0.9959 - val_loss: 0.1449 - val_accuracy: 0.9648\n",
            "Epoch 48/50\n",
            "54/54 [==============================] - 5s 88ms/step - loss: 0.0483 - accuracy: 0.9871 - val_loss: 0.1674 - val_accuracy: 0.9577\n",
            "Epoch 49/50\n",
            "54/54 [==============================] - 5s 88ms/step - loss: 0.0116 - accuracy: 0.9965 - val_loss: 0.1704 - val_accuracy: 0.9595\n",
            "Epoch 50/50\n",
            "54/54 [==============================] - 5s 88ms/step - loss: 0.0231 - accuracy: 0.9924 - val_loss: 0.1603 - val_accuracy: 0.9613\n"
          ]
        }
      ]
    },
    {
      "cell_type": "code",
      "source": [
        "plt.plot(model1.history['loss'])\n",
        "plt.plot(model1.history['val_loss'])\n",
        "plt.title('model loss')\n",
        "plt.ylabel('loss')\n",
        "plt.xlabel('epoch')\n",
        "plt.legend(['train', 'val'], loc='upper left')\n",
        "plt.show()"
      ],
      "metadata": {
        "colab": {
          "base_uri": "https://localhost:8080/",
          "height": 295
        },
        "id": "a-zjnkptBl3H",
        "outputId": "dd3a489f-1e20-4161-d998-07cfddad1e38"
      },
      "execution_count": 16,
      "outputs": [
        {
          "output_type": "display_data",
          "data": {
            "text/plain": [
              "<Figure size 432x288 with 1 Axes>"
            ],
            "image/png": "[encoded data removed]"
          },
          "metadata": {
            "needs_background": "light"
          }
        }
      ]
    },
    {
      "cell_type": "code",
      "source": [
        "cnn.save(\"CNNLFCC.h5\")"
      ],
      "metadata": {
        "id": "wYjQsQ9tC3uo"
      },
      "execution_count": 17,
      "outputs": []
    },
    {
      "cell_type": "code",
      "source": [
        "plt.plot(model1.history['accuracy'])\n",
        "plt.plot(model1.history['val_accuracy'])\n",
        "plt.title('model accuracy')\n",
        "plt.ylabel('accuracy')\n",
        "plt.xlabel('epoch')\n",
        "plt.legend(['train', 'val'], loc='upper left')\n",
        "plt.show()"
      ],
      "metadata": {
        "colab": {
          "base_uri": "https://localhost:8080/",
          "height": 295
        },
        "id": "YaCGZesKC-lU",
        "outputId": "b1c0014a-c5ee-4a76-e2b9-13c17ef2a04e"
      },
      "execution_count": 18,
      "outputs": [
        {
          "output_type": "display_data",
          "data": {
            "text/plain": [
              "<Figure size 432x288 with 1 Axes>"
            ],
            "image/png": "[encoded data removed]"
          },
          "metadata": {
            "needs_background": "light"
          }
        }
      ]
    },
    {
      "cell_type": "code",
      "source": [
        "model_pred=cnn.predict(x_test)\n",
        "model_pred=np.argmax(model_pred[:20],axis=1)\n",
        "actual=y_test[:20].reshape(-1)\n",
        "\n",
        "print(\"Prediction:\")\n",
        "print(model_pred)\n",
        "print(\"Actual :\")\n",
        "print(actual)"
      ],
      "metadata": {
        "colab": {
          "base_uri": "https://localhost:8080/"
        },
        "id": "qrg4n_XjDKel",
        "outputId": "6a343286-9391-4fea-aa5f-d9d25ccb99cc"
      },
      "execution_count": 20,
      "outputs": [
        {
          "output_type": "stream",
          "name": "stdout",
          "text": [
            "Prediction:\n",
            "[2 2 1 0 0 0 1 2 0 1 0 2 1 0 2 2 1 2 2 1]\n",
            "Actual :\n",
            "[2 2 1 0 0 0 1 2 0 1 0 2 1 0 2 2 1 0 2 1]\n"
          ]
        }
      ]
    },
    {
      "cell_type": "code",
      "source": [
        "test_loss,test_acc=cnn.evaluate(x_test,y_test)"
      ],
      "metadata": {
        "colab": {
          "base_uri": "https://localhost:8080/"
        },
        "id": "3WcMKnMzDiA9",
        "outputId": "498d9271-c93f-4c3c-e9b3-dfedc246f2ff"
      },
      "execution_count": 21,
      "outputs": [
        {
          "output_type": "stream",
          "name": "stdout",
          "text": [
            "18/18 [==============================] - 1s 34ms/step - loss: 0.1603 - accuracy: 0.9613\n"
          ]
        }
      ]
    }
  ]
}