{
  "nbformat": 4,
  "nbformat_minor": 0,
  "metadata": {
    "colab": {
      "name": "CNN+LFCC.ipynb",
      "provenance": [],
      "collapsed_sections": []
    },
    "kernelspec": {
      "name": "python3",
      "display_name": "Python 3"
    },
    "language_info": {
      "name": "python"
    },
    "accelerator": "GPU"
  },
  "cells": [
    {
      "cell_type": "code",
      "execution_count": 1,
      "metadata": {
        "id": "OBx1TMaE-UR7"
      },
      "outputs": [],
      "source": [
        "import tensorflow as tf\n",
        "from google.colab import drive\n",
        "from google.colab import files\n",
        "import os\n",
        "import cv2\n",
        "import random\n",
        "from sklearn.model_selection import train_test_split\n",
        "import numpy as np\n",
        "import matplotlib.pyplot as plt"
      ]
    },
    {
      "cell_type": "code",
      "source": [
        "filepath=os.listdir('drive/MyDrive/LFCC')\n",
        "for sub in filepath:\n",
        "  print(sub)"
      ],
      "metadata": {
        "colab": {
          "base_uri": "https://localhost:8080/"
        },
        "id": "O8zKA9D5-hS_",
        "outputId": "cefa0edb-cc99-4b88-d8c8-49e59f744ed6"
      },
      "execution_count": 2,
      "outputs": [
        {
          "output_type": "stream",
          "name": "stdout",
          "text": [
            "Person 9\n",
            "Person 5\n",
            "Person 3\n",
            "Person 1\n",
            "Person 2\n"
          ]
        }
      ]
    },
    {
      "cell_type": "code",
      "source": [
        "train_dir='drive/MyDrive/LFCC'\n",
        "training_data=[]"
      ],
      "metadata": {
        "id": "eslFZvsI-oKC"
      },
      "execution_count": 3,
      "outputs": []
    },
    {
      "cell_type": "code",
      "source": [
        "def create_trainingdata():\n",
        "    categories=os.listdir(train_dir)\n",
        "    for sub in categories:\n",
        "        path=os.path.join(train_dir,sub)\n",
        "        class_num=categories.index(sub)\n",
        "        for img in os.listdir(path):\n",
        "            img_array=cv2.imread(os.path.join(path,img))\n",
        "            new_array=cv2.resize(img_array,(250,250))\n",
        "            training_data.append([new_array,class_num])"
      ],
      "metadata": {
        "id": "_ZHEACK1-ry8"
      },
      "execution_count": 4,
      "outputs": []
    },
    {
      "cell_type": "code",
      "source": [
        "create_trainingdata()"
      ],
      "metadata": {
        "id": "fCFYLo0v-t32"
      },
      "execution_count": 5,
      "outputs": []
    },
    {
      "cell_type": "code",
      "source": [
        "random.shuffle(training_data)"
      ],
      "metadata": {
        "id": "P3fkLw7C-vit"
      },
      "execution_count": 6,
      "outputs": []
    },
    {
      "cell_type": "code",
      "source": [
        "X=[]\n",
        "Y=[]\n",
        "for features,label in training_data:\n",
        "    X.append(features)\n",
        "    Y.append(label)\n",
        "\n",
        "X=np.array(X).reshape(-1,250,250,3)\n",
        "Y=np.array(Y).reshape(-1,1)"
      ],
      "metadata": {
        "id": "Yz6F_1Zy-yfK"
      },
      "execution_count": 7,
      "outputs": []
    },
    {
      "cell_type": "code",
      "source": [
        "x_train,x_test,y_train,y_test=train_test_split(X,Y)"
      ],
      "metadata": {
        "id": "ZTXJL0VK-zF2"
      },
      "execution_count": 8,
      "outputs": []
    },
    {
      "cell_type": "code",
      "source": [
        "cnn=tf.keras.Sequential([\n",
        "        tf.keras.layers.Conv2D(128,(3,3),activation='relu',input_shape=(250,250,3)),\n",
        "        tf.keras.layers.MaxPooling2D(2,2),\n",
        "\n",
        "        tf.keras.layers.Conv2D(64, (3,3), activation=\"relu\"),\n",
        "        tf.keras.layers.MaxPooling2D(2,2),\n",
        "      \n",
        "        tf.keras.layers.Conv2D(64, (3,3), activation=\"relu\"),\n",
        "        tf.keras.layers.MaxPooling2D(2,2),\n",
        "\n",
        "        tf.keras.layers.Conv2D(32, (3,3), activation=\"relu\"),\n",
        "        tf.keras.layers.MaxPooling2D(2,2),    \n",
        "        tf.keras.layers.Flatten(),\n",
        "        tf.keras.layers.Dropout(0.4),\n",
        "        tf.keras.layers.Dense(32, activation=\"relu\"),\n",
        "        tf.keras.layers.Dense(5, activation=\"softmax\")\n",
        "        ])\n",
        "\n",
        "cnn.compile(optimizer='adam',loss=\"sparse_categorical_crossentropy\",metrics=['accuracy'])   "
      ],
      "metadata": {
        "id": "IFTMj50e-1Fm"
      },
      "execution_count": 17,
      "outputs": []
    },
    {
      "cell_type": "code",
      "source": [
        "model1=cnn.fit(x_train,y_train,epochs=100,validation_data=(x_test,y_test))"
      ],
      "metadata": {
        "colab": {
          "base_uri": "https://localhost:8080/"
        },
        "id": "KAIXiTWa_T0E",
        "outputId": "d8c714d1-2abd-4d85-84cb-851f637a8ff0"
      },
      "execution_count": 18,
      "outputs": [
        {
          "output_type": "stream",
          "name": "stdout",
          "text": [
            "Epoch 1/100\n",
            "89/89 [==============================] - 14s 156ms/step - loss: 3.0166 - accuracy: 0.5433 - val_loss: 0.5037 - val_accuracy: 0.7731\n",
            "Epoch 2/100\n",
            "89/89 [==============================] - 14s 153ms/step - loss: 0.5864 - accuracy: 0.7262 - val_loss: 0.5452 - val_accuracy: 0.7200\n",
            "Epoch 3/100\n",
            "89/89 [==============================] - 14s 154ms/step - loss: 0.5444 - accuracy: 0.7372 - val_loss: 0.4721 - val_accuracy: 0.7285\n",
            "Epoch 4/100\n",
            "89/89 [==============================] - 14s 153ms/step - loss: 0.5641 - accuracy: 0.7319 - val_loss: 0.4885 - val_accuracy: 0.7815\n",
            "Epoch 5/100\n",
            "89/89 [==============================] - 14s 152ms/step - loss: 0.5249 - accuracy: 0.7467 - val_loss: 0.4678 - val_accuracy: 0.7688\n",
            "Epoch 6/100\n",
            "89/89 [==============================] - 14s 152ms/step - loss: 0.5178 - accuracy: 0.7524 - val_loss: 0.4003 - val_accuracy: 0.8208\n",
            "Epoch 7/100\n",
            "89/89 [==============================] - 13s 152ms/step - loss: 0.4909 - accuracy: 0.7694 - val_loss: 0.4052 - val_accuracy: 0.8431\n",
            "Epoch 8/100\n",
            "89/89 [==============================] - 14s 152ms/step - loss: 0.4471 - accuracy: 0.7966 - val_loss: 0.4073 - val_accuracy: 0.8123\n",
            "Epoch 9/100\n",
            "89/89 [==============================] - 14s 152ms/step - loss: 0.4190 - accuracy: 0.8037 - val_loss: 0.4500 - val_accuracy: 0.7243\n",
            "Epoch 10/100\n",
            "89/89 [==============================] - 14s 152ms/step - loss: 0.4157 - accuracy: 0.8104 - val_loss: 0.3673 - val_accuracy: 0.8812\n",
            "Epoch 11/100\n",
            "89/89 [==============================] - 14s 152ms/step - loss: 0.3996 - accuracy: 0.8288 - val_loss: 0.3316 - val_accuracy: 0.8834\n",
            "Epoch 12/100\n",
            "89/89 [==============================] - 14s 152ms/step - loss: 0.3827 - accuracy: 0.8352 - val_loss: 0.3651 - val_accuracy: 0.8791\n",
            "Epoch 13/100\n",
            "89/89 [==============================] - 14s 152ms/step - loss: 0.3426 - accuracy: 0.8656 - val_loss: 0.2942 - val_accuracy: 0.9035\n",
            "Epoch 14/100\n",
            "89/89 [==============================] - 14s 152ms/step - loss: 0.3052 - accuracy: 0.8769 - val_loss: 0.2414 - val_accuracy: 0.9109\n",
            "Epoch 15/100\n",
            "89/89 [==============================] - 13s 152ms/step - loss: 0.3422 - accuracy: 0.8642 - val_loss: 0.2654 - val_accuracy: 0.9120\n",
            "Epoch 16/100\n",
            "89/89 [==============================] - 14s 152ms/step - loss: 0.2963 - accuracy: 0.8829 - val_loss: 0.2435 - val_accuracy: 0.9194\n",
            "Epoch 17/100\n",
            "89/89 [==============================] - 14s 152ms/step - loss: 0.2663 - accuracy: 0.8978 - val_loss: 0.3427 - val_accuracy: 0.8887\n",
            "Epoch 18/100\n",
            "89/89 [==============================] - 14s 152ms/step - loss: 0.2788 - accuracy: 0.8956 - val_loss: 0.2127 - val_accuracy: 0.9300\n",
            "Epoch 19/100\n",
            "89/89 [==============================] - 14s 152ms/step - loss: 0.2547 - accuracy: 0.9063 - val_loss: 0.1849 - val_accuracy: 0.9470\n",
            "Epoch 20/100\n",
            "89/89 [==============================] - 14s 153ms/step - loss: 0.2867 - accuracy: 0.8911 - val_loss: 0.2892 - val_accuracy: 0.8834\n",
            "Epoch 21/100\n",
            "89/89 [==============================] - 15s 165ms/step - loss: 0.2654 - accuracy: 0.9017 - val_loss: 0.2035 - val_accuracy: 0.9385\n",
            "Epoch 22/100\n",
            "89/89 [==============================] - 14s 153ms/step - loss: 0.2360 - accuracy: 0.9123 - val_loss: 0.1823 - val_accuracy: 0.9459\n",
            "Epoch 23/100\n",
            "89/89 [==============================] - 14s 153ms/step - loss: 0.2666 - accuracy: 0.9045 - val_loss: 0.2007 - val_accuracy: 0.9449\n",
            "Epoch 24/100\n",
            "89/89 [==============================] - 14s 153ms/step - loss: 0.2335 - accuracy: 0.9140 - val_loss: 0.2005 - val_accuracy: 0.9311\n",
            "Epoch 25/100\n",
            "89/89 [==============================] - 14s 153ms/step - loss: 0.2259 - accuracy: 0.9201 - val_loss: 0.1717 - val_accuracy: 0.9470\n",
            "Epoch 26/100\n",
            "89/89 [==============================] - 14s 153ms/step - loss: 0.2124 - accuracy: 0.9190 - val_loss: 0.3182 - val_accuracy: 0.8929\n",
            "Epoch 27/100\n",
            "89/89 [==============================] - 14s 153ms/step - loss: 0.2011 - accuracy: 0.9232 - val_loss: 0.1721 - val_accuracy: 0.9374\n",
            "Epoch 28/100\n",
            "89/89 [==============================] - 14s 153ms/step - loss: 0.2262 - accuracy: 0.9158 - val_loss: 0.1908 - val_accuracy: 0.9247\n",
            "Epoch 29/100\n",
            "89/89 [==============================] - 14s 153ms/step - loss: 0.2068 - accuracy: 0.9232 - val_loss: 0.2233 - val_accuracy: 0.9205\n",
            "Epoch 30/100\n",
            "89/89 [==============================] - 14s 153ms/step - loss: 0.2075 - accuracy: 0.9225 - val_loss: 0.1807 - val_accuracy: 0.9502\n",
            "Epoch 31/100\n",
            "89/89 [==============================] - 13s 152ms/step - loss: 0.1826 - accuracy: 0.9328 - val_loss: 0.1465 - val_accuracy: 0.9523\n",
            "Epoch 32/100\n",
            "89/89 [==============================] - 14s 152ms/step - loss: 0.1953 - accuracy: 0.9321 - val_loss: 0.2424 - val_accuracy: 0.9141\n",
            "Epoch 33/100\n",
            "89/89 [==============================] - 14s 152ms/step - loss: 0.1973 - accuracy: 0.9317 - val_loss: 0.1436 - val_accuracy: 0.9533\n",
            "Epoch 34/100\n",
            "89/89 [==============================] - 14s 152ms/step - loss: 0.1726 - accuracy: 0.9409 - val_loss: 0.1743 - val_accuracy: 0.9406\n",
            "Epoch 35/100\n",
            "89/89 [==============================] - 14s 152ms/step - loss: 0.1814 - accuracy: 0.9307 - val_loss: 0.1517 - val_accuracy: 0.9491\n",
            "Epoch 36/100\n",
            "89/89 [==============================] - 13s 151ms/step - loss: 0.2083 - accuracy: 0.9257 - val_loss: 0.1559 - val_accuracy: 0.9544\n",
            "Epoch 37/100\n",
            "89/89 [==============================] - 13s 151ms/step - loss: 0.1735 - accuracy: 0.9413 - val_loss: 0.1656 - val_accuracy: 0.9523\n",
            "Epoch 38/100\n",
            "89/89 [==============================] - 13s 152ms/step - loss: 0.1572 - accuracy: 0.9462 - val_loss: 0.1383 - val_accuracy: 0.9629\n",
            "Epoch 39/100\n",
            "89/89 [==============================] - 13s 151ms/step - loss: 0.1802 - accuracy: 0.9388 - val_loss: 0.1893 - val_accuracy: 0.9396\n",
            "Epoch 40/100\n",
            "89/89 [==============================] - 13s 151ms/step - loss: 0.1390 - accuracy: 0.9484 - val_loss: 0.1794 - val_accuracy: 0.9438\n",
            "Epoch 41/100\n",
            "89/89 [==============================] - 13s 151ms/step - loss: 0.1477 - accuracy: 0.9498 - val_loss: 0.1463 - val_accuracy: 0.9576\n",
            "Epoch 42/100\n",
            "89/89 [==============================] - 13s 151ms/step - loss: 0.1657 - accuracy: 0.9427 - val_loss: 0.1502 - val_accuracy: 0.9576\n",
            "Epoch 43/100\n",
            "89/89 [==============================] - 13s 151ms/step - loss: 0.1792 - accuracy: 0.9381 - val_loss: 0.1410 - val_accuracy: 0.9586\n",
            "Epoch 44/100\n",
            "89/89 [==============================] - 13s 151ms/step - loss: 0.1660 - accuracy: 0.9434 - val_loss: 0.1671 - val_accuracy: 0.9544\n",
            "Epoch 45/100\n",
            "89/89 [==============================] - 13s 151ms/step - loss: 0.1682 - accuracy: 0.9399 - val_loss: 0.1672 - val_accuracy: 0.9385\n",
            "Epoch 46/100\n",
            "89/89 [==============================] - 13s 151ms/step - loss: 0.1613 - accuracy: 0.9427 - val_loss: 0.1457 - val_accuracy: 0.9576\n",
            "Epoch 47/100\n",
            "89/89 [==============================] - 13s 151ms/step - loss: 0.1768 - accuracy: 0.9413 - val_loss: 0.1687 - val_accuracy: 0.9396\n",
            "Epoch 48/100\n",
            "89/89 [==============================] - 14s 152ms/step - loss: 0.1852 - accuracy: 0.9374 - val_loss: 0.1667 - val_accuracy: 0.9555\n",
            "Epoch 49/100\n",
            "89/89 [==============================] - 13s 151ms/step - loss: 0.1570 - accuracy: 0.9452 - val_loss: 0.1603 - val_accuracy: 0.9491\n",
            "Epoch 50/100\n",
            "89/89 [==============================] - 14s 163ms/step - loss: 0.1447 - accuracy: 0.9491 - val_loss: 0.1465 - val_accuracy: 0.9470\n",
            "Epoch 51/100\n",
            "89/89 [==============================] - 13s 151ms/step - loss: 0.1472 - accuracy: 0.9487 - val_loss: 0.1240 - val_accuracy: 0.9650\n",
            "Epoch 52/100\n",
            "89/89 [==============================] - 13s 151ms/step - loss: 0.1227 - accuracy: 0.9558 - val_loss: 1.0686 - val_accuracy: 0.7762\n",
            "Epoch 53/100\n",
            "89/89 [==============================] - 13s 151ms/step - loss: 0.2590 - accuracy: 0.9162 - val_loss: 0.2220 - val_accuracy: 0.9215\n",
            "Epoch 54/100\n",
            "89/89 [==============================] - 13s 151ms/step - loss: 0.1681 - accuracy: 0.9399 - val_loss: 0.1569 - val_accuracy: 0.9459\n",
            "Epoch 55/100\n",
            "89/89 [==============================] - 13s 151ms/step - loss: 0.1502 - accuracy: 0.9484 - val_loss: 0.1294 - val_accuracy: 0.9608\n",
            "Epoch 56/100\n",
            "89/89 [==============================] - 13s 151ms/step - loss: 0.1348 - accuracy: 0.9554 - val_loss: 0.1334 - val_accuracy: 0.9555\n",
            "Epoch 57/100\n",
            "89/89 [==============================] - 13s 151ms/step - loss: 0.1467 - accuracy: 0.9501 - val_loss: 0.1558 - val_accuracy: 0.9533\n",
            "Epoch 58/100\n",
            "89/89 [==============================] - 13s 151ms/step - loss: 0.1251 - accuracy: 0.9540 - val_loss: 0.1512 - val_accuracy: 0.9555\n",
            "Epoch 59/100\n",
            "89/89 [==============================] - 13s 151ms/step - loss: 0.1325 - accuracy: 0.9540 - val_loss: 0.1433 - val_accuracy: 0.9523\n",
            "Epoch 60/100\n",
            "89/89 [==============================] - 13s 151ms/step - loss: 0.1198 - accuracy: 0.9565 - val_loss: 0.1614 - val_accuracy: 0.9470\n",
            "Epoch 61/100\n",
            "89/89 [==============================] - 13s 151ms/step - loss: 0.1276 - accuracy: 0.9526 - val_loss: 0.1308 - val_accuracy: 0.9618\n",
            "Epoch 62/100\n",
            "89/89 [==============================] - 13s 151ms/step - loss: 0.1060 - accuracy: 0.9625 - val_loss: 0.1300 - val_accuracy: 0.9618\n",
            "Epoch 63/100\n",
            "89/89 [==============================] - 13s 151ms/step - loss: 0.1370 - accuracy: 0.9526 - val_loss: 0.1596 - val_accuracy: 0.9470\n",
            "Epoch 64/100\n",
            "89/89 [==============================] - 13s 151ms/step - loss: 0.1297 - accuracy: 0.9522 - val_loss: 0.1458 - val_accuracy: 0.9438\n",
            "Epoch 65/100\n",
            "89/89 [==============================] - 13s 151ms/step - loss: 0.1415 - accuracy: 0.9494 - val_loss: 0.1595 - val_accuracy: 0.9565\n",
            "Epoch 66/100\n",
            "89/89 [==============================] - 13s 151ms/step - loss: 0.1487 - accuracy: 0.9455 - val_loss: 0.1363 - val_accuracy: 0.9491\n",
            "Epoch 67/100\n",
            "89/89 [==============================] - 13s 151ms/step - loss: 0.1272 - accuracy: 0.9537 - val_loss: 0.1266 - val_accuracy: 0.9639\n",
            "Epoch 68/100\n",
            "89/89 [==============================] - 13s 151ms/step - loss: 0.1168 - accuracy: 0.9614 - val_loss: 0.1212 - val_accuracy: 0.9661\n",
            "Epoch 69/100\n",
            "89/89 [==============================] - 13s 151ms/step - loss: 0.0968 - accuracy: 0.9660 - val_loss: 0.1292 - val_accuracy: 0.9597\n",
            "Epoch 70/100\n",
            "89/89 [==============================] - 13s 151ms/step - loss: 0.1111 - accuracy: 0.9607 - val_loss: 0.1294 - val_accuracy: 0.9597\n",
            "Epoch 71/100\n",
            "89/89 [==============================] - 13s 151ms/step - loss: 0.1105 - accuracy: 0.9611 - val_loss: 0.1338 - val_accuracy: 0.9618\n",
            "Epoch 72/100\n",
            "89/89 [==============================] - 13s 151ms/step - loss: 0.0963 - accuracy: 0.9625 - val_loss: 0.1342 - val_accuracy: 0.9671\n",
            "Epoch 73/100\n",
            "89/89 [==============================] - 14s 152ms/step - loss: 0.1016 - accuracy: 0.9618 - val_loss: 0.1560 - val_accuracy: 0.9597\n",
            "Epoch 74/100\n",
            "89/89 [==============================] - 13s 151ms/step - loss: 0.0958 - accuracy: 0.9675 - val_loss: 0.1316 - val_accuracy: 0.9671\n",
            "Epoch 75/100\n",
            "89/89 [==============================] - 13s 151ms/step - loss: 0.1084 - accuracy: 0.9614 - val_loss: 0.1308 - val_accuracy: 0.9661\n",
            "Epoch 76/100\n",
            "89/89 [==============================] - 13s 151ms/step - loss: 0.1046 - accuracy: 0.9639 - val_loss: 0.1496 - val_accuracy: 0.9533\n",
            "Epoch 77/100\n",
            "89/89 [==============================] - 13s 151ms/step - loss: 0.0987 - accuracy: 0.9667 - val_loss: 0.1398 - val_accuracy: 0.9639\n",
            "Epoch 78/100\n",
            "89/89 [==============================] - 13s 151ms/step - loss: 0.0997 - accuracy: 0.9675 - val_loss: 0.1437 - val_accuracy: 0.9682\n",
            "Epoch 79/100\n",
            "89/89 [==============================] - 13s 151ms/step - loss: 0.1258 - accuracy: 0.9583 - val_loss: 0.1527 - val_accuracy: 0.9480\n",
            "Epoch 80/100\n",
            "89/89 [==============================] - 13s 150ms/step - loss: 0.1035 - accuracy: 0.9632 - val_loss: 0.1840 - val_accuracy: 0.9576\n",
            "Epoch 81/100\n",
            "89/89 [==============================] - 13s 151ms/step - loss: 0.0937 - accuracy: 0.9632 - val_loss: 0.1202 - val_accuracy: 0.9714\n",
            "Epoch 82/100\n",
            "89/89 [==============================] - 13s 150ms/step - loss: 0.1006 - accuracy: 0.9639 - val_loss: 0.1272 - val_accuracy: 0.9639\n",
            "Epoch 83/100\n",
            "89/89 [==============================] - 13s 150ms/step - loss: 0.0751 - accuracy: 0.9756 - val_loss: 0.1344 - val_accuracy: 0.9650\n",
            "Epoch 84/100\n",
            "89/89 [==============================] - 13s 151ms/step - loss: 0.0846 - accuracy: 0.9703 - val_loss: 0.1352 - val_accuracy: 0.9639\n",
            "Epoch 85/100\n",
            "89/89 [==============================] - 13s 150ms/step - loss: 0.0974 - accuracy: 0.9625 - val_loss: 0.1256 - val_accuracy: 0.9586\n",
            "Epoch 86/100\n",
            "89/89 [==============================] - 13s 151ms/step - loss: 0.0768 - accuracy: 0.9735 - val_loss: 0.1683 - val_accuracy: 0.9629\n",
            "Epoch 87/100\n",
            "89/89 [==============================] - 14s 162ms/step - loss: 0.1240 - accuracy: 0.9618 - val_loss: 0.1611 - val_accuracy: 0.9586\n",
            "Epoch 88/100\n",
            "89/89 [==============================] - 13s 150ms/step - loss: 0.0910 - accuracy: 0.9660 - val_loss: 0.1310 - val_accuracy: 0.9597\n",
            "Epoch 89/100\n",
            "89/89 [==============================] - 13s 150ms/step - loss: 0.1056 - accuracy: 0.9629 - val_loss: 0.1278 - val_accuracy: 0.9714\n",
            "Epoch 90/100\n",
            "89/89 [==============================] - 13s 151ms/step - loss: 0.0812 - accuracy: 0.9713 - val_loss: 0.1455 - val_accuracy: 0.9703\n",
            "Epoch 91/100\n",
            "89/89 [==============================] - 13s 151ms/step - loss: 0.0755 - accuracy: 0.9752 - val_loss: 0.1277 - val_accuracy: 0.9682\n",
            "Epoch 92/100\n",
            "89/89 [==============================] - 13s 151ms/step - loss: 0.0982 - accuracy: 0.9692 - val_loss: 0.1460 - val_accuracy: 0.9682\n",
            "Epoch 93/100\n",
            "89/89 [==============================] - 13s 152ms/step - loss: 0.0933 - accuracy: 0.9678 - val_loss: 0.1148 - val_accuracy: 0.9650\n",
            "Epoch 94/100\n",
            "89/89 [==============================] - 13s 152ms/step - loss: 0.0650 - accuracy: 0.9795 - val_loss: 0.1250 - val_accuracy: 0.9714\n",
            "Epoch 95/100\n",
            "89/89 [==============================] - 13s 151ms/step - loss: 0.0623 - accuracy: 0.9777 - val_loss: 0.1203 - val_accuracy: 0.9650\n",
            "Epoch 96/100\n",
            "89/89 [==============================] - 13s 150ms/step - loss: 0.0657 - accuracy: 0.9781 - val_loss: 0.1230 - val_accuracy: 0.9639\n",
            "Epoch 97/100\n",
            "89/89 [==============================] - 13s 150ms/step - loss: 0.0784 - accuracy: 0.9742 - val_loss: 0.1667 - val_accuracy: 0.9544\n",
            "Epoch 98/100\n",
            "89/89 [==============================] - 13s 151ms/step - loss: 0.0852 - accuracy: 0.9692 - val_loss: 0.1326 - val_accuracy: 0.9735\n",
            "Epoch 99/100\n",
            "89/89 [==============================] - 13s 150ms/step - loss: 0.0651 - accuracy: 0.9788 - val_loss: 0.1303 - val_accuracy: 0.9661\n",
            "Epoch 100/100\n",
            "89/89 [==============================] - 13s 152ms/step - loss: 0.0742 - accuracy: 0.9756 - val_loss: 0.1336 - val_accuracy: 0.9703\n"
          ]
        }
      ]
    },
    {
      "cell_type": "code",
      "source": [
        "plt.plot(model1.history['loss'])\n",
        "plt.plot(model1.history['val_loss'])\n",
        "plt.title('model loss')\n",
        "plt.ylabel('loss')\n",
        "plt.xlabel('epoch')\n",
        "plt.legend(['train', 'val'], loc='upper left')\n",
        "plt.show()"
      ],
      "metadata": {
        "colab": {
          "base_uri": "https://localhost:8080/",
          "height": 295
        },
        "id": "a-zjnkptBl3H",
        "outputId": "0400a99d-fb66-43b8-f9ca-a45bcd4372d1"
      },
      "execution_count": 19,
      "outputs": [
        {
          "output_type": "display_data",
          "data": {
            "text/plain": [
              "<Figure size 432x288 with 1 Axes>"
            ],
            "image/png": "[encoded data removed]"
          },
          "metadata": {
            "needs_background": "light"
          }
        }
      ]
    },
    {
      "cell_type": "code",
      "source": [
        "cnn.save(\"CNNLFCC.h5\")"
      ],
      "metadata": {
        "id": "wYjQsQ9tC3uo"
      },
      "execution_count": 20,
      "outputs": []
    },
    {
      "cell_type": "code",
      "source": [
        ""
      ],
      "metadata": {
        "id": "Gx3ui1mUUqBB"
      },
      "execution_count": null,
      "outputs": []
    },
    {
      "cell_type": "code",
      "source": [
        "plt.plot(model1.history['accuracy'])\n",
        "plt.plot(model1.history['val_accuracy'])\n",
        "plt.title('model accuracy')\n",
        "plt.ylabel('accuracy')\n",
        "plt.xlabel('epoch')\n",
        "plt.legend(['train', 'val'], loc='upper left')\n",
        "plt.show()"
      ],
      "metadata": {
        "colab": {
          "base_uri": "https://localhost:8080/",
          "height": 295
        },
        "id": "YaCGZesKC-lU",
        "outputId": "155ccc29-4e76-4c77-a67a-cb474a6a9df2"
      },
      "execution_count": 21,
      "outputs": [
        {
          "output_type": "display_data",
          "data": {
            "text/plain": [
              "<Figure size 432x288 with 1 Axes>"
            ],
            "image/png": "[encoded data removed]"
          },
          "metadata": {
            "needs_background": "light"
          }
        }
      ]
    },
    {
      "cell_type": "code",
      "source": [
        "model_pred=cnn.predict(x_test)\n",
        "model_pred=np.argmax(model_pred[:50],axis=1)\n",
        "actual=y_test[:50].reshape(-1)\n",
        "\n",
        "print(\"Prediction:\")\n",
        "print(model_pred)\n",
        "print(\"Actual :\")\n",
        "print(actual)"
      ],
      "metadata": {
        "colab": {
          "base_uri": "https://localhost:8080/"
        },
        "id": "qrg4n_XjDKel",
        "outputId": "28fa73dd-75b9-49d8-f8df-47fb752861a8"
      },
      "execution_count": 23,
      "outputs": [
        {
          "output_type": "stream",
          "name": "stdout",
          "text": [
            "Prediction:\n",
            "[2 2 3 1 2 1 0 3 4 3 3 3 2 2 3 1 4 2 1 2 4 3 3 3 3 2 1 3 1 3 3 1 4 0 2 0 0\n",
            " 0 0 2 0 1 1 2 0 3 4 1 1 4]\n",
            "Actual :\n",
            "[2 2 2 1 2 1 0 3 4 3 3 3 2 2 2 1 4 2 0 2 4 3 3 3 3 2 1 3 1 3 3 1 4 0 2 0 0\n",
            " 0 0 2 0 1 1 2 4 3 4 1 1 4]\n"
          ]
        }
      ]
    },
    {
      "cell_type": "code",
      "source": [
        "test_loss,test_acc=cnn.evaluate(x_test,y_test)"
      ],
      "metadata": {
        "colab": {
          "base_uri": "https://localhost:8080/"
        },
        "id": "3WcMKnMzDiA9",
        "outputId": "c781d64d-71ac-40f8-da06-32e891cc66b5"
      },
      "execution_count": 24,
      "outputs": [
        {
          "output_type": "stream",
          "name": "stdout",
          "text": [
            "30/30 [==============================] - 2s 56ms/step - loss: 0.1336 - accuracy: 0.9703\n"
          ]
        }
      ]
    }
  ]
}