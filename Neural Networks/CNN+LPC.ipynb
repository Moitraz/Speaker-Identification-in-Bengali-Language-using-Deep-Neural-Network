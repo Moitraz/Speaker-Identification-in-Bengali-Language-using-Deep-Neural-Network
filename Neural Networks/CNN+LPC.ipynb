{
  "nbformat": 4,
  "nbformat_minor": 0,
  "metadata": {
    "colab": {
      "name": "CNN+LPC.ipynb",
      "provenance": []
    },
    "kernelspec": {
      "name": "python3",
      "display_name": "Python 3"
    },
    "language_info": {
      "name": "python"
    },
    "accelerator": "GPU"
  },
  "cells": [
    {
      "cell_type": "code",
      "execution_count": 1,
      "metadata": {
        "id": "wEDgFZDymuB0"
      },
      "outputs": [],
      "source": [
        "import tensorflow as tf\n",
        "from google.colab import drive\n",
        "from google.colab import files\n",
        "import os\n",
        "import cv2\n",
        "import random\n",
        "from sklearn.model_selection import train_test_split\n",
        "import numpy as np\n",
        "import matplotlib.pyplot as plt"
      ]
    },
    {
      "cell_type": "code",
      "source": [
        "filepath=os.listdir('drive/MyDrive/LPC')\n",
        "for sub in filepath:\n",
        "  print(sub)"
      ],
      "metadata": {
        "colab": {
          "base_uri": "https://localhost:8080/"
        },
        "id": "O9zjeKXnm6pj",
        "outputId": "7a762b23-dd4d-47e8-dc23-3f9678af5d48"
      },
      "execution_count": 2,
      "outputs": [
        {
          "output_type": "stream",
          "name": "stdout",
          "text": [
            "Person 3\n",
            "Person 2\n",
            "Person 1\n",
            "Person 4\n"
          ]
        }
      ]
    },
    {
      "cell_type": "code",
      "source": [
        "train_dir='drive/MyDrive/LPC'\n",
        "training_data=[]"
      ],
      "metadata": {
        "id": "uTmdodxCm-HQ"
      },
      "execution_count": 3,
      "outputs": []
    },
    {
      "cell_type": "code",
      "source": [
        "def create_trainingdata():\n",
        "    categories=os.listdir(train_dir)\n",
        "    for sub in categories:\n",
        "        path=os.path.join(train_dir,sub)\n",
        "        class_num=categories.index(sub)\n",
        "        for img in os.listdir(path):\n",
        "            img_array=cv2.imread(os.path.join(path,img))\n",
        "            new_array=cv2.resize(img_array,(250,250))\n",
        "            training_data.append([new_array,class_num])"
      ],
      "metadata": {
        "id": "b5NFF8ETnBzB"
      },
      "execution_count": 4,
      "outputs": []
    },
    {
      "cell_type": "code",
      "source": [
        "create_trainingdata()"
      ],
      "metadata": {
        "id": "aUm-HaHbnEUV"
      },
      "execution_count": 5,
      "outputs": []
    },
    {
      "cell_type": "code",
      "source": [
        "random.shuffle(training_data)"
      ],
      "metadata": {
        "id": "MQr22j7UnG8y"
      },
      "execution_count": 6,
      "outputs": []
    },
    {
      "cell_type": "code",
      "source": [
        "X=[]\n",
        "Y=[]\n",
        "for features,label in training_data:\n",
        "    X.append(features)\n",
        "    Y.append(label)\n",
        "\n",
        "X=np.array(X).reshape(-1,250,250,3)\n",
        "Y=np.array(Y).reshape(-1,1)"
      ],
      "metadata": {
        "id": "GvHPh39AnIgN"
      },
      "execution_count": 7,
      "outputs": []
    },
    {
      "cell_type": "code",
      "source": [
        "x_train,x_test,y_train,y_test=train_test_split(X,Y)"
      ],
      "metadata": {
        "id": "Lgrg9C2knKNA"
      },
      "execution_count": 8,
      "outputs": []
    },
    {
      "cell_type": "code",
      "source": [
        "cnn=tf.keras.Sequential([\n",
        "        tf.keras.layers.Conv2D(64,(3,3),activation='relu',input_shape=(250,250,3)),\n",
        "        tf.keras.layers.MaxPooling2D(2,2),\n",
        "      \n",
        "        tf.keras.layers.Conv2D(64, (3,3), activation=\"relu\"),\n",
        "        tf.keras.layers.MaxPooling2D(2,2),\n",
        "\n",
        "        tf.keras.layers.Conv2D(32, (3,3), activation=\"relu\"),\n",
        "        tf.keras.layers.MaxPooling2D(2,2),    \n",
        "        tf.keras.layers.Flatten(),\n",
        "        tf.keras.layers.Dropout(0.4),\n",
        "        tf.keras.layers.Dense(32, activation=\"relu\"),\n",
        "        tf.keras.layers.Dense(5, activation=\"softmax\")\n",
        "        ])\n",
        "\n",
        "cnn.compile(optimizer='adam',loss=\"sparse_categorical_crossentropy\",metrics=['accuracy'])   "
      ],
      "metadata": {
        "id": "sp5vQlTanL8Z"
      },
      "execution_count": 9,
      "outputs": []
    },
    {
      "cell_type": "code",
      "source": [
        "model1=cnn.fit(x_train,y_train,epochs=100,validation_data=(x_test,y_test))"
      ],
      "metadata": {
        "colab": {
          "base_uri": "https://localhost:8080/"
        },
        "id": "vlW5o9fpnYue",
        "outputId": "14026685-32f8-40c0-96ad-12acf5007e11"
      },
      "execution_count": 10,
      "outputs": [
        {
          "output_type": "stream",
          "name": "stdout",
          "text": [
            "Epoch 1/100\n",
            "71/71 [==============================] - 19s 99ms/step - loss: 3.7714 - accuracy: 0.7680 - val_loss: 0.2686 - val_accuracy: 0.8480\n",
            "Epoch 2/100\n",
            "71/71 [==============================] - 7s 96ms/step - loss: 0.2513 - accuracy: 0.8800 - val_loss: 0.2458 - val_accuracy: 0.8960\n",
            "Epoch 3/100\n",
            "71/71 [==============================] - 6s 87ms/step - loss: 0.2146 - accuracy: 0.8889 - val_loss: 0.2287 - val_accuracy: 0.8973\n",
            "Epoch 4/100\n",
            "71/71 [==============================] - 6s 87ms/step - loss: 0.1864 - accuracy: 0.9080 - val_loss: 0.2235 - val_accuracy: 0.8960\n",
            "Epoch 5/100\n",
            "71/71 [==============================] - 6s 86ms/step - loss: 0.1826 - accuracy: 0.9133 - val_loss: 0.2220 - val_accuracy: 0.9120\n",
            "Epoch 6/100\n",
            "71/71 [==============================] - 6s 87ms/step - loss: 0.1898 - accuracy: 0.9093 - val_loss: 0.2269 - val_accuracy: 0.8867\n",
            "Epoch 7/100\n",
            "71/71 [==============================] - 6s 87ms/step - loss: 0.1918 - accuracy: 0.8969 - val_loss: 0.2046 - val_accuracy: 0.8987\n",
            "Epoch 8/100\n",
            "71/71 [==============================] - 6s 87ms/step - loss: 0.1670 - accuracy: 0.9244 - val_loss: 0.2611 - val_accuracy: 0.8973\n",
            "Epoch 9/100\n",
            "71/71 [==============================] - 6s 87ms/step - loss: 0.2947 - accuracy: 0.8680 - val_loss: 0.2092 - val_accuracy: 0.8973\n",
            "Epoch 10/100\n",
            "71/71 [==============================] - 6s 87ms/step - loss: 0.2851 - accuracy: 0.8724 - val_loss: 0.2414 - val_accuracy: 0.8920\n",
            "Epoch 11/100\n",
            "71/71 [==============================] - 6s 87ms/step - loss: 0.1875 - accuracy: 0.9084 - val_loss: 0.1910 - val_accuracy: 0.8987\n",
            "Epoch 12/100\n",
            "71/71 [==============================] - 6s 87ms/step - loss: 0.2122 - accuracy: 0.8907 - val_loss: 0.2568 - val_accuracy: 0.8893\n",
            "Epoch 13/100\n",
            "71/71 [==============================] - 6s 88ms/step - loss: 0.2116 - accuracy: 0.8876 - val_loss: 0.2000 - val_accuracy: 0.8987\n",
            "Epoch 14/100\n",
            "71/71 [==============================] - 6s 88ms/step - loss: 0.1943 - accuracy: 0.9062 - val_loss: 0.2066 - val_accuracy: 0.8987\n",
            "Epoch 15/100\n",
            "71/71 [==============================] - 6s 87ms/step - loss: 0.1666 - accuracy: 0.9236 - val_loss: 0.2023 - val_accuracy: 0.8987\n",
            "Epoch 16/100\n",
            "71/71 [==============================] - 6s 87ms/step - loss: 0.1653 - accuracy: 0.9160 - val_loss: 0.1817 - val_accuracy: 0.9200\n",
            "Epoch 17/100\n",
            "71/71 [==============================] - 6s 87ms/step - loss: 0.1584 - accuracy: 0.9169 - val_loss: 0.2339 - val_accuracy: 0.9133\n",
            "Epoch 18/100\n",
            "71/71 [==============================] - 7s 95ms/step - loss: 0.2050 - accuracy: 0.9018 - val_loss: 0.2247 - val_accuracy: 0.9000\n",
            "Epoch 19/100\n",
            "71/71 [==============================] - 6s 86ms/step - loss: 0.2440 - accuracy: 0.8871 - val_loss: 0.2220 - val_accuracy: 0.9013\n",
            "Epoch 20/100\n",
            "71/71 [==============================] - 6s 86ms/step - loss: 0.2323 - accuracy: 0.8973 - val_loss: 0.2305 - val_accuracy: 0.9013\n",
            "Epoch 21/100\n",
            "71/71 [==============================] - 6s 87ms/step - loss: 0.1989 - accuracy: 0.9018 - val_loss: 0.1875 - val_accuracy: 0.9093\n",
            "Epoch 22/100\n",
            "71/71 [==============================] - 6s 87ms/step - loss: 0.1532 - accuracy: 0.9142 - val_loss: 0.2343 - val_accuracy: 0.9093\n",
            "Epoch 23/100\n",
            "71/71 [==============================] - 6s 87ms/step - loss: 0.1444 - accuracy: 0.9244 - val_loss: 0.1576 - val_accuracy: 0.9213\n",
            "Epoch 24/100\n",
            "71/71 [==============================] - 6s 86ms/step - loss: 0.1354 - accuracy: 0.9271 - val_loss: 0.1781 - val_accuracy: 0.9333\n",
            "Epoch 25/100\n",
            "71/71 [==============================] - 6s 86ms/step - loss: 0.1562 - accuracy: 0.9302 - val_loss: 0.1719 - val_accuracy: 0.9320\n",
            "Epoch 26/100\n",
            "71/71 [==============================] - 6s 86ms/step - loss: 0.2935 - accuracy: 0.8884 - val_loss: 0.2540 - val_accuracy: 0.9013\n",
            "Epoch 27/100\n",
            "71/71 [==============================] - 6s 87ms/step - loss: 0.2415 - accuracy: 0.8933 - val_loss: 0.2479 - val_accuracy: 0.9013\n",
            "Epoch 28/100\n",
            "71/71 [==============================] - 6s 87ms/step - loss: 0.2160 - accuracy: 0.8969 - val_loss: 0.2474 - val_accuracy: 0.9013\n",
            "Epoch 29/100\n",
            "71/71 [==============================] - 6s 87ms/step - loss: 0.2031 - accuracy: 0.8964 - val_loss: 0.1877 - val_accuracy: 0.8987\n",
            "Epoch 30/100\n",
            "71/71 [==============================] - 6s 87ms/step - loss: 0.1636 - accuracy: 0.9142 - val_loss: 0.1891 - val_accuracy: 0.8933\n",
            "Epoch 31/100\n",
            "71/71 [==============================] - 6s 87ms/step - loss: 0.1518 - accuracy: 0.9111 - val_loss: 0.1819 - val_accuracy: 0.9040\n",
            "Epoch 32/100\n",
            "71/71 [==============================] - 6s 87ms/step - loss: 0.1700 - accuracy: 0.9076 - val_loss: 0.1930 - val_accuracy: 0.9013\n",
            "Epoch 33/100\n",
            "71/71 [==============================] - 6s 87ms/step - loss: 0.1639 - accuracy: 0.9124 - val_loss: 0.1864 - val_accuracy: 0.9027\n",
            "Epoch 34/100\n",
            "71/71 [==============================] - 6s 87ms/step - loss: 0.1387 - accuracy: 0.9258 - val_loss: 0.2200 - val_accuracy: 0.9253\n",
            "Epoch 35/100\n",
            "71/71 [==============================] - 6s 87ms/step - loss: 0.1428 - accuracy: 0.9298 - val_loss: 0.1748 - val_accuracy: 0.8933\n",
            "Epoch 36/100\n",
            "71/71 [==============================] - 6s 87ms/step - loss: 0.1280 - accuracy: 0.9378 - val_loss: 0.1803 - val_accuracy: 0.9360\n",
            "Epoch 37/100\n",
            "71/71 [==============================] - 6s 87ms/step - loss: 0.1289 - accuracy: 0.9404 - val_loss: 0.1668 - val_accuracy: 0.9280\n",
            "Epoch 38/100\n",
            "71/71 [==============================] - 6s 87ms/step - loss: 0.1181 - accuracy: 0.9382 - val_loss: 0.1771 - val_accuracy: 0.9387\n",
            "Epoch 39/100\n",
            "71/71 [==============================] - 6s 87ms/step - loss: 0.1194 - accuracy: 0.9493 - val_loss: 0.1838 - val_accuracy: 0.9253\n",
            "Epoch 40/100\n",
            "71/71 [==============================] - 6s 86ms/step - loss: 0.1233 - accuracy: 0.9409 - val_loss: 0.1444 - val_accuracy: 0.9280\n",
            "Epoch 41/100\n",
            "71/71 [==============================] - 6s 87ms/step - loss: 0.1273 - accuracy: 0.9373 - val_loss: 0.1779 - val_accuracy: 0.9240\n",
            "Epoch 42/100\n",
            "71/71 [==============================] - 6s 87ms/step - loss: 0.1149 - accuracy: 0.9467 - val_loss: 0.1770 - val_accuracy: 0.9413\n",
            "Epoch 43/100\n",
            "71/71 [==============================] - 6s 87ms/step - loss: 0.1091 - accuracy: 0.9520 - val_loss: 0.1619 - val_accuracy: 0.9320\n",
            "Epoch 44/100\n",
            "71/71 [==============================] - 6s 86ms/step - loss: 0.1210 - accuracy: 0.9400 - val_loss: 0.1834 - val_accuracy: 0.9373\n",
            "Epoch 45/100\n",
            "71/71 [==============================] - 6s 86ms/step - loss: 0.1136 - accuracy: 0.9449 - val_loss: 0.1695 - val_accuracy: 0.9333\n",
            "Epoch 46/100\n",
            "71/71 [==============================] - 6s 87ms/step - loss: 0.0953 - accuracy: 0.9596 - val_loss: 0.2033 - val_accuracy: 0.9387\n",
            "Epoch 47/100\n",
            "71/71 [==============================] - 6s 86ms/step - loss: 0.0998 - accuracy: 0.9551 - val_loss: 0.1526 - val_accuracy: 0.9400\n",
            "Epoch 48/100\n",
            "71/71 [==============================] - 7s 95ms/step - loss: 0.1038 - accuracy: 0.9547 - val_loss: 0.1522 - val_accuracy: 0.9333\n",
            "Epoch 49/100\n",
            "71/71 [==============================] - 6s 87ms/step - loss: 0.0859 - accuracy: 0.9600 - val_loss: 0.1736 - val_accuracy: 0.9293\n",
            "Epoch 50/100\n",
            "71/71 [==============================] - 6s 87ms/step - loss: 0.0979 - accuracy: 0.9609 - val_loss: 0.1538 - val_accuracy: 0.9387\n",
            "Epoch 51/100\n",
            "71/71 [==============================] - 6s 87ms/step - loss: 0.1123 - accuracy: 0.9511 - val_loss: 0.1654 - val_accuracy: 0.9400\n",
            "Epoch 52/100\n",
            "71/71 [==============================] - 6s 86ms/step - loss: 0.1129 - accuracy: 0.9542 - val_loss: 0.2259 - val_accuracy: 0.9307\n",
            "Epoch 53/100\n",
            "71/71 [==============================] - 6s 87ms/step - loss: 0.1067 - accuracy: 0.9542 - val_loss: 0.1799 - val_accuracy: 0.9400\n",
            "Epoch 54/100\n",
            "71/71 [==============================] - 6s 87ms/step - loss: 0.0970 - accuracy: 0.9627 - val_loss: 0.1669 - val_accuracy: 0.9507\n",
            "Epoch 55/100\n",
            "71/71 [==============================] - 6s 87ms/step - loss: 0.0847 - accuracy: 0.9658 - val_loss: 0.1470 - val_accuracy: 0.9467\n",
            "Epoch 56/100\n",
            "71/71 [==============================] - 6s 87ms/step - loss: 0.0894 - accuracy: 0.9613 - val_loss: 0.1583 - val_accuracy: 0.9440\n",
            "Epoch 57/100\n",
            "71/71 [==============================] - 6s 87ms/step - loss: 0.0862 - accuracy: 0.9627 - val_loss: 0.1699 - val_accuracy: 0.9480\n",
            "Epoch 58/100\n",
            "71/71 [==============================] - 6s 87ms/step - loss: 0.0962 - accuracy: 0.9556 - val_loss: 0.1477 - val_accuracy: 0.9493\n",
            "Epoch 59/100\n",
            "71/71 [==============================] - 6s 86ms/step - loss: 0.1218 - accuracy: 0.9449 - val_loss: 0.2020 - val_accuracy: 0.9200\n",
            "Epoch 60/100\n",
            "71/71 [==============================] - 6s 86ms/step - loss: 0.1345 - accuracy: 0.9418 - val_loss: 0.1432 - val_accuracy: 0.9387\n",
            "Epoch 61/100\n",
            "71/71 [==============================] - 6s 87ms/step - loss: 0.1410 - accuracy: 0.9369 - val_loss: 0.1521 - val_accuracy: 0.9467\n",
            "Epoch 62/100\n",
            "71/71 [==============================] - 6s 86ms/step - loss: 0.0760 - accuracy: 0.9693 - val_loss: 0.1514 - val_accuracy: 0.9493\n",
            "Epoch 63/100\n",
            "71/71 [==============================] - 6s 86ms/step - loss: 0.0804 - accuracy: 0.9702 - val_loss: 0.1521 - val_accuracy: 0.9493\n",
            "Epoch 64/100\n",
            "71/71 [==============================] - 6s 87ms/step - loss: 0.0666 - accuracy: 0.9729 - val_loss: 0.1805 - val_accuracy: 0.9453\n",
            "Epoch 65/100\n",
            "71/71 [==============================] - 6s 87ms/step - loss: 0.0649 - accuracy: 0.9733 - val_loss: 0.1828 - val_accuracy: 0.9480\n",
            "Epoch 66/100\n",
            "71/71 [==============================] - 6s 87ms/step - loss: 0.0670 - accuracy: 0.9751 - val_loss: 0.1532 - val_accuracy: 0.9493\n",
            "Epoch 67/100\n",
            "71/71 [==============================] - 6s 87ms/step - loss: 0.0665 - accuracy: 0.9702 - val_loss: 0.1592 - val_accuracy: 0.9493\n",
            "Epoch 68/100\n",
            "71/71 [==============================] - 6s 87ms/step - loss: 0.0718 - accuracy: 0.9742 - val_loss: 0.1523 - val_accuracy: 0.9493\n",
            "Epoch 69/100\n",
            "71/71 [==============================] - 6s 87ms/step - loss: 0.1006 - accuracy: 0.9573 - val_loss: 0.1935 - val_accuracy: 0.9453\n",
            "Epoch 70/100\n",
            "71/71 [==============================] - 6s 87ms/step - loss: 0.0702 - accuracy: 0.9733 - val_loss: 0.2345 - val_accuracy: 0.9373\n",
            "Epoch 71/100\n",
            "71/71 [==============================] - 6s 87ms/step - loss: 0.1118 - accuracy: 0.9493 - val_loss: 0.1651 - val_accuracy: 0.9387\n",
            "Epoch 72/100\n",
            "71/71 [==============================] - 6s 86ms/step - loss: 0.0936 - accuracy: 0.9613 - val_loss: 0.1473 - val_accuracy: 0.9413\n",
            "Epoch 73/100\n",
            "71/71 [==============================] - 6s 87ms/step - loss: 0.1491 - accuracy: 0.9418 - val_loss: 0.2804 - val_accuracy: 0.9347\n",
            "Epoch 74/100\n",
            "71/71 [==============================] - 6s 87ms/step - loss: 0.1265 - accuracy: 0.9524 - val_loss: 0.1774 - val_accuracy: 0.9493\n",
            "Epoch 75/100\n",
            "71/71 [==============================] - 6s 86ms/step - loss: 0.1022 - accuracy: 0.9560 - val_loss: 0.1371 - val_accuracy: 0.9427\n",
            "Epoch 76/100\n",
            "71/71 [==============================] - 6s 86ms/step - loss: 0.0898 - accuracy: 0.9644 - val_loss: 0.1394 - val_accuracy: 0.9480\n",
            "Epoch 77/100\n",
            "71/71 [==============================] - 6s 86ms/step - loss: 0.0660 - accuracy: 0.9698 - val_loss: 0.1688 - val_accuracy: 0.9520\n",
            "Epoch 78/100\n",
            "71/71 [==============================] - 6s 86ms/step - loss: 0.0730 - accuracy: 0.9716 - val_loss: 0.1559 - val_accuracy: 0.9547\n",
            "Epoch 79/100\n",
            "71/71 [==============================] - 6s 86ms/step - loss: 0.0565 - accuracy: 0.9778 - val_loss: 0.2117 - val_accuracy: 0.9507\n",
            "Epoch 80/100\n",
            "71/71 [==============================] - 6s 86ms/step - loss: 0.0630 - accuracy: 0.9724 - val_loss: 0.1502 - val_accuracy: 0.9520\n",
            "Epoch 81/100\n",
            "71/71 [==============================] - 6s 86ms/step - loss: 0.0619 - accuracy: 0.9747 - val_loss: 0.1555 - val_accuracy: 0.9453\n",
            "Epoch 82/100\n",
            "71/71 [==============================] - 6s 87ms/step - loss: 0.0600 - accuracy: 0.9756 - val_loss: 0.1762 - val_accuracy: 0.9467\n",
            "Epoch 83/100\n",
            "71/71 [==============================] - 6s 87ms/step - loss: 0.0709 - accuracy: 0.9738 - val_loss: 0.1382 - val_accuracy: 0.9547\n",
            "Epoch 84/100\n",
            "71/71 [==============================] - 6s 86ms/step - loss: 0.0623 - accuracy: 0.9756 - val_loss: 0.1814 - val_accuracy: 0.9520\n",
            "Epoch 85/100\n",
            "71/71 [==============================] - 6s 86ms/step - loss: 0.0610 - accuracy: 0.9716 - val_loss: 0.1599 - val_accuracy: 0.9560\n",
            "Epoch 86/100\n",
            "71/71 [==============================] - 6s 87ms/step - loss: 0.0661 - accuracy: 0.9751 - val_loss: 0.1429 - val_accuracy: 0.9573\n",
            "Epoch 87/100\n",
            "71/71 [==============================] - 6s 86ms/step - loss: 0.1319 - accuracy: 0.9609 - val_loss: 0.1594 - val_accuracy: 0.9280\n",
            "Epoch 88/100\n",
            "71/71 [==============================] - 6s 87ms/step - loss: 0.1003 - accuracy: 0.9600 - val_loss: 0.1452 - val_accuracy: 0.9413\n",
            "Epoch 89/100\n",
            "71/71 [==============================] - 6s 86ms/step - loss: 0.0792 - accuracy: 0.9689 - val_loss: 0.1410 - val_accuracy: 0.9520\n",
            "Epoch 90/100\n",
            "71/71 [==============================] - 6s 86ms/step - loss: 0.0686 - accuracy: 0.9724 - val_loss: 0.1457 - val_accuracy: 0.9520\n",
            "Epoch 91/100\n",
            "71/71 [==============================] - 6s 86ms/step - loss: 0.0543 - accuracy: 0.9782 - val_loss: 0.1225 - val_accuracy: 0.9587\n",
            "Epoch 92/100\n",
            "71/71 [==============================] - 6s 86ms/step - loss: 0.0690 - accuracy: 0.9689 - val_loss: 0.1636 - val_accuracy: 0.9547\n",
            "Epoch 93/100\n",
            "71/71 [==============================] - 6s 86ms/step - loss: 0.0686 - accuracy: 0.9738 - val_loss: 0.1564 - val_accuracy: 0.9507\n",
            "Epoch 94/100\n",
            "71/71 [==============================] - 6s 86ms/step - loss: 0.0512 - accuracy: 0.9791 - val_loss: 0.1195 - val_accuracy: 0.9573\n",
            "Epoch 95/100\n",
            "71/71 [==============================] - 6s 86ms/step - loss: 0.0435 - accuracy: 0.9827 - val_loss: 0.1622 - val_accuracy: 0.9453\n",
            "Epoch 96/100\n",
            "71/71 [==============================] - 6s 86ms/step - loss: 0.0578 - accuracy: 0.9760 - val_loss: 0.1434 - val_accuracy: 0.9520\n",
            "Epoch 97/100\n",
            "71/71 [==============================] - 6s 87ms/step - loss: 0.0449 - accuracy: 0.9813 - val_loss: 0.1729 - val_accuracy: 0.9520\n",
            "Epoch 98/100\n",
            "71/71 [==============================] - 6s 87ms/step - loss: 0.0594 - accuracy: 0.9769 - val_loss: 0.1465 - val_accuracy: 0.9560\n",
            "Epoch 99/100\n",
            "71/71 [==============================] - 6s 86ms/step - loss: 0.0433 - accuracy: 0.9844 - val_loss: 0.1428 - val_accuracy: 0.9573\n",
            "Epoch 100/100\n",
            "71/71 [==============================] - 6s 86ms/step - loss: 0.0467 - accuracy: 0.9827 - val_loss: 0.1357 - val_accuracy: 0.9640\n"
          ]
        }
      ]
    },
    {
      "cell_type": "code",
      "source": [
        "cnn.save(\"CNNLPC.h5\")"
      ],
      "metadata": {
        "id": "IHAhd5mAqa2L"
      },
      "execution_count": 11,
      "outputs": []
    },
    {
      "cell_type": "code",
      "source": [
        "test_loss,test_acc=cnn.evaluate(x_test,y_test)"
      ],
      "metadata": {
        "colab": {
          "base_uri": "https://localhost:8080/"
        },
        "id": "wP6aK0IgqgS9",
        "outputId": "56c29ab3-2241-4feb-a22f-71ab3e1b1803"
      },
      "execution_count": 12,
      "outputs": [
        {
          "output_type": "stream",
          "name": "stdout",
          "text": [
            "24/24 [==============================] - 1s 33ms/step - loss: 0.1357 - accuracy: 0.9640\n"
          ]
        }
      ]
    },
    {
      "cell_type": "code",
      "source": [
        "plt.plot(model1.history['accuracy'])\n",
        "plt.plot(model1.history['val_accuracy'])\n",
        "plt.title('model accuracy')\n",
        "plt.ylabel('accuracy')\n",
        "plt.xlabel('epoch')\n",
        "plt.legend(['train', 'val'], loc='upper left')\n",
        "plt.show()"
      ],
      "metadata": {
        "colab": {
          "base_uri": "https://localhost:8080/",
          "height": 295
        },
        "id": "K7cEgWPsqmql",
        "outputId": "eec5728d-3734-4afe-82ee-3000bef7796a"
      },
      "execution_count": 13,
      "outputs": [
        {
          "output_type": "display_data",
          "data": {
            "text/plain": [
              "<Figure size 432x288 with 1 Axes>"
            ],
            "image/png": "[encoded data removed]"
          },
          "metadata": {
            "needs_background": "light"
          }
        }
      ]
    },
    {
      "cell_type": "code",
      "source": [
        "plt.plot(model1.history['loss'])\n",
        "plt.plot(model1.history['val_loss'])\n",
        "plt.title('model loss')\n",
        "plt.ylabel('loss')\n",
        "plt.xlabel('epoch')\n",
        "plt.legend(['train', 'val'], loc='upper left')\n",
        "plt.show()"
      ],
      "metadata": {
        "colab": {
          "base_uri": "https://localhost:8080/",
          "height": 295
        },
        "id": "Tc3DvvGvqtNN",
        "outputId": "9418e254-c0ef-44f1-8b95-a05346725a03"
      },
      "execution_count": 14,
      "outputs": [
        {
          "output_type": "display_data",
          "data": {
            "text/plain": [
              "<Figure size 432x288 with 1 Axes>"
            ],
            "image/png": "[encoded data removed]"
          },
          "metadata": {
            "needs_background": "light"
          }
        }
      ]
    },
    {
      "cell_type": "code",
      "source": [
        "model_pred=cnn.predict(x_test)\n",
        "model_pred=np.argmax(model_pred[:20],axis=1)\n",
        "actual=y_test[:20].reshape(-1)\n",
        "\n",
        "print(\"Prediction:\")\n",
        "print(model_pred)\n",
        "print(\"Actual :\")\n",
        "print(actual)"
      ],
      "metadata": {
        "colab": {
          "base_uri": "https://localhost:8080/"
        },
        "id": "cQb0oWhVqzNo",
        "outputId": "5877da34-5388-4de7-91fa-e4ac801a0104"
      },
      "execution_count": 15,
      "outputs": [
        {
          "output_type": "stream",
          "name": "stdout",
          "text": [
            "Prediction:\n",
            "[3 2 0 3 2 0 0 0 0 1 0 3 2 0 1 0 2 0 3 2]\n",
            "Actual :\n",
            "[3 2 0 3 2 0 0 0 0 1 0 3 2 0 1 0 0 0 3 2]\n"
          ]
        }
      ]
    }
  ]
}