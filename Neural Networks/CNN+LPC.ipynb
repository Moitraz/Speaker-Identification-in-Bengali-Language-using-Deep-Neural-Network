{
  "nbformat": 4,
  "nbformat_minor": 0,
  "metadata": {
    "colab": {
      "name": "CNN+LPC.ipynb",
      "provenance": [],
      "collapsed_sections": []
    },
    "kernelspec": {
      "name": "python3",
      "display_name": "Python 3"
    },
    "language_info": {
      "name": "python"
    },
    "accelerator": "GPU"
  },
  "cells": [
    {
      "cell_type": "code",
      "execution_count": 1,
      "metadata": {
        "id": "wEDgFZDymuB0"
      },
      "outputs": [],
      "source": [
        "import tensorflow as tf\n",
        "from google.colab import drive\n",
        "from google.colab import files\n",
        "import os\n",
        "import cv2\n",
        "import random\n",
        "from sklearn.model_selection import train_test_split\n",
        "import numpy as np\n",
        "import matplotlib.pyplot as plt"
      ]
    },
    {
      "cell_type": "code",
      "source": [
        "filepath=os.listdir('drive/MyDrive/LPC')\n",
        "for sub in filepath:\n",
        "  print(sub)"
      ],
      "metadata": {
        "colab": {
          "base_uri": "https://localhost:8080/"
        },
        "id": "O9zjeKXnm6pj",
        "outputId": "3f16b0be-6e4d-4d01-c549-dbecba689fef"
      },
      "execution_count": 2,
      "outputs": [
        {
          "output_type": "stream",
          "name": "stdout",
          "text": [
            "Person 9\n",
            "Person 8\n",
            "Person 5\n",
            "Person 4\n",
            "Person 2\n",
            "Person 10\n",
            "Person 6\n",
            "Person 3\n",
            "Person 7\n",
            "Person 1\n"
          ]
        }
      ]
    },
    {
      "cell_type": "code",
      "source": [
        "train_dir='drive/MyDrive/LPC'\n",
        "training_data=[]"
      ],
      "metadata": {
        "id": "uTmdodxCm-HQ"
      },
      "execution_count": 3,
      "outputs": []
    },
    {
      "cell_type": "code",
      "source": [
        "def create_trainingdata():\n",
        "    categories=os.listdir(train_dir)\n",
        "    for sub in categories:\n",
        "        path=os.path.join(train_dir,sub)\n",
        "        class_num=categories.index(sub)\n",
        "        for img in os.listdir(path):\n",
        "            img_array=cv2.imread(os.path.join(path,img))\n",
        "            new_array=cv2.resize(img_array,(250,250))\n",
        "            training_data.append([new_array,class_num])"
      ],
      "metadata": {
        "id": "b5NFF8ETnBzB"
      },
      "execution_count": 4,
      "outputs": []
    },
    {
      "cell_type": "code",
      "source": [
        "create_trainingdata()"
      ],
      "metadata": {
        "id": "aUm-HaHbnEUV"
      },
      "execution_count": 5,
      "outputs": []
    },
    {
      "cell_type": "code",
      "source": [
        "random.shuffle(training_data)"
      ],
      "metadata": {
        "id": "MQr22j7UnG8y"
      },
      "execution_count": 6,
      "outputs": []
    },
    {
      "cell_type": "code",
      "source": [
        "X=[]\n",
        "Y=[]\n",
        "for features,label in training_data:\n",
        "    X.append(features)\n",
        "    Y.append(label)\n",
        "\n",
        "X=np.array(X).reshape(-1,250,250,3)\n",
        "Y=np.array(Y).reshape(-1,1)"
      ],
      "metadata": {
        "id": "GvHPh39AnIgN"
      },
      "execution_count": 7,
      "outputs": []
    },
    {
      "cell_type": "code",
      "source": [
        "x_train,x_test,y_train,y_test=train_test_split(X,Y)"
      ],
      "metadata": {
        "id": "Lgrg9C2knKNA"
      },
      "execution_count": 8,
      "outputs": []
    },
    {
      "cell_type": "code",
      "source": [
        "cnn=tf.keras.Sequential([\n",
        "        tf.keras.layers.Conv2D(128,(3,3),activation='relu',input_shape=(250,250,3)),\n",
        "        tf.keras.layers.MaxPooling2D(2,2),\n",
        "      \n",
        "        tf.keras.layers.Conv2D(64, (3,3), activation=\"relu\"),\n",
        "        tf.keras.layers.MaxPooling2D(2,2),\n",
        "\n",
        "        tf.keras.layers.Conv2D(32, (3,3), activation=\"relu\"),\n",
        "        tf.keras.layers.MaxPooling2D(2,2),    \n",
        "        tf.keras.layers.Flatten(),\n",
        "        tf.keras.layers.Dropout(0.4),\n",
        "        tf.keras.layers.Dense(64, activation=\"relu\"),\n",
        "        tf.keras.layers.Dense(32, activation=\"relu\"),\n",
        "        tf.keras.layers.Dense(10, activation=\"softmax\")\n",
        "        ])\n",
        "\n",
        "cnn.compile(optimizer='adam',loss=\"sparse_categorical_crossentropy\",metrics=['accuracy'])   "
      ],
      "metadata": {
        "id": "sp5vQlTanL8Z"
      },
      "execution_count": 13,
      "outputs": []
    },
    {
      "cell_type": "code",
      "source": [
        "model1=cnn.fit(x_train,y_train,epochs=50,validation_data=(x_test,y_test))"
      ],
      "metadata": {
        "colab": {
          "base_uri": "https://localhost:8080/"
        },
        "id": "vlW5o9fpnYue",
        "outputId": "b9aa5a8e-8468-4f77-8a20-7a7a2c072808"
      },
      "execution_count": 14,
      "outputs": [
        {
          "output_type": "stream",
          "name": "stdout",
          "text": [
            "Epoch 1/50\n",
            "176/176 [==============================] - 28s 157ms/step - loss: 4.1469 - accuracy: 0.2196 - val_loss: 1.7105 - val_accuracy: 0.3637\n",
            "Epoch 2/50\n",
            "176/176 [==============================] - 27s 153ms/step - loss: 1.5607 - accuracy: 0.4109 - val_loss: 1.0163 - val_accuracy: 0.5277\n",
            "Epoch 3/50\n",
            "176/176 [==============================] - 27s 151ms/step - loss: 1.0273 - accuracy: 0.5435 - val_loss: 0.9082 - val_accuracy: 0.6347\n",
            "Epoch 4/50\n",
            "176/176 [==============================] - 27s 152ms/step - loss: 0.9495 - accuracy: 0.5717 - val_loss: 0.8737 - val_accuracy: 0.6203\n",
            "Epoch 5/50\n",
            "176/176 [==============================] - 27s 153ms/step - loss: 0.9087 - accuracy: 0.6076 - val_loss: 0.7850 - val_accuracy: 0.6565\n",
            "Epoch 6/50\n",
            "176/176 [==============================] - 27s 152ms/step - loss: 0.8588 - accuracy: 0.6353 - val_loss: 0.7215 - val_accuracy: 0.6954\n",
            "Epoch 7/50\n",
            "176/176 [==============================] - 27s 152ms/step - loss: 0.8129 - accuracy: 0.6653 - val_loss: 0.7072 - val_accuracy: 0.6912\n",
            "Epoch 8/50\n",
            "176/176 [==============================] - 27s 152ms/step - loss: 0.7339 - accuracy: 0.6896 - val_loss: 0.6550 - val_accuracy: 0.7162\n",
            "Epoch 9/50\n",
            "176/176 [==============================] - 27s 152ms/step - loss: 0.7073 - accuracy: 0.7035 - val_loss: 0.6374 - val_accuracy: 0.7524\n",
            "Epoch 10/50\n",
            "176/176 [==============================] - 27s 153ms/step - loss: 0.6635 - accuracy: 0.7088 - val_loss: 0.6382 - val_accuracy: 0.7354\n",
            "Epoch 11/50\n",
            "176/176 [==============================] - 27s 153ms/step - loss: 0.6413 - accuracy: 0.7365 - val_loss: 0.6255 - val_accuracy: 0.7370\n",
            "Epoch 12/50\n",
            "176/176 [==============================] - 27s 152ms/step - loss: 0.6150 - accuracy: 0.7401 - val_loss: 0.6445 - val_accuracy: 0.7141\n",
            "Epoch 13/50\n",
            "176/176 [==============================] - 27s 152ms/step - loss: 0.5810 - accuracy: 0.7578 - val_loss: 0.5011 - val_accuracy: 0.8136\n",
            "Epoch 14/50\n",
            "176/176 [==============================] - 27s 152ms/step - loss: 0.5307 - accuracy: 0.7850 - val_loss: 0.6116 - val_accuracy: 0.7428\n",
            "Epoch 15/50\n",
            "176/176 [==============================] - 27s 152ms/step - loss: 0.4786 - accuracy: 0.8065 - val_loss: 0.5740 - val_accuracy: 0.7668\n",
            "Epoch 16/50\n",
            "176/176 [==============================] - 27s 152ms/step - loss: 0.4226 - accuracy: 0.8331 - val_loss: 0.3823 - val_accuracy: 0.8743\n",
            "Epoch 17/50\n",
            "176/176 [==============================] - 27s 151ms/step - loss: 0.3438 - accuracy: 0.8659 - val_loss: 0.3135 - val_accuracy: 0.8823\n",
            "Epoch 18/50\n",
            "176/176 [==============================] - 27s 152ms/step - loss: 0.3419 - accuracy: 0.8739 - val_loss: 0.2618 - val_accuracy: 0.9265\n",
            "Epoch 19/50\n",
            "176/176 [==============================] - 27s 152ms/step - loss: 0.2637 - accuracy: 0.9018 - val_loss: 0.1987 - val_accuracy: 0.9361\n",
            "Epoch 20/50\n",
            "176/176 [==============================] - 27s 151ms/step - loss: 0.2513 - accuracy: 0.9068 - val_loss: 0.2245 - val_accuracy: 0.9185\n",
            "Epoch 21/50\n",
            "176/176 [==============================] - 27s 151ms/step - loss: 0.2407 - accuracy: 0.9119 - val_loss: 0.1883 - val_accuracy: 0.9457\n",
            "Epoch 22/50\n",
            "176/176 [==============================] - 27s 151ms/step - loss: 0.1964 - accuracy: 0.9322 - val_loss: 0.2049 - val_accuracy: 0.9404\n",
            "Epoch 23/50\n",
            "176/176 [==============================] - 27s 151ms/step - loss: 0.1694 - accuracy: 0.9354 - val_loss: 0.1929 - val_accuracy: 0.9366\n",
            "Epoch 24/50\n",
            "176/176 [==============================] - 27s 151ms/step - loss: 0.1599 - accuracy: 0.9455 - val_loss: 0.1993 - val_accuracy: 0.9441\n",
            "Epoch 25/50\n",
            "176/176 [==============================] - 27s 151ms/step - loss: 0.1711 - accuracy: 0.9395 - val_loss: 0.1657 - val_accuracy: 0.9478\n",
            "Epoch 26/50\n",
            "176/176 [==============================] - 27s 151ms/step - loss: 0.1588 - accuracy: 0.9418 - val_loss: 0.1716 - val_accuracy: 0.9420\n",
            "Epoch 27/50\n",
            "176/176 [==============================] - 27s 151ms/step - loss: 0.1528 - accuracy: 0.9437 - val_loss: 0.1462 - val_accuracy: 0.9569\n",
            "Epoch 28/50\n",
            "176/176 [==============================] - 27s 151ms/step - loss: 0.1252 - accuracy: 0.9570 - val_loss: 0.1541 - val_accuracy: 0.9505\n",
            "Epoch 29/50\n",
            "176/176 [==============================] - 27s 151ms/step - loss: 0.1357 - accuracy: 0.9522 - val_loss: 0.1727 - val_accuracy: 0.9478\n",
            "Epoch 30/50\n",
            "176/176 [==============================] - 26s 151ms/step - loss: 0.1209 - accuracy: 0.9553 - val_loss: 0.2552 - val_accuracy: 0.9137\n",
            "Epoch 31/50\n",
            "176/176 [==============================] - 27s 151ms/step - loss: 0.1271 - accuracy: 0.9553 - val_loss: 0.1423 - val_accuracy: 0.9563\n",
            "Epoch 32/50\n",
            "176/176 [==============================] - 26s 151ms/step - loss: 0.0993 - accuracy: 0.9657 - val_loss: 0.2302 - val_accuracy: 0.9153\n",
            "Epoch 33/50\n",
            "176/176 [==============================] - 26s 150ms/step - loss: 0.1332 - accuracy: 0.9533 - val_loss: 0.1766 - val_accuracy: 0.9446\n",
            "Epoch 34/50\n",
            "176/176 [==============================] - 27s 151ms/step - loss: 0.1111 - accuracy: 0.9595 - val_loss: 0.1514 - val_accuracy: 0.9537\n",
            "Epoch 35/50\n",
            "176/176 [==============================] - 26s 150ms/step - loss: 0.1240 - accuracy: 0.9561 - val_loss: 0.1600 - val_accuracy: 0.9489\n",
            "Epoch 36/50\n",
            "176/176 [==============================] - 26s 150ms/step - loss: 0.0966 - accuracy: 0.9657 - val_loss: 0.1358 - val_accuracy: 0.9601\n",
            "Epoch 37/50\n",
            "176/176 [==============================] - 26s 150ms/step - loss: 0.0823 - accuracy: 0.9730 - val_loss: 0.1748 - val_accuracy: 0.9462\n",
            "Epoch 38/50\n",
            "176/176 [==============================] - 26s 150ms/step - loss: 0.0947 - accuracy: 0.9689 - val_loss: 0.1731 - val_accuracy: 0.9499\n",
            "Epoch 39/50\n",
            "176/176 [==============================] - 26s 151ms/step - loss: 0.0932 - accuracy: 0.9677 - val_loss: 0.1733 - val_accuracy: 0.9457\n",
            "Epoch 40/50\n",
            "176/176 [==============================] - 26s 150ms/step - loss: 0.0722 - accuracy: 0.9755 - val_loss: 0.1470 - val_accuracy: 0.9531\n",
            "Epoch 41/50\n",
            "176/176 [==============================] - 26s 150ms/step - loss: 0.0742 - accuracy: 0.9728 - val_loss: 0.1906 - val_accuracy: 0.9483\n",
            "Epoch 42/50\n",
            "176/176 [==============================] - 26s 150ms/step - loss: 0.0645 - accuracy: 0.9766 - val_loss: 0.1971 - val_accuracy: 0.9452\n",
            "Epoch 43/50\n",
            "176/176 [==============================] - 26s 150ms/step - loss: 0.0641 - accuracy: 0.9778 - val_loss: 0.1640 - val_accuracy: 0.9601\n",
            "Epoch 44/50\n",
            "176/176 [==============================] - 26s 151ms/step - loss: 0.0581 - accuracy: 0.9812 - val_loss: 0.1466 - val_accuracy: 0.9569\n",
            "Epoch 45/50\n",
            "176/176 [==============================] - 26s 150ms/step - loss: 0.0919 - accuracy: 0.9711 - val_loss: 0.1516 - val_accuracy: 0.9537\n",
            "Epoch 46/50\n",
            "176/176 [==============================] - 26s 150ms/step - loss: 0.0870 - accuracy: 0.9721 - val_loss: 0.1267 - val_accuracy: 0.9622\n",
            "Epoch 47/50\n",
            "176/176 [==============================] - 27s 151ms/step - loss: 0.0901 - accuracy: 0.9719 - val_loss: 0.1600 - val_accuracy: 0.9537\n",
            "Epoch 48/50\n",
            "176/176 [==============================] - 26s 151ms/step - loss: 0.0601 - accuracy: 0.9782 - val_loss: 0.1739 - val_accuracy: 0.9569\n",
            "Epoch 49/50\n",
            "176/176 [==============================] - 29s 163ms/step - loss: 0.0691 - accuracy: 0.9775 - val_loss: 0.1871 - val_accuracy: 0.9542\n",
            "Epoch 50/50\n",
            "176/176 [==============================] - 26s 150ms/step - loss: 0.0629 - accuracy: 0.9759 - val_loss: 0.1469 - val_accuracy: 0.9563\n"
          ]
        }
      ]
    },
    {
      "cell_type": "code",
      "source": [
        "cnn.save(\"CNNLPC.h5\")"
      ],
      "metadata": {
        "id": "IHAhd5mAqa2L"
      },
      "execution_count": 15,
      "outputs": []
    },
    {
      "cell_type": "code",
      "source": [
        "test_loss,test_acc=cnn.evaluate(x_test,y_test)"
      ],
      "metadata": {
        "colab": {
          "base_uri": "https://localhost:8080/"
        },
        "id": "wP6aK0IgqgS9",
        "outputId": "e6402107-9f0b-48eb-f0e5-08ea1a87c285"
      },
      "execution_count": 28,
      "outputs": [
        {
          "output_type": "stream",
          "name": "stdout",
          "text": [
            "59/59 [==============================] - 3s 54ms/step - loss: 0.1469 - accuracy: 0.9563\n"
          ]
        }
      ]
    },
    {
      "cell_type": "code",
      "source": [
        "plt.plot(model1.history['accuracy'])\n",
        "plt.plot(model1.history['val_accuracy'])\n",
        "plt.title('model accuracy')\n",
        "plt.ylabel('accuracy')\n",
        "plt.xlabel('epoch')\n",
        "plt.legend(['train', 'val'], loc='upper left')\n",
        "plt.show()"
      ],
      "metadata": {
        "colab": {
          "base_uri": "https://localhost:8080/",
          "height": 295
        },
        "id": "K7cEgWPsqmql",
        "outputId": "67d2fe6c-36b4-40d7-aceb-005275c5fbc4"
      },
      "execution_count": 17,
      "outputs": [
        {
          "output_type": "display_data",
          "data": {
            "text/plain": [
              "<Figure size 432x288 with 1 Axes>"
            ],
            "image/png": "[encoded data removed]"
          },
          "metadata": {
            "needs_background": "light"
          }
        }
      ]
    },
    {
      "cell_type": "code",
      "source": [
        "plt.plot(model1.history['loss'])\n",
        "plt.plot(model1.history['val_loss'])\n",
        "plt.title('model loss')\n",
        "plt.ylabel('loss')\n",
        "plt.xlabel('epoch')\n",
        "plt.legend(['train', 'val'], loc='upper left')\n",
        "plt.show()"
      ],
      "metadata": {
        "colab": {
          "base_uri": "https://localhost:8080/",
          "height": 295
        },
        "id": "Tc3DvvGvqtNN",
        "outputId": "c5fdd813-cc53-42ec-a9c7-01223392d61c"
      },
      "execution_count": 18,
      "outputs": [
        {
          "output_type": "display_data",
          "data": {
            "text/plain": [
              "<Figure size 432x288 with 1 Axes>"
            ],
            "image/png": "[encoded data removed]"
          },
          "metadata": {
            "needs_background": "light"
          }
        }
      ]
    },
    {
      "cell_type": "code",
      "source": [
        "model_pred=cnn.predict(x_test)\n",
        "model_pred=np.argmax(model_pred[:75],axis=1)\n",
        "actual=y_test[:75].reshape(-1)\n",
        "\n",
        "print(\"Prediction:\")\n",
        "print(model_pred)\n",
        "print(\"Actual :\")\n",
        "print(actual)"
      ],
      "metadata": {
        "colab": {
          "base_uri": "https://localhost:8080/"
        },
        "id": "cQb0oWhVqzNo",
        "outputId": "8d12c549-cf8f-4e3a-c2da-5880c04dccb1"
      },
      "execution_count": 20,
      "outputs": [
        {
          "output_type": "stream",
          "name": "stdout",
          "text": [
            "Prediction:\n",
            "[2 2 7 3 1 2 1 7 1 3 3 6 1 9 5 0 2 5 5 6 7 5 2 6 6 9 0 9 6 4 1 5 2 1 1 3 8\n",
            " 0 7 2 7 6 2 1 9 0 7 0 9 0 3 9 2 2 8 8 1 7 3 0 5 0 8 8 8 4 8 4 4 4 7 3 6 6\n",
            " 3]\n",
            "Actual :\n",
            "[2 2 7 3 1 2 1 7 1 3 3 6 1 9 5 0 2 5 5 6 7 5 2 6 6 9 0 9 6 4 1 5 2 1 1 3 8\n",
            " 0 7 2 7 6 2 1 9 0 7 0 9 0 3 9 2 2 8 8 1 7 3 0 5 0 8 8 8 4 8 4 4 4 7 3 6 6\n",
            " 3]\n"
          ]
        }
      ]
    }
  ]
}