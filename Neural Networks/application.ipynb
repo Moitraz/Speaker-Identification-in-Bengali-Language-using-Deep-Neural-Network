{
 "cells": [
  {
   "cell_type": "code",
   "execution_count": 39,
   "metadata": {},
   "outputs": [],
   "source": [
    "import tensorflow as tf\n",
    "from tensorflow.keras.models import load_model\n",
    "from spafe.features.lfcc import lfcc\n",
    "from spafe.features.lpc import lpc, lpcc\n",
    "import librosa \n",
    "from spafe.features.rplp import rplp,plp\n",
    "from scipy.io import wavfile\n",
    "import librosa.display\n",
    "import matplotlib.pyplot as plt\n",
    "import cv2\n",
    "import numpy as np\n",
    "import os\n",
    "import statistics as st"
   ]
  },
  {
   "cell_type": "code",
   "execution_count": 40,
   "metadata": {},
   "outputs": [],
   "source": [
    "def LFCC(audio_path):\n",
    "    num_ceps = 13\n",
    "    low_freq = 0\n",
    "    high_freq = 2000\n",
    "    nfilts = 24\n",
    "    nfft = 512\n",
    "    dct_type = 2,\n",
    "    use_energy = False,\n",
    "    lifter = 5\n",
    "    normalize = False\n",
    "    fs, sig = wavfile.read(audio_path)\n",
    "    lfccs = lfcc(sig=sig,\n",
    "             fs=fs,\n",
    "             num_ceps=num_ceps,\n",
    "             nfilts=nfilts,\n",
    "             nfft=nfft,\n",
    "             low_freq=low_freq,\n",
    "             high_freq=high_freq,\n",
    "             \n",
    "             use_energy=use_energy,\n",
    "             lifter=lifter,\n",
    "             normalize=normalize)\n",
    "    librosa.display.specshow(lfccs)\n",
    "    plt.savefig(\"LFCC.png\")         \n",
    "            "
   ]
  },
  {
   "cell_type": "code",
   "execution_count": 41,
   "metadata": {},
   "outputs": [],
   "source": [
    "def MFCC(audio_path):\n",
    "    signal,sr=librosa.load(audio_path)\n",
    "    mfcc=librosa.feature.mfcc(signal,n_mfcc=20,sr=sr)\n",
    "    librosa.display.specshow(mfcc)\n",
    "    plt.savefig(\"MFCC.png\")\n"
   ]
  },
  {
   "cell_type": "code",
   "execution_count": 42,
   "metadata": {},
   "outputs": [],
   "source": [
    "def LPC(audio_path):\n",
    "    num_ceps = 13\n",
    "    lifter = 0\n",
    "    normalize = True\n",
    "    fs, sig = wavfile.read(audio_path)\n",
    "    lpcs = lpc(sig=sig, fs=fs, num_ceps=num_ceps)\n",
    "    librosa.display.specshow(lpcs)\n",
    "    plt.savefig(\"LPC.png\")"
   ]
  },
  {
   "cell_type": "code",
   "execution_count": 43,
   "metadata": {},
   "outputs": [],
   "source": [
    "def RPLP(audio_path):\n",
    "    num_ceps = 13\n",
    "    fs, sig = wavfile.read(audio_path)\n",
    "    plps = plp(sig, fs, num_ceps)\n",
    "    rplps = rplp(sig, fs, num_ceps)\n",
    "    librosa.display.specshow(rplps)\n",
    "    plt.savefig(\"RPLP.png\")"
   ]
  },
  {
   "cell_type": "code",
   "execution_count": 44,
   "metadata": {},
   "outputs": [],
   "source": [
    "def featureGenerator(audio_path):\n",
    "    audioPath=audio_path\n",
    "    feature=[]\n",
    "    resized_feature=[]\n",
    "    try:\n",
    "        LFCC(audioPath)\n",
    "        lfcc_image=cv2.imread(\"LFCC.png\")\n",
    "        feature.append(lfcc_image)\n",
    "        os.remove(\"LFCC.png\")\n",
    "    except:\n",
    "        pass\n",
    "    try:\n",
    "        MFCC(audioPath)\n",
    "        mfcc_image=cv2.imread(\"MFCC.png\")\n",
    "        feature.append(mfcc_image)\n",
    "        os.remove(\"MFCC.png\")\n",
    "    except:\n",
    "        pass\n",
    "    try:\n",
    "        LPC(audioPath)\n",
    "        lpc_image=cv2.imread(\"LPC.png\")\n",
    "        feature.append(lpc_image)\n",
    "        os.remove(\"LPC.png\")\n",
    "    except:\n",
    "        pass\n",
    "    try:\n",
    "        RPLP(audioPath)\n",
    "        rplp_image=cv2.imread(\"RPLP.png\")\n",
    "        feature.append(rplp_image)\n",
    "        os.remove(\"RPLP.png\")\n",
    "    except:\n",
    "        pass        \n",
    "    for image in feature:\n",
    "        new_image=cv2.resize(image,(250,250))\n",
    "        new_image=np.array(new_image).reshape(-1,250,250,3)\n",
    "        resized_feature.append(new_image)\n",
    "    return resized_feature"
   ]
  },
  {
   "cell_type": "code",
   "execution_count": 51,
   "metadata": {},
   "outputs": [
    {
     "ename": "IndexError",
     "evalue": "list index out of range",
     "output_type": "error",
     "traceback": [
      "\u001b[1;31m---------------------------------------------------------------------------\u001b[0m",
      "\u001b[1;31mIndexError\u001b[0m                                Traceback (most recent call last)",
      "\u001b[1;32m~\\AppData\\Local\\Temp/ipykernel_2072/927361357.py\u001b[0m in \u001b[0;36m<module>\u001b[1;34m\u001b[0m\n\u001b[0;32m      1\u001b[0m \u001b[0mfet\u001b[0m\u001b[1;33m=\u001b[0m\u001b[0mfeatureGenerator\u001b[0m\u001b[1;33m(\u001b[0m\u001b[1;34m\"C:\\\\Users\\\\Riddhick\\\\Desktop\\\\Paper\\\\Dataset\\\\Person 1\\\\6.wwav\"\u001b[0m\u001b[1;33m)\u001b[0m\u001b[1;33m\u001b[0m\u001b[1;33m\u001b[0m\u001b[0m\n\u001b[1;32m----> 2\u001b[1;33m \u001b[0mprint\u001b[0m\u001b[1;33m(\u001b[0m\u001b[0mfet\u001b[0m\u001b[1;33m[\u001b[0m\u001b[1;36m1\u001b[0m\u001b[1;33m]\u001b[0m\u001b[1;33m)\u001b[0m\u001b[1;33m\u001b[0m\u001b[1;33m\u001b[0m\u001b[0m\n\u001b[0m",
      "\u001b[1;31mIndexError\u001b[0m: list index out of range"
     ]
    }
   ],
   "source": [
    "fet=featureGenerator(\"C:\\\\Users\\\\Riddhick\\\\Desktop\\\\Paper\\\\Dataset\\\\Person 1\\\\6.wwav\")\n"
   ]
  },
  {
   "cell_type": "code",
   "execution_count": 57,
   "metadata": {},
   "outputs": [],
   "source": [
    "def finalModel(feature_list):\n",
    "    model1=load_model(\"C:\\\\Users\\\\Riddhick\\\\Desktop\\\\Paper\\\\Models\\\\CNNMFCC.h5\")\n",
    "    model2=load_model(\"C:\\\\Users\\\\Riddhick\\\\Desktop\\\\Paper\\\\Models\\\\CNNLFCC.h5\")\n",
    "    model3=load_model(\"C:\\\\Users\\\\Riddhick\\\\Desktop\\\\Paper\\\\Models\\\\CNNLPC.h5\")\n",
    "    model4=load_model(\"C:\\\\Users\\\\Riddhick\\\\Desktop\\\\Paper\\\\Models\\\\CNNRPLP.h5\")\n",
    "    model1_prediction=model1.predict(feature_list[1])\n",
    "    model2_prediction=model2.predict(feature_list[0])\n",
    "    model3_prediction=model3.predict(feature_list[2])\n",
    "    model4_prediction=model4.predict(feature_list[3])\n",
    "    model1_prediction=np.argmax(model1_prediction,axis=1)\n",
    "    model2_prediction=np.argmax(model2_prediction,axis=1)\n",
    "    model3_prediction=np.argmax(model3_prediction,axis=1)\n",
    "    model4_prediction=np.argmax(model4_prediction,axis=1)\n",
    "    cluster=[]\n",
    "    cluster.append(model1_prediction)\n",
    "    mode=st.mode(cluster)\n",
    "    return mode\n",
    "\n"
   ]
  },
  {
   "cell_type": "code",
   "execution_count": 58,
   "metadata": {},
   "outputs": [],
   "source": [
    "def Prediction():\n",
    "    feature_list=featureGenerator(\"C:\\\\Users\\\\Riddhick\\\\Desktop\\\\Paper\\\\Dataset\\\\Person 1\\\\6.wav\")\n",
    "    pred=finalModel(feature_list)\n",
    "    print(pred)"
   ]
  },
  {
   "cell_type": "code",
   "execution_count": 59,
   "metadata": {},
   "outputs": [
    {
     "ename": "TypeError",
     "evalue": "_append_dispatcher() takes from 2 to 3 positional arguments but 4 were given",
     "output_type": "error",
     "traceback": [
      "\u001b[1;31m---------------------------------------------------------------------------\u001b[0m",
      "\u001b[1;31mTypeError\u001b[0m                                 Traceback (most recent call last)",
      "\u001b[1;32m~\\AppData\\Local\\Temp/ipykernel_2072/3574634376.py\u001b[0m in \u001b[0;36m<module>\u001b[1;34m\u001b[0m\n\u001b[1;32m----> 1\u001b[1;33m \u001b[0mPrediction\u001b[0m\u001b[1;33m(\u001b[0m\u001b[1;33m)\u001b[0m\u001b[1;33m\u001b[0m\u001b[1;33m\u001b[0m\u001b[0m\n\u001b[0m",
      "\u001b[1;32m~\\AppData\\Local\\Temp/ipykernel_2072/213466046.py\u001b[0m in \u001b[0;36mPrediction\u001b[1;34m()\u001b[0m\n\u001b[0;32m      1\u001b[0m \u001b[1;32mdef\u001b[0m \u001b[0mPrediction\u001b[0m\u001b[1;33m(\u001b[0m\u001b[1;33m)\u001b[0m\u001b[1;33m:\u001b[0m\u001b[1;33m\u001b[0m\u001b[1;33m\u001b[0m\u001b[0m\n\u001b[0;32m      2\u001b[0m     \u001b[0mfeature_list\u001b[0m\u001b[1;33m=\u001b[0m\u001b[0mfeatureGenerator\u001b[0m\u001b[1;33m(\u001b[0m\u001b[1;34m\"C:\\\\Users\\\\Riddhick\\\\Desktop\\\\Paper\\\\Dataset\\\\Person 1\\\\6.wav\"\u001b[0m\u001b[1;33m)\u001b[0m\u001b[1;33m\u001b[0m\u001b[1;33m\u001b[0m\u001b[0m\n\u001b[1;32m----> 3\u001b[1;33m     \u001b[0mpred\u001b[0m\u001b[1;33m=\u001b[0m\u001b[0mfinalModel\u001b[0m\u001b[1;33m(\u001b[0m\u001b[0mfeature_list\u001b[0m\u001b[1;33m)\u001b[0m\u001b[1;33m\u001b[0m\u001b[1;33m\u001b[0m\u001b[0m\n\u001b[0m\u001b[0;32m      4\u001b[0m     \u001b[0mprint\u001b[0m\u001b[1;33m(\u001b[0m\u001b[0mpred\u001b[0m\u001b[1;33m)\u001b[0m\u001b[1;33m\u001b[0m\u001b[1;33m\u001b[0m\u001b[0m\n",
      "\u001b[1;32m~\\AppData\\Local\\Temp/ipykernel_2072/1634337757.py\u001b[0m in \u001b[0;36mfinalModel\u001b[1;34m(feature_list)\u001b[0m\n\u001b[0;32m     13\u001b[0m     \u001b[0mmodel4_prediction\u001b[0m\u001b[1;33m=\u001b[0m\u001b[0mnp\u001b[0m\u001b[1;33m.\u001b[0m\u001b[0margmax\u001b[0m\u001b[1;33m(\u001b[0m\u001b[0mmodel4_prediction\u001b[0m\u001b[1;33m,\u001b[0m\u001b[0maxis\u001b[0m\u001b[1;33m=\u001b[0m\u001b[1;36m1\u001b[0m\u001b[1;33m)\u001b[0m\u001b[1;33m\u001b[0m\u001b[1;33m\u001b[0m\u001b[0m\n\u001b[0;32m     14\u001b[0m     \u001b[0mcluster\u001b[0m\u001b[1;33m=\u001b[0m\u001b[1;33m[\u001b[0m\u001b[1;33m]\u001b[0m\u001b[1;33m\u001b[0m\u001b[1;33m\u001b[0m\u001b[0m\n\u001b[1;32m---> 15\u001b[1;33m     \u001b[0mcluster\u001b[0m\u001b[1;33m=\u001b[0m\u001b[0mnp\u001b[0m\u001b[1;33m.\u001b[0m\u001b[0mappend\u001b[0m\u001b[1;33m(\u001b[0m\u001b[0mmodel1_prediction\u001b[0m\u001b[1;33m,\u001b[0m\u001b[0mmodel2_prediction\u001b[0m\u001b[1;33m,\u001b[0m\u001b[0mmodel3_prediction\u001b[0m\u001b[1;33m,\u001b[0m\u001b[0mmodel4_prediction\u001b[0m\u001b[1;33m)\u001b[0m\u001b[1;33m\u001b[0m\u001b[1;33m\u001b[0m\u001b[0m\n\u001b[0m\u001b[0;32m     16\u001b[0m     \u001b[0mmode\u001b[0m\u001b[1;33m=\u001b[0m\u001b[0mst\u001b[0m\u001b[1;33m.\u001b[0m\u001b[0mmode\u001b[0m\u001b[1;33m(\u001b[0m\u001b[0mcluster\u001b[0m\u001b[1;33m)\u001b[0m\u001b[1;33m\u001b[0m\u001b[1;33m\u001b[0m\u001b[0m\n\u001b[0;32m     17\u001b[0m     \u001b[1;32mreturn\u001b[0m \u001b[0mmode\u001b[0m\u001b[1;33m\u001b[0m\u001b[1;33m\u001b[0m\u001b[0m\n",
      "\u001b[1;32m<__array_function__ internals>\u001b[0m in \u001b[0;36mappend\u001b[1;34m(*args, **kwargs)\u001b[0m\n",
      "\u001b[1;31mTypeError\u001b[0m: _append_dispatcher() takes from 2 to 3 positional arguments but 4 were given"
     ]
    },
    {
     "data": {
      "image/png": "[encoded data removed]",
      "text/plain": [
       "<Figure size 432x288 with 1 Axes>"
      ]
     },
     "metadata": {},
     "output_type": "display_data"
    }
   ],
   "source": [
    "Prediction()"
   ]
  }
 ],
 "metadata": {
  "interpreter": {
   "hash": "81794d4967e6c3204c66dcd87b604927b115b27c00565d3d43f05ba2f3a2cb0d"
  },
  "kernelspec": {
   "display_name": "Python 3.9.5 64-bit",
   "language": "python",
   "name": "python3"
  },
  "language_info": {
   "codemirror_mode": {
    "name": "ipython",
    "version": 3
   },
   "file_extension": ".py",
   "mimetype": "text/x-python",
   "name": "python",
   "nbconvert_exporter": "python",
   "pygments_lexer": "ipython3",
   "version": "3.9.5"
  },
  "orig_nbformat": 4
 },
 "nbformat": 4,
 "nbformat_minor": 2
}
