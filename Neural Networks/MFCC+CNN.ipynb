{
  "nbformat": 4,
  "nbformat_minor": 0,
  "metadata": {
    "colab": {
      "name": "Untitled2.ipynb",
      "provenance": [],
      "collapsed_sections": []
    },
    "kernelspec": {
      "name": "python3",
      "display_name": "Python 3"
    },
    "language_info": {
      "name": "python"
    },
    "accelerator": "GPU"
  },
  "cells": [
    {
      "cell_type": "code",
      "execution_count": 1,
      "metadata": {
        "id": "OxsT7pU911RG"
      },
      "outputs": [],
      "source": [
        "import tensorflow as tf\n",
        "from google.colab import drive\n",
        "from google.colab import files\n",
        "import os\n",
        "import cv2\n",
        "import random\n",
        "from sklearn.model_selection import train_test_split\n",
        "import numpy as np\n",
        "import matplotlib.pyplot as plt"
      ]
    },
    {
      "cell_type": "code",
      "source": [
        "filepath=os.listdir('drive/MyDrive/MFCC')\n",
        "for sub in filepath:\n",
        "  print(sub)"
      ],
      "metadata": {
        "colab": {
          "base_uri": "https://localhost:8080/"
        },
        "id": "eQ_2nnFh2DT5",
        "outputId": "43477e8a-e978-4768-f99b-138ada7f0c4d"
      },
      "execution_count": 3,
      "outputs": [
        {
          "output_type": "stream",
          "name": "stdout",
          "text": [
            "Person 1\n",
            "Person 2\n",
            "Person 3\n",
            "Person 4\n"
          ]
        }
      ]
    },
    {
      "cell_type": "code",
      "source": [
        "train_dir='drive/MyDrive/MFCC'\n",
        "training_data=[]\n"
      ],
      "metadata": {
        "id": "NuRe0DJu2OOc"
      },
      "execution_count": 4,
      "outputs": []
    },
    {
      "cell_type": "code",
      "source": [
        "def create_trainingdata():\n",
        "    categories=os.listdir(train_dir)\n",
        "    for sub in categories:\n",
        "        path=os.path.join(train_dir,sub)\n",
        "        class_num=categories.index(sub)\n",
        "        for img in os.listdir(path):\n",
        "            img_array=cv2.imread(os.path.join(path,img))\n",
        "            new_array=cv2.resize(img_array,(250,250))\n",
        "            training_data.append([new_array,class_num])"
      ],
      "metadata": {
        "id": "z7e8hYDF2Rx4"
      },
      "execution_count": 5,
      "outputs": []
    },
    {
      "cell_type": "code",
      "source": [
        "create_trainingdata()"
      ],
      "metadata": {
        "id": "J2obAc4f2UWT"
      },
      "execution_count": 6,
      "outputs": []
    },
    {
      "cell_type": "code",
      "source": [
        "plt.imshow(training_data[1][0])"
      ],
      "metadata": {
        "colab": {
          "base_uri": "https://localhost:8080/",
          "height": 286
        },
        "id": "2_bGOm2Q2YeI",
        "outputId": "7a8015fc-5813-4260-8961-421a53f0df24"
      },
      "execution_count": 7,
      "outputs": [
        {
          "output_type": "execute_result",
          "data": {
            "text/plain": [
              "<matplotlib.image.AxesImage at 0x7fd498df7710>"
            ]
          },
          "metadata": {},
          "execution_count": 7
        },
        {
          "output_type": "display_data",
          "data": {
            "text/plain": [
              "<Figure size 432x288 with 1 Axes>"
            ],
            "image/png": "[encoded data removed]"
          },
          "metadata": {
            "needs_background": "light"
          }
        }
      ]
    },
    {
      "cell_type": "code",
      "source": [
        "random.shuffle(training_data)"
      ],
      "metadata": {
        "id": "8AmR43Rb2nM6"
      },
      "execution_count": 8,
      "outputs": []
    },
    {
      "cell_type": "code",
      "source": [
        "X=[]\n",
        "Y=[]\n",
        "for features,label in training_data:\n",
        "    X.append(features)\n",
        "    Y.append(label)\n",
        "\n",
        "X=np.array(X).reshape(-1,250,250,3)\n",
        "Y=np.array(Y).reshape(-1,1)"
      ],
      "metadata": {
        "id": "a3rqx9AE2qUf"
      },
      "execution_count": 9,
      "outputs": []
    },
    {
      "cell_type": "code",
      "source": [
        "x_train,x_test,y_train,y_test=train_test_split(X,Y)"
      ],
      "metadata": {
        "id": "dGYdzVql2tAG"
      },
      "execution_count": 10,
      "outputs": []
    },
    {
      "cell_type": "code",
      "source": [
        "x_test.shape"
      ],
      "metadata": {
        "colab": {
          "base_uri": "https://localhost:8080/"
        },
        "id": "nCa1L2Gg2vHg",
        "outputId": "51d581f6-b6ef-4a08-c0c3-09a059bda4ba"
      },
      "execution_count": 11,
      "outputs": [
        {
          "output_type": "execute_result",
          "data": {
            "text/plain": [
              "(760, 250, 250, 3)"
            ]
          },
          "metadata": {},
          "execution_count": 11
        }
      ]
    },
    {
      "cell_type": "code",
      "source": [
        "cnn=tf.keras.Sequential([\n",
        "        tf.keras.layers.Conv2D(128,(3,3),activation='relu',input_shape=(250,250,3)),\n",
        "        tf.keras.layers.MaxPooling2D(2,2),\n",
        "            \n",
        "        tf.keras.layers.Conv2D(128, (3,3), activation=\"relu\"),\n",
        "        tf.keras.layers.MaxPooling2D(2,2),\n",
        "\n",
        "        tf.keras.layers.Conv2D(64, (3,3), activation=\"relu\"),\n",
        "        tf.keras.layers.MaxPooling2D(2,2),\n",
        "\n",
        "        tf.keras.layers.Conv2D(64, (3,3), activation=\"relu\"),\n",
        "        tf.keras.layers.MaxPooling2D(2,2),    \n",
        "        tf.keras.layers.Flatten(),\n",
        "        tf.keras.layers.Dropout(0.04),\n",
        "        tf.keras.layers.Dense(32, activation=\"relu\"),\n",
        "        tf.keras.layers.Dense(5, activation=\"softmax\")\n",
        "        ])\n",
        "\n",
        "cnn.compile(optimizer='adam',loss=\"sparse_categorical_crossentropy\",metrics=['accuracy'])   "
      ],
      "metadata": {
        "id": "QPvmhMkm2xt3"
      },
      "execution_count": 12,
      "outputs": []
    },
    {
      "cell_type": "code",
      "source": [
        "model1=cnn.fit(x_train,y_train,epochs=100,validation_data=(x_test,y_test))"
      ],
      "metadata": {
        "colab": {
          "base_uri": "https://localhost:8080/"
        },
        "id": "L0VJZvzk26xW",
        "outputId": "1ab639e5-ad42-43ff-f2fd-a20ea73c2c56"
      },
      "execution_count": 13,
      "outputs": [
        {
          "output_type": "stream",
          "name": "stdout",
          "text": [
            "Epoch 1/100\n",
            "72/72 [==============================] - 31s 203ms/step - loss: 5.9047 - accuracy: 0.2465 - val_loss: 1.3043 - val_accuracy: 0.2408\n",
            "Epoch 2/100\n",
            "72/72 [==============================] - 13s 179ms/step - loss: 1.1159 - accuracy: 0.5101 - val_loss: 0.9577 - val_accuracy: 0.6671\n",
            "Epoch 3/100\n",
            "72/72 [==============================] - 13s 180ms/step - loss: 0.7123 - accuracy: 0.7395 - val_loss: 0.5845 - val_accuracy: 0.7882\n",
            "Epoch 4/100\n",
            "72/72 [==============================] - 13s 181ms/step - loss: 0.4958 - accuracy: 0.7877 - val_loss: 0.4860 - val_accuracy: 0.7987\n",
            "Epoch 5/100\n",
            "72/72 [==============================] - 13s 182ms/step - loss: 0.4434 - accuracy: 0.8298 - val_loss: 0.4302 - val_accuracy: 0.8382\n",
            "Epoch 6/100\n",
            "72/72 [==============================] - 13s 182ms/step - loss: 0.4121 - accuracy: 0.8268 - val_loss: 0.3060 - val_accuracy: 0.8039\n",
            "Epoch 7/100\n",
            "72/72 [==============================] - 13s 182ms/step - loss: 0.3018 - accuracy: 0.9254 - val_loss: 0.2087 - val_accuracy: 0.9737\n",
            "Epoch 8/100\n",
            "72/72 [==============================] - 13s 182ms/step - loss: 0.2129 - accuracy: 0.9561 - val_loss: 0.1262 - val_accuracy: 0.9829\n",
            "Epoch 9/100\n",
            "72/72 [==============================] - 13s 182ms/step - loss: 0.1423 - accuracy: 0.9702 - val_loss: 0.0853 - val_accuracy: 0.9816\n",
            "Epoch 10/100\n",
            "72/72 [==============================] - 13s 182ms/step - loss: 0.1507 - accuracy: 0.9592 - val_loss: 0.0819 - val_accuracy: 0.9776\n",
            "Epoch 11/100\n",
            "72/72 [==============================] - 13s 182ms/step - loss: 0.0763 - accuracy: 0.9768 - val_loss: 0.0733 - val_accuracy: 0.9803\n",
            "Epoch 12/100\n",
            "72/72 [==============================] - 13s 182ms/step - loss: 0.0602 - accuracy: 0.9829 - val_loss: 0.0860 - val_accuracy: 0.9789\n",
            "Epoch 13/100\n",
            "72/72 [==============================] - 13s 182ms/step - loss: 0.0427 - accuracy: 0.9877 - val_loss: 0.0428 - val_accuracy: 0.9908\n",
            "Epoch 14/100\n",
            "72/72 [==============================] - 13s 182ms/step - loss: 0.0668 - accuracy: 0.9789 - val_loss: 0.0441 - val_accuracy: 0.9908\n",
            "Epoch 15/100\n",
            "72/72 [==============================] - 13s 182ms/step - loss: 0.0369 - accuracy: 0.9899 - val_loss: 0.0447 - val_accuracy: 0.9882\n",
            "Epoch 16/100\n",
            "72/72 [==============================] - 13s 182ms/step - loss: 0.0288 - accuracy: 0.9904 - val_loss: 0.0388 - val_accuracy: 0.9934\n",
            "Epoch 17/100\n",
            "72/72 [==============================] - 13s 182ms/step - loss: 0.0647 - accuracy: 0.9794 - val_loss: 0.1835 - val_accuracy: 0.9605\n",
            "Epoch 18/100\n",
            "72/72 [==============================] - 13s 182ms/step - loss: 0.3808 - accuracy: 0.8921 - val_loss: 0.2363 - val_accuracy: 0.9618\n",
            "Epoch 19/100\n",
            "72/72 [==============================] - 13s 182ms/step - loss: 0.1153 - accuracy: 0.9728 - val_loss: 0.0615 - val_accuracy: 0.9868\n",
            "Epoch 20/100\n",
            "72/72 [==============================] - 13s 182ms/step - loss: 0.0582 - accuracy: 0.9860 - val_loss: 0.0561 - val_accuracy: 0.9895\n",
            "Epoch 21/100\n",
            "72/72 [==============================] - 13s 182ms/step - loss: 0.0582 - accuracy: 0.9820 - val_loss: 0.0423 - val_accuracy: 0.9934\n",
            "Epoch 22/100\n",
            "72/72 [==============================] - 13s 182ms/step - loss: 0.0277 - accuracy: 0.9930 - val_loss: 0.0505 - val_accuracy: 0.9895\n",
            "Epoch 23/100\n",
            "72/72 [==============================] - 13s 182ms/step - loss: 0.0181 - accuracy: 0.9956 - val_loss: 0.0345 - val_accuracy: 0.9895\n",
            "Epoch 24/100\n",
            "72/72 [==============================] - 13s 182ms/step - loss: 0.0217 - accuracy: 0.9943 - val_loss: 0.0267 - val_accuracy: 0.9921\n",
            "Epoch 25/100\n",
            "72/72 [==============================] - 13s 182ms/step - loss: 0.0229 - accuracy: 0.9939 - val_loss: 0.0403 - val_accuracy: 0.9895\n",
            "Epoch 26/100\n",
            "72/72 [==============================] - 13s 182ms/step - loss: 0.0278 - accuracy: 0.9921 - val_loss: 0.0614 - val_accuracy: 0.9921\n",
            "Epoch 27/100\n",
            "72/72 [==============================] - 13s 182ms/step - loss: 0.0478 - accuracy: 0.9860 - val_loss: 0.0436 - val_accuracy: 0.9855\n",
            "Epoch 28/100\n",
            "72/72 [==============================] - 13s 182ms/step - loss: 0.0205 - accuracy: 0.9934 - val_loss: 0.1903 - val_accuracy: 0.9461\n",
            "Epoch 29/100\n",
            "72/72 [==============================] - 13s 182ms/step - loss: 0.0569 - accuracy: 0.9820 - val_loss: 0.0999 - val_accuracy: 0.9763\n",
            "Epoch 30/100\n",
            "72/72 [==============================] - 13s 182ms/step - loss: 0.0170 - accuracy: 0.9961 - val_loss: 0.0259 - val_accuracy: 0.9934\n",
            "Epoch 31/100\n",
            "72/72 [==============================] - 13s 182ms/step - loss: 0.0092 - accuracy: 0.9969 - val_loss: 0.0605 - val_accuracy: 0.9921\n",
            "Epoch 32/100\n",
            "72/72 [==============================] - 13s 182ms/step - loss: 0.0382 - accuracy: 0.9886 - val_loss: 0.0542 - val_accuracy: 0.9882\n",
            "Epoch 33/100\n",
            "72/72 [==============================] - 13s 182ms/step - loss: 0.0220 - accuracy: 0.9925 - val_loss: 0.0356 - val_accuracy: 0.9921\n",
            "Epoch 34/100\n",
            "72/72 [==============================] - 13s 182ms/step - loss: 0.0201 - accuracy: 0.9952 - val_loss: 0.0496 - val_accuracy: 0.9882\n",
            "Epoch 35/100\n",
            "72/72 [==============================] - 13s 181ms/step - loss: 0.0183 - accuracy: 0.9956 - val_loss: 0.0283 - val_accuracy: 0.9934\n",
            "Epoch 36/100\n",
            "72/72 [==============================] - 13s 182ms/step - loss: 0.0144 - accuracy: 0.9952 - val_loss: 0.0245 - val_accuracy: 0.9934\n",
            "Epoch 37/100\n",
            "72/72 [==============================] - 13s 182ms/step - loss: 0.0183 - accuracy: 0.9939 - val_loss: 0.0515 - val_accuracy: 0.9921\n",
            "Epoch 38/100\n",
            "72/72 [==============================] - 13s 182ms/step - loss: 0.0698 - accuracy: 0.9825 - val_loss: 0.0554 - val_accuracy: 0.9908\n",
            "Epoch 39/100\n",
            "72/72 [==============================] - 13s 182ms/step - loss: 0.0173 - accuracy: 0.9947 - val_loss: 0.0299 - val_accuracy: 0.9947\n",
            "Epoch 40/100\n",
            "72/72 [==============================] - 13s 182ms/step - loss: 0.0117 - accuracy: 0.9978 - val_loss: 0.0288 - val_accuracy: 0.9934\n",
            "Epoch 41/100\n",
            "72/72 [==============================] - 13s 182ms/step - loss: 0.0092 - accuracy: 0.9974 - val_loss: 0.0289 - val_accuracy: 0.9947\n",
            "Epoch 42/100\n",
            "72/72 [==============================] - 13s 182ms/step - loss: 0.0080 - accuracy: 0.9969 - val_loss: 0.0315 - val_accuracy: 0.9947\n",
            "Epoch 43/100\n",
            "72/72 [==============================] - 13s 181ms/step - loss: 0.0067 - accuracy: 0.9978 - val_loss: 0.0293 - val_accuracy: 0.9947\n",
            "Epoch 44/100\n",
            "72/72 [==============================] - 13s 182ms/step - loss: 0.0203 - accuracy: 0.9930 - val_loss: 0.0345 - val_accuracy: 0.9934\n",
            "Epoch 45/100\n",
            "72/72 [==============================] - 13s 182ms/step - loss: 0.0155 - accuracy: 0.9956 - val_loss: 0.0580 - val_accuracy: 0.9908\n",
            "Epoch 46/100\n",
            "72/72 [==============================] - 13s 182ms/step - loss: 0.0280 - accuracy: 0.9930 - val_loss: 0.0353 - val_accuracy: 0.9934\n",
            "Epoch 47/100\n",
            "72/72 [==============================] - 13s 182ms/step - loss: 0.0092 - accuracy: 0.9965 - val_loss: 0.0433 - val_accuracy: 0.9934\n",
            "Epoch 48/100\n",
            "72/72 [==============================] - 13s 182ms/step - loss: 0.0296 - accuracy: 0.9899 - val_loss: 0.0377 - val_accuracy: 0.9921\n",
            "Epoch 49/100\n",
            "72/72 [==============================] - 13s 182ms/step - loss: 0.0240 - accuracy: 0.9947 - val_loss: 0.0230 - val_accuracy: 0.9908\n",
            "Epoch 50/100\n",
            "72/72 [==============================] - 13s 182ms/step - loss: 0.0115 - accuracy: 0.9974 - val_loss: 0.0260 - val_accuracy: 0.9934\n",
            "Epoch 51/100\n",
            "72/72 [==============================] - 13s 182ms/step - loss: 0.0049 - accuracy: 0.9987 - val_loss: 0.0215 - val_accuracy: 0.9947\n",
            "Epoch 52/100\n",
            "72/72 [==============================] - 13s 182ms/step - loss: 0.0064 - accuracy: 0.9969 - val_loss: 0.0720 - val_accuracy: 0.9921\n",
            "Epoch 53/100\n",
            "72/72 [==============================] - 13s 182ms/step - loss: 0.0241 - accuracy: 0.9956 - val_loss: 0.0195 - val_accuracy: 0.9934\n",
            "Epoch 54/100\n",
            "72/72 [==============================] - 13s 182ms/step - loss: 0.1693 - accuracy: 0.9649 - val_loss: 0.0937 - val_accuracy: 0.9855\n",
            "Epoch 55/100\n",
            "72/72 [==============================] - 13s 181ms/step - loss: 0.8813 - accuracy: 0.8066 - val_loss: 0.2083 - val_accuracy: 0.9434\n",
            "Epoch 56/100\n",
            "72/72 [==============================] - 13s 180ms/step - loss: 0.1521 - accuracy: 0.9601 - val_loss: 0.1658 - val_accuracy: 0.9539\n",
            "Epoch 57/100\n",
            "72/72 [==============================] - 13s 181ms/step - loss: 0.1404 - accuracy: 0.9579 - val_loss: 0.0923 - val_accuracy: 0.9763\n",
            "Epoch 58/100\n",
            "72/72 [==============================] - 13s 180ms/step - loss: 0.1015 - accuracy: 0.9693 - val_loss: 0.1067 - val_accuracy: 0.9632\n",
            "Epoch 59/100\n",
            "72/72 [==============================] - 13s 180ms/step - loss: 0.0784 - accuracy: 0.9785 - val_loss: 0.1559 - val_accuracy: 0.9434\n",
            "Epoch 60/100\n",
            "72/72 [==============================] - 13s 180ms/step - loss: 0.1085 - accuracy: 0.9671 - val_loss: 0.1089 - val_accuracy: 0.9816\n",
            "Epoch 61/100\n",
            "72/72 [==============================] - 13s 180ms/step - loss: 0.0480 - accuracy: 0.9846 - val_loss: 0.0610 - val_accuracy: 0.9868\n",
            "Epoch 62/100\n",
            "72/72 [==============================] - 13s 180ms/step - loss: 0.0332 - accuracy: 0.9899 - val_loss: 0.0519 - val_accuracy: 0.9868\n",
            "Epoch 63/100\n",
            "72/72 [==============================] - 13s 180ms/step - loss: 0.0339 - accuracy: 0.9899 - val_loss: 0.0724 - val_accuracy: 0.9882\n",
            "Epoch 64/100\n",
            "72/72 [==============================] - 13s 180ms/step - loss: 0.0339 - accuracy: 0.9899 - val_loss: 0.0786 - val_accuracy: 0.9829\n",
            "Epoch 65/100\n",
            "72/72 [==============================] - 13s 180ms/step - loss: 0.0272 - accuracy: 0.9934 - val_loss: 0.0663 - val_accuracy: 0.9855\n",
            "Epoch 66/100\n",
            "72/72 [==============================] - 13s 180ms/step - loss: 0.0219 - accuracy: 0.9939 - val_loss: 0.0664 - val_accuracy: 0.9829\n",
            "Epoch 67/100\n",
            "72/72 [==============================] - 13s 180ms/step - loss: 0.0306 - accuracy: 0.9917 - val_loss: 0.0799 - val_accuracy: 0.9842\n",
            "Epoch 68/100\n",
            "72/72 [==============================] - 13s 180ms/step - loss: 0.0176 - accuracy: 0.9965 - val_loss: 0.0492 - val_accuracy: 0.9855\n",
            "Epoch 69/100\n",
            "72/72 [==============================] - 13s 180ms/step - loss: 0.0264 - accuracy: 0.9930 - val_loss: 0.0635 - val_accuracy: 0.9868\n",
            "Epoch 70/100\n",
            "72/72 [==============================] - 13s 180ms/step - loss: 0.0253 - accuracy: 0.9917 - val_loss: 0.0328 - val_accuracy: 0.9895\n",
            "Epoch 71/100\n",
            "72/72 [==============================] - 13s 180ms/step - loss: 0.0192 - accuracy: 0.9943 - val_loss: 0.0578 - val_accuracy: 0.9908\n",
            "Epoch 72/100\n",
            "72/72 [==============================] - 13s 180ms/step - loss: 0.0097 - accuracy: 0.9961 - val_loss: 0.0642 - val_accuracy: 0.9882\n",
            "Epoch 73/100\n",
            "72/72 [==============================] - 13s 180ms/step - loss: 0.0122 - accuracy: 0.9961 - val_loss: 0.0945 - val_accuracy: 0.9803\n",
            "Epoch 74/100\n",
            "72/72 [==============================] - 13s 181ms/step - loss: 0.0359 - accuracy: 0.9899 - val_loss: 0.0394 - val_accuracy: 0.9829\n",
            "Epoch 75/100\n",
            "72/72 [==============================] - 13s 180ms/step - loss: 0.0318 - accuracy: 0.9912 - val_loss: 0.0422 - val_accuracy: 0.9882\n",
            "Epoch 76/100\n",
            "72/72 [==============================] - 13s 180ms/step - loss: 0.0144 - accuracy: 0.9956 - val_loss: 0.0402 - val_accuracy: 0.9855\n",
            "Epoch 77/100\n",
            "72/72 [==============================] - 13s 180ms/step - loss: 0.0384 - accuracy: 0.9912 - val_loss: 0.0419 - val_accuracy: 0.9908\n",
            "Epoch 78/100\n",
            "72/72 [==============================] - 13s 180ms/step - loss: 0.0216 - accuracy: 0.9943 - val_loss: 0.0453 - val_accuracy: 0.9895\n",
            "Epoch 79/100\n",
            "72/72 [==============================] - 13s 180ms/step - loss: 0.0193 - accuracy: 0.9934 - val_loss: 0.0475 - val_accuracy: 0.9842\n",
            "Epoch 80/100\n",
            "72/72 [==============================] - 13s 180ms/step - loss: 0.0300 - accuracy: 0.9943 - val_loss: 0.0307 - val_accuracy: 0.9895\n",
            "Epoch 81/100\n",
            "72/72 [==============================] - 13s 180ms/step - loss: 0.0626 - accuracy: 0.9877 - val_loss: 0.0764 - val_accuracy: 0.9921\n",
            "Epoch 82/100\n",
            "72/72 [==============================] - 13s 180ms/step - loss: 0.0335 - accuracy: 0.9921 - val_loss: 0.0526 - val_accuracy: 0.9921\n",
            "Epoch 83/100\n",
            "72/72 [==============================] - 13s 180ms/step - loss: 0.0393 - accuracy: 0.9895 - val_loss: 0.0517 - val_accuracy: 0.9921\n",
            "Epoch 84/100\n",
            "72/72 [==============================] - 13s 180ms/step - loss: 0.0246 - accuracy: 0.9934 - val_loss: 0.0398 - val_accuracy: 0.9934\n",
            "Epoch 85/100\n",
            "72/72 [==============================] - 13s 180ms/step - loss: 0.0150 - accuracy: 0.9961 - val_loss: 0.0428 - val_accuracy: 0.9921\n",
            "Epoch 86/100\n",
            "72/72 [==============================] - 13s 180ms/step - loss: 0.0187 - accuracy: 0.9952 - val_loss: 0.0295 - val_accuracy: 0.9934\n",
            "Epoch 87/100\n",
            "72/72 [==============================] - 13s 180ms/step - loss: 0.0161 - accuracy: 0.9952 - val_loss: 0.0405 - val_accuracy: 0.9895\n",
            "Epoch 88/100\n",
            "72/72 [==============================] - 13s 180ms/step - loss: 0.0059 - accuracy: 0.9974 - val_loss: 0.0743 - val_accuracy: 0.9947\n",
            "Epoch 89/100\n",
            "72/72 [==============================] - 13s 180ms/step - loss: 0.0251 - accuracy: 0.9912 - val_loss: 0.0338 - val_accuracy: 0.9934\n",
            "Epoch 90/100\n",
            "72/72 [==============================] - 13s 180ms/step - loss: 0.0057 - accuracy: 0.9991 - val_loss: 0.0329 - val_accuracy: 0.9974\n",
            "Epoch 91/100\n",
            "72/72 [==============================] - 13s 180ms/step - loss: 0.0126 - accuracy: 0.9961 - val_loss: 0.0216 - val_accuracy: 0.9947\n",
            "Epoch 92/100\n",
            "72/72 [==============================] - 13s 180ms/step - loss: 0.0135 - accuracy: 0.9961 - val_loss: 0.0603 - val_accuracy: 0.9908\n",
            "Epoch 93/100\n",
            "72/72 [==============================] - 13s 180ms/step - loss: 0.0254 - accuracy: 0.9943 - val_loss: 0.0321 - val_accuracy: 0.9934\n",
            "Epoch 94/100\n",
            "72/72 [==============================] - 13s 180ms/step - loss: 0.0186 - accuracy: 0.9956 - val_loss: 0.0464 - val_accuracy: 0.9882\n",
            "Epoch 95/100\n",
            "72/72 [==============================] - 13s 180ms/step - loss: 0.0299 - accuracy: 0.9930 - val_loss: 0.0222 - val_accuracy: 0.9947\n",
            "Epoch 96/100\n",
            "72/72 [==============================] - 13s 180ms/step - loss: 0.0035 - accuracy: 0.9987 - val_loss: 0.0099 - val_accuracy: 0.9934\n",
            "Epoch 97/100\n",
            "72/72 [==============================] - 13s 180ms/step - loss: 0.0350 - accuracy: 0.9912 - val_loss: 0.0656 - val_accuracy: 0.9895\n",
            "Epoch 98/100\n",
            "72/72 [==============================] - 13s 180ms/step - loss: 0.0542 - accuracy: 0.9855 - val_loss: 0.0223 - val_accuracy: 0.9934\n",
            "Epoch 99/100\n",
            "72/72 [==============================] - 13s 180ms/step - loss: 0.0242 - accuracy: 0.9934 - val_loss: 0.0473 - val_accuracy: 0.9895\n",
            "Epoch 100/100\n",
            "72/72 [==============================] - 13s 180ms/step - loss: 0.0102 - accuracy: 0.9969 - val_loss: 0.0582 - val_accuracy: 0.9908\n"
          ]
        }
      ]
    },
    {
      "cell_type": "code",
      "source": [
        "cnn.save(\"CNNMFCC.h5\")"
      ],
      "metadata": {
        "id": "Ay1Gjx1w8Aow"
      },
      "execution_count": 17,
      "outputs": []
    },
    {
      "cell_type": "code",
      "source": [
        "test_loss,test_acc=cnn.evaluate(x_test,y_test)"
      ],
      "metadata": {
        "colab": {
          "base_uri": "https://localhost:8080/"
        },
        "id": "TChy92Va8K3O",
        "outputId": "fc53e3ca-8187-4c27-b331-f27b4efcc9a6"
      },
      "execution_count": 15,
      "outputs": [
        {
          "output_type": "stream",
          "name": "stdout",
          "text": [
            "24/24 [==============================] - 2s 66ms/step - loss: 0.0582 - accuracy: 0.9908\n"
          ]
        }
      ]
    },
    {
      "cell_type": "code",
      "source": [
        "plt.plot(model1.history['accuracy'])\n",
        "plt.plot(model1.history['val_accuracy'])\n",
        "plt.title('model accuracy')\n",
        "plt.ylabel('accuracy')\n",
        "plt.xlabel('epoch')\n",
        "plt.legend(['train', 'val'], loc='upper left')\n",
        "plt.show()"
      ],
      "metadata": {
        "colab": {
          "base_uri": "https://localhost:8080/",
          "height": 295
        },
        "id": "aIL-apmx8RMy",
        "outputId": "c4f8b41c-4d5f-4635-cbb1-bd8961f34968"
      },
      "execution_count": 18,
      "outputs": [
        {
          "output_type": "display_data",
          "data": {
            "text/plain": [
              "<Figure size 432x288 with 1 Axes>"
            ],
            "image/png": "[encoded data removed]"
          },
          "metadata": {
            "needs_background": "light"
          }
        }
      ]
    },
    {
      "cell_type": "code",
      "source": [
        "print(training_data[100])"
      ],
      "metadata": {
        "colab": {
          "base_uri": "https://localhost:8080/"
        },
        "id": "BlFWLxYi8yi1",
        "outputId": "7c29ae30-60e9-4c7c-8f70-48c03c741fd1"
      },
      "execution_count": 19,
      "outputs": [
        {
          "output_type": "stream",
          "name": "stdout",
          "text": [
            "[array([[[255, 255, 255],\n",
            "        [255, 255, 255],\n",
            "        [255, 255, 255],\n",
            "        ...,\n",
            "        [255, 255, 255],\n",
            "        [255, 255, 255],\n",
            "        [255, 255, 255]],\n",
            "\n",
            "       [[255, 255, 255],\n",
            "        [255, 255, 255],\n",
            "        [255, 255, 255],\n",
            "        ...,\n",
            "        [255, 255, 255],\n",
            "        [255, 255, 255],\n",
            "        [255, 255, 255]],\n",
            "\n",
            "       [[255, 255, 255],\n",
            "        [255, 255, 255],\n",
            "        [255, 255, 255],\n",
            "        ...,\n",
            "        [255, 255, 255],\n",
            "        [255, 255, 255],\n",
            "        [255, 255, 255]],\n",
            "\n",
            "       ...,\n",
            "\n",
            "       [[255, 255, 255],\n",
            "        [255, 255, 255],\n",
            "        [255, 255, 255],\n",
            "        ...,\n",
            "        [255, 255, 255],\n",
            "        [255, 255, 255],\n",
            "        [255, 255, 255]],\n",
            "\n",
            "       [[255, 255, 255],\n",
            "        [255, 255, 255],\n",
            "        [255, 255, 255],\n",
            "        ...,\n",
            "        [255, 255, 255],\n",
            "        [255, 255, 255],\n",
            "        [255, 255, 255]],\n",
            "\n",
            "       [[255, 255, 255],\n",
            "        [255, 255, 255],\n",
            "        [255, 255, 255],\n",
            "        ...,\n",
            "        [255, 255, 255],\n",
            "        [255, 255, 255],\n",
            "        [255, 255, 255]]], dtype=uint8), 2]\n"
          ]
        }
      ]
    },
    {
      "cell_type": "code",
      "source": [
        "prediction_data=training_data[100][0].reshape(-1,250,250,3)\n",
        "prediction=cnn.predict(prediction_data)"
      ],
      "metadata": {
        "id": "HhVCkVUo892y"
      },
      "execution_count": 22,
      "outputs": []
    },
    {
      "cell_type": "code",
      "source": [
        "print(prediction)"
      ],
      "metadata": {
        "colab": {
          "base_uri": "https://localhost:8080/"
        },
        "id": "3Xg8vbk69sCW",
        "outputId": "4f520f35-7e2e-4b72-ff59-c17336323386"
      },
      "execution_count": 23,
      "outputs": [
        {
          "output_type": "stream",
          "name": "stdout",
          "text": [
            "[[1.4248703e-32 1.3326972e-03 9.9866736e-01 8.9139129e-13 3.3612439e-25]]\n"
          ]
        }
      ]
    },
    {
      "cell_type": "code",
      "source": [
        "prob=np.array(prediction)\n",
        "labels = np.argmax(prob, axis=-1)    \n",
        "print(labels)"
      ],
      "metadata": {
        "colab": {
          "base_uri": "https://localhost:8080/"
        },
        "id": "49C9Qizc-0di",
        "outputId": "6dd19387-6aaa-4eab-fadb-3da4e7adc357"
      },
      "execution_count": 27,
      "outputs": [
        {
          "output_type": "stream",
          "name": "stdout",
          "text": [
            "[2]\n"
          ]
        }
      ]
    },
    {
      "cell_type": "code",
      "source": [
        "model_pred=cnn.predict(x_test)\n",
        "model_pred=np.argmax(model_pred[:10],axis=1)\n",
        "actual=y_test[:10].reshape(-1)\n",
        "\n",
        "\n",
        "print(model_pred)\n",
        "print(actual)"
      ],
      "metadata": {
        "colab": {
          "base_uri": "https://localhost:8080/"
        },
        "id": "S1NGJPeYBqUV",
        "outputId": "7c0e5c1f-c0f0-4318-dde6-2be5cb13ed63"
      },
      "execution_count": 33,
      "outputs": [
        {
          "output_type": "stream",
          "name": "stdout",
          "text": [
            "[2 3 0 0 1 1 3 0 1 1]\n",
            "[2 3 0 0 1 1 3 0 1 1]\n"
          ]
        }
      ]
    },
    {
      "cell_type": "code",
      "source": [
        ""
      ],
      "metadata": {
        "id": "0R6gtTOCCcPb"
      },
      "execution_count": 29,
      "outputs": []
    }
  ]
}