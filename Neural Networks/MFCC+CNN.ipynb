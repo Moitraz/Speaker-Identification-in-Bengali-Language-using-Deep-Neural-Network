{
  "nbformat": 4,
  "nbformat_minor": 0,
  "metadata": {
    "colab": {
      "name": "MFCC+CNN.ipynb",
      "provenance": [],
      "collapsed_sections": []
    },
    "kernelspec": {
      "name": "python3",
      "display_name": "Python 3"
    },
    "language_info": {
      "name": "python"
    },
    "accelerator": "GPU"
  },
  "cells": [
    {
      "cell_type": "code",
      "execution_count": 2,
      "metadata": {
        "id": "OxsT7pU911RG"
      },
      "outputs": [],
      "source": [
        "import tensorflow as tf\n",
        "from google.colab import drive\n",
        "from google.colab import files\n",
        "import os\n",
        "import cv2\n",
        "import random\n",
        "from sklearn.model_selection import train_test_split\n",
        "import numpy as np\n",
        "import matplotlib.pyplot as plt"
      ]
    },
    {
      "cell_type": "code",
      "source": [
        "filepath=os.listdir('drive/MyDrive/MFCC')\n",
        "for sub in filepath:\n",
        "  print(sub)"
      ],
      "metadata": {
        "colab": {
          "base_uri": "https://localhost:8080/"
        },
        "id": "eQ_2nnFh2DT5",
        "outputId": "a76bb369-f55e-46c6-d456-b45246921d06"
      },
      "execution_count": 3,
      "outputs": [
        {
          "output_type": "stream",
          "name": "stdout",
          "text": [
            "Person 9\n",
            "Person 8\n",
            "Person 7\n",
            "Person 6\n",
            "Person 5\n",
            "Person 4\n",
            "Person 3\n",
            "Person 10\n",
            "Person 1\n",
            "Person 2\n"
          ]
        }
      ]
    },
    {
      "cell_type": "code",
      "source": [
        "train_dir='drive/MyDrive/MFCC'\n",
        "training_data=[]\n"
      ],
      "metadata": {
        "id": "NuRe0DJu2OOc"
      },
      "execution_count": 4,
      "outputs": []
    },
    {
      "cell_type": "code",
      "source": [
        "def create_trainingdata():\n",
        "    categories=os.listdir(train_dir)\n",
        "    for sub in categories:\n",
        "        path=os.path.join(train_dir,sub)\n",
        "        class_num=categories.index(sub)\n",
        "        for img in os.listdir(path):\n",
        "            img_array=cv2.imread(os.path.join(path,img))\n",
        "            new_array=cv2.resize(img_array,(250,250))\n",
        "            training_data.append([new_array,class_num])"
      ],
      "metadata": {
        "id": "z7e8hYDF2Rx4"
      },
      "execution_count": 5,
      "outputs": []
    },
    {
      "cell_type": "code",
      "source": [
        "create_trainingdata()"
      ],
      "metadata": {
        "id": "J2obAc4f2UWT"
      },
      "execution_count": 6,
      "outputs": []
    },
    {
      "cell_type": "code",
      "source": [
        "plt.imshow(training_data[1][0])"
      ],
      "metadata": {
        "colab": {
          "base_uri": "https://localhost:8080/",
          "height": 286
        },
        "id": "2_bGOm2Q2YeI",
        "outputId": "c713190a-64a4-4212-ac2a-98e3303b300c"
      },
      "execution_count": 7,
      "outputs": [
        {
          "output_type": "execute_result",
          "data": {
            "text/plain": [
              "<matplotlib.image.AxesImage at 0x7f79610757d0>"
            ]
          },
          "metadata": {},
          "execution_count": 7
        },
        {
          "output_type": "display_data",
          "data": {
            "text/plain": [
              "<Figure size 432x288 with 1 Axes>"
            ],
            "image/png": "[encoded data removed]"
          },
          "metadata": {
            "needs_background": "light"
          }
        }
      ]
    },
    {
      "cell_type": "code",
      "source": [
        "random.shuffle(training_data)"
      ],
      "metadata": {
        "id": "8AmR43Rb2nM6"
      },
      "execution_count": 8,
      "outputs": []
    },
    {
      "cell_type": "code",
      "source": [
        "X=[]\n",
        "Y=[]\n",
        "for features,label in training_data:\n",
        "    X.append(features)\n",
        "    Y.append(label)\n",
        "\n",
        "X=np.array(X).reshape(-1,250,250,3)\n",
        "Y=np.array(Y).reshape(-1,1)"
      ],
      "metadata": {
        "id": "a3rqx9AE2qUf"
      },
      "execution_count": 9,
      "outputs": []
    },
    {
      "cell_type": "code",
      "source": [
        "x_train,x_test,y_train,y_test=train_test_split(X,Y)"
      ],
      "metadata": {
        "id": "dGYdzVql2tAG"
      },
      "execution_count": 10,
      "outputs": []
    },
    {
      "cell_type": "code",
      "source": [
        "x_train.shape"
      ],
      "metadata": {
        "colab": {
          "base_uri": "https://localhost:8080/"
        },
        "id": "nCa1L2Gg2vHg",
        "outputId": "a8623c85-eac4-46c0-967f-510bf40695e5"
      },
      "execution_count": 11,
      "outputs": [
        {
          "output_type": "execute_result",
          "data": {
            "text/plain": [
              "(5625, 250, 250, 3)"
            ]
          },
          "metadata": {},
          "execution_count": 11
        }
      ]
    },
    {
      "cell_type": "code",
      "source": [
        "cnn=tf.keras.Sequential([\n",
        "        tf.keras.layers.Conv2D(128,(3,3),activation='relu',input_shape=(250,250,3)),\n",
        "        tf.keras.layers.MaxPooling2D(2,2),\n",
        "\n",
        "        tf.keras.layers.Conv2D(128, (3,3), activation=\"relu\"),\n",
        "        tf.keras.layers.MaxPooling2D(2,2), \n",
        "        tf.keras.layers.Conv2D(64, (3,3), activation=\"relu\"),\n",
        "        tf.keras.layers.MaxPooling2D(2,2), \n",
        "\n",
        "        tf.keras.layers.Conv2D(64, (3,3), activation=\"relu\"),\n",
        "        tf.keras.layers.MaxPooling2D(2,2),    \n",
        "        tf.keras.layers.Flatten(),\n",
        "        tf.keras.layers.Dropout(0.4),\n",
        "        tf.keras.layers.Dense(64, activation=\"relu\"),\n",
        "        tf.keras.layers.Dense(32, activation=\"relu\"),\n",
        "        tf.keras.layers.Dense(10, activation=\"softmax\")\n",
        "        ])\n",
        "\n",
        "cnn.compile(optimizer='adam',loss=\"sparse_categorical_crossentropy\",metrics=['accuracy'])   "
      ],
      "metadata": {
        "id": "QPvmhMkm2xt3"
      },
      "execution_count": 12,
      "outputs": []
    },
    {
      "cell_type": "code",
      "source": [
        "model1=cnn.fit(x_train,y_train,epochs=50,validation_data=(x_test,y_test))"
      ],
      "metadata": {
        "colab": {
          "base_uri": "https://localhost:8080/"
        },
        "id": "L0VJZvzk26xW",
        "outputId": "080145e0-676d-4947-bfe5-d028b832d7ed"
      },
      "execution_count": 13,
      "outputs": [
        {
          "output_type": "stream",
          "name": "stdout",
          "text": [
            "Epoch 1/50\n",
            "176/176 [==============================] - 40s 199ms/step - loss: 2.5765 - accuracy: 0.2580 - val_loss: 1.3436 - val_accuracy: 0.5168\n",
            "Epoch 2/50\n",
            "176/176 [==============================] - 32s 183ms/step - loss: 1.0410 - accuracy: 0.6368 - val_loss: 0.4986 - val_accuracy: 0.8741\n",
            "Epoch 3/50\n",
            "176/176 [==============================] - 32s 184ms/step - loss: 0.5144 - accuracy: 0.8478 - val_loss: 0.3348 - val_accuracy: 0.8875\n",
            "Epoch 4/50\n",
            "176/176 [==============================] - 33s 185ms/step - loss: 0.3048 - accuracy: 0.9058 - val_loss: 0.1504 - val_accuracy: 0.9605\n",
            "Epoch 5/50\n",
            "176/176 [==============================] - 32s 184ms/step - loss: 0.2058 - accuracy: 0.9371 - val_loss: 0.1757 - val_accuracy: 0.9547\n",
            "Epoch 6/50\n",
            "176/176 [==============================] - 32s 184ms/step - loss: 0.1897 - accuracy: 0.9412 - val_loss: 0.1862 - val_accuracy: 0.9552\n",
            "Epoch 7/50\n",
            "176/176 [==============================] - 32s 184ms/step - loss: 0.1574 - accuracy: 0.9532 - val_loss: 0.1011 - val_accuracy: 0.9771\n",
            "Epoch 8/50\n",
            "176/176 [==============================] - 32s 184ms/step - loss: 0.1326 - accuracy: 0.9612 - val_loss: 0.1072 - val_accuracy: 0.9707\n",
            "Epoch 9/50\n",
            "176/176 [==============================] - 32s 183ms/step - loss: 0.1214 - accuracy: 0.9630 - val_loss: 0.1030 - val_accuracy: 0.9744\n",
            "Epoch 10/50\n",
            "176/176 [==============================] - 32s 184ms/step - loss: 0.1185 - accuracy: 0.9648 - val_loss: 0.1265 - val_accuracy: 0.9659\n",
            "Epoch 11/50\n",
            "176/176 [==============================] - 32s 183ms/step - loss: 0.1207 - accuracy: 0.9616 - val_loss: 0.0796 - val_accuracy: 0.9771\n",
            "Epoch 12/50\n",
            "176/176 [==============================] - 32s 183ms/step - loss: 0.1010 - accuracy: 0.9700 - val_loss: 0.0650 - val_accuracy: 0.9792\n",
            "Epoch 13/50\n",
            "176/176 [==============================] - 32s 183ms/step - loss: 0.0948 - accuracy: 0.9705 - val_loss: 0.1315 - val_accuracy: 0.9707\n",
            "Epoch 14/50\n",
            "176/176 [==============================] - 32s 183ms/step - loss: 0.0835 - accuracy: 0.9748 - val_loss: 0.0790 - val_accuracy: 0.9739\n",
            "Epoch 15/50\n",
            "176/176 [==============================] - 32s 183ms/step - loss: 0.1010 - accuracy: 0.9691 - val_loss: 0.0761 - val_accuracy: 0.9840\n",
            "Epoch 16/50\n",
            "176/176 [==============================] - 32s 183ms/step - loss: 0.0852 - accuracy: 0.9723 - val_loss: 0.0686 - val_accuracy: 0.9787\n",
            "Epoch 17/50\n",
            "176/176 [==============================] - 32s 183ms/step - loss: 0.0664 - accuracy: 0.9810 - val_loss: 0.0694 - val_accuracy: 0.9787\n",
            "Epoch 18/50\n",
            "176/176 [==============================] - 32s 183ms/step - loss: 0.0858 - accuracy: 0.9719 - val_loss: 0.0657 - val_accuracy: 0.9829\n",
            "Epoch 19/50\n",
            "176/176 [==============================] - 32s 184ms/step - loss: 0.0709 - accuracy: 0.9762 - val_loss: 0.0457 - val_accuracy: 0.9888\n",
            "Epoch 20/50\n",
            "176/176 [==============================] - 32s 183ms/step - loss: 0.0736 - accuracy: 0.9774 - val_loss: 0.0664 - val_accuracy: 0.9829\n",
            "Epoch 21/50\n",
            "176/176 [==============================] - 32s 183ms/step - loss: 0.0784 - accuracy: 0.9753 - val_loss: 0.1279 - val_accuracy: 0.9621\n",
            "Epoch 22/50\n",
            "176/176 [==============================] - 32s 183ms/step - loss: 0.0749 - accuracy: 0.9762 - val_loss: 0.0498 - val_accuracy: 0.9872\n",
            "Epoch 23/50\n",
            "176/176 [==============================] - 32s 183ms/step - loss: 0.0738 - accuracy: 0.9778 - val_loss: 0.1071 - val_accuracy: 0.9723\n",
            "Epoch 24/50\n",
            "176/176 [==============================] - 32s 183ms/step - loss: 0.0519 - accuracy: 0.9847 - val_loss: 0.0545 - val_accuracy: 0.9856\n",
            "Epoch 25/50\n",
            "176/176 [==============================] - 32s 183ms/step - loss: 0.0471 - accuracy: 0.9852 - val_loss: 0.0455 - val_accuracy: 0.9888\n",
            "Epoch 26/50\n",
            "176/176 [==============================] - 32s 183ms/step - loss: 0.0503 - accuracy: 0.9829 - val_loss: 0.0643 - val_accuracy: 0.9867\n",
            "Epoch 27/50\n",
            "176/176 [==============================] - 32s 184ms/step - loss: 0.0505 - accuracy: 0.9831 - val_loss: 0.0898 - val_accuracy: 0.9755\n",
            "Epoch 28/50\n",
            "176/176 [==============================] - 32s 183ms/step - loss: 0.0816 - accuracy: 0.9764 - val_loss: 0.1512 - val_accuracy: 0.9515\n",
            "Epoch 29/50\n",
            "176/176 [==============================] - 32s 183ms/step - loss: 0.0604 - accuracy: 0.9803 - val_loss: 0.1002 - val_accuracy: 0.9733\n",
            "Epoch 30/50\n",
            "176/176 [==============================] - 32s 183ms/step - loss: 0.0716 - accuracy: 0.9774 - val_loss: 0.0626 - val_accuracy: 0.9840\n",
            "Epoch 31/50\n",
            "176/176 [==============================] - 32s 183ms/step - loss: 0.0407 - accuracy: 0.9854 - val_loss: 0.0610 - val_accuracy: 0.9861\n",
            "Epoch 32/50\n",
            "176/176 [==============================] - 32s 183ms/step - loss: 0.0528 - accuracy: 0.9817 - val_loss: 0.0675 - val_accuracy: 0.9808\n",
            "Epoch 33/50\n",
            "176/176 [==============================] - 32s 183ms/step - loss: 0.0525 - accuracy: 0.9840 - val_loss: 0.0511 - val_accuracy: 0.9893\n",
            "Epoch 34/50\n",
            "176/176 [==============================] - 32s 183ms/step - loss: 0.0414 - accuracy: 0.9884 - val_loss: 0.0459 - val_accuracy: 0.9872\n",
            "Epoch 35/50\n",
            "176/176 [==============================] - 32s 183ms/step - loss: 0.0488 - accuracy: 0.9840 - val_loss: 0.0828 - val_accuracy: 0.9749\n",
            "Epoch 36/50\n",
            "176/176 [==============================] - 32s 183ms/step - loss: 0.0343 - accuracy: 0.9886 - val_loss: 0.0591 - val_accuracy: 0.9819\n",
            "Epoch 37/50\n",
            "176/176 [==============================] - 32s 183ms/step - loss: 0.0276 - accuracy: 0.9908 - val_loss: 0.0455 - val_accuracy: 0.9904\n",
            "Epoch 38/50\n",
            "176/176 [==============================] - 32s 183ms/step - loss: 0.0321 - accuracy: 0.9897 - val_loss: 0.0662 - val_accuracy: 0.9845\n",
            "Epoch 39/50\n",
            "176/176 [==============================] - 32s 183ms/step - loss: 0.0342 - accuracy: 0.9897 - val_loss: 0.1313 - val_accuracy: 0.9675\n",
            "Epoch 40/50\n",
            "176/176 [==============================] - 34s 192ms/step - loss: 0.0946 - accuracy: 0.9701 - val_loss: 0.0769 - val_accuracy: 0.9765\n",
            "Epoch 41/50\n",
            "176/176 [==============================] - 32s 183ms/step - loss: 0.0406 - accuracy: 0.9879 - val_loss: 0.0490 - val_accuracy: 0.9883\n",
            "Epoch 42/50\n",
            "176/176 [==============================] - 32s 183ms/step - loss: 0.0480 - accuracy: 0.9852 - val_loss: 0.0554 - val_accuracy: 0.9840\n",
            "Epoch 43/50\n",
            "176/176 [==============================] - 32s 183ms/step - loss: 0.0262 - accuracy: 0.9916 - val_loss: 0.0547 - val_accuracy: 0.9888\n",
            "Epoch 44/50\n",
            "176/176 [==============================] - 32s 183ms/step - loss: 0.0746 - accuracy: 0.9790 - val_loss: 0.0476 - val_accuracy: 0.9877\n",
            "Epoch 45/50\n",
            "176/176 [==============================] - 32s 183ms/step - loss: 0.0548 - accuracy: 0.9831 - val_loss: 0.0456 - val_accuracy: 0.9909\n",
            "Epoch 46/50\n",
            "176/176 [==============================] - 32s 183ms/step - loss: 0.0258 - accuracy: 0.9915 - val_loss: 0.0538 - val_accuracy: 0.9856\n",
            "Epoch 47/50\n",
            "176/176 [==============================] - 32s 183ms/step - loss: 0.0176 - accuracy: 0.9924 - val_loss: 0.0378 - val_accuracy: 0.9904\n",
            "Epoch 48/50\n",
            "176/176 [==============================] - 32s 183ms/step - loss: 0.0374 - accuracy: 0.9893 - val_loss: 0.0450 - val_accuracy: 0.9915\n",
            "Epoch 49/50\n",
            "176/176 [==============================] - 32s 183ms/step - loss: 0.0245 - accuracy: 0.9918 - val_loss: 0.0653 - val_accuracy: 0.9835\n",
            "Epoch 50/50\n",
            "176/176 [==============================] - 32s 183ms/step - loss: 0.0301 - accuracy: 0.9895 - val_loss: 0.0413 - val_accuracy: 0.9893\n"
          ]
        }
      ]
    },
    {
      "cell_type": "code",
      "source": [
        "cnn.save(\"CNNMFCC.h5\")"
      ],
      "metadata": {
        "id": "Ay1Gjx1w8Aow"
      },
      "execution_count": 14,
      "outputs": []
    },
    {
      "cell_type": "code",
      "source": [
        "test_loss,test_acc=cnn.evaluate(x_test,y_test)"
      ],
      "metadata": {
        "colab": {
          "base_uri": "https://localhost:8080/"
        },
        "id": "TChy92Va8K3O",
        "outputId": "aa374189-cd4f-49a8-afa7-27d3a7650505"
      },
      "execution_count": 15,
      "outputs": [
        {
          "output_type": "stream",
          "name": "stdout",
          "text": [
            "59/59 [==============================] - 4s 66ms/step - loss: 0.0413 - accuracy: 0.9893\n"
          ]
        }
      ]
    },
    {
      "cell_type": "code",
      "source": [
        "plt.plot(model1.history['accuracy'])\n",
        "plt.plot(model1.history['val_accuracy'])\n",
        "plt.title('model accuracy')\n",
        "plt.ylabel('accuracy')\n",
        "plt.xlabel('epoch')\n",
        "plt.legend(['train', 'val'], loc='upper left')\n",
        "plt.show()"
      ],
      "metadata": {
        "colab": {
          "base_uri": "https://localhost:8080/",
          "height": 295
        },
        "id": "aIL-apmx8RMy",
        "outputId": "049865b7-5419-4aa3-a0ae-223f0ddc0434"
      },
      "execution_count": 16,
      "outputs": [
        {
          "output_type": "display_data",
          "data": {
            "text/plain": [
              "<Figure size 432x288 with 1 Axes>"
            ],
            "image/png": "[encoded data removed]"
          },
          "metadata": {
            "needs_background": "light"
          }
        }
      ]
    },
    {
      "cell_type": "code",
      "source": [
        "plt.plot(model1.history['loss'])\n",
        "plt.plot(model1.history['val_loss'])\n",
        "plt.title('Model Loss')\n",
        "plt.ylabel('loss')\n",
        "plt.xlabel('epoch')\n",
        "plt.legend(['train', 'val'], loc='upper left')\n",
        "plt.show()"
      ],
      "metadata": {
        "colab": {
          "base_uri": "https://localhost:8080/",
          "height": 295
        },
        "id": "GXpp4xuE8Wqz",
        "outputId": "268c73d3-866a-4fd7-b18e-b613fa8f597e"
      },
      "execution_count": 17,
      "outputs": [
        {
          "output_type": "display_data",
          "data": {
            "text/plain": [
              "<Figure size 432x288 with 1 Axes>"
            ],
            "image/png": "[encoded data removed]"
          },
          "metadata": {
            "needs_background": "light"
          }
        }
      ]
    },
    {
      "cell_type": "code",
      "source": [
        "print(training_data[100][1])"
      ],
      "metadata": {
        "colab": {
          "base_uri": "https://localhost:8080/"
        },
        "id": "BlFWLxYi8yi1",
        "outputId": "ef238299-ca41-4b6c-80c7-5a9f8e19c59f"
      },
      "execution_count": null,
      "outputs": [
        {
          "output_type": "stream",
          "name": "stdout",
          "text": [
            "2\n"
          ]
        }
      ]
    },
    {
      "cell_type": "code",
      "source": [
        "prediction_data=training_data[100][0].reshape(-1,250,250,3)\n",
        "prediction=cnn.predict(prediction_data)"
      ],
      "metadata": {
        "id": "HhVCkVUo892y"
      },
      "execution_count": null,
      "outputs": []
    },
    {
      "cell_type": "code",
      "source": [
        "print(prediction)"
      ],
      "metadata": {
        "colab": {
          "base_uri": "https://localhost:8080/"
        },
        "id": "3Xg8vbk69sCW",
        "outputId": "4f520f35-7e2e-4b72-ff59-c17336323386"
      },
      "execution_count": null,
      "outputs": [
        {
          "output_type": "stream",
          "name": "stdout",
          "text": [
            "[[1.4248703e-32 1.3326972e-03 9.9866736e-01 8.9139129e-13 3.3612439e-25]]\n"
          ]
        }
      ]
    },
    {
      "cell_type": "code",
      "source": [
        "prob=np.array(prediction)\n",
        "labels = np.argmax(prob, axis=-1)    \n",
        "print(labels)"
      ],
      "metadata": {
        "colab": {
          "base_uri": "https://localhost:8080/"
        },
        "id": "49C9Qizc-0di",
        "outputId": "6dd19387-6aaa-4eab-fadb-3da4e7adc357"
      },
      "execution_count": null,
      "outputs": [
        {
          "output_type": "stream",
          "name": "stdout",
          "text": [
            "[2]\n"
          ]
        }
      ]
    },
    {
      "cell_type": "code",
      "source": [
        "model_pred=cnn.predict(x_test)\n",
        "model_pred=np.argmax(model_pred[:50],axis=1)\n",
        "actual=y_test[:50].reshape(-1)\n",
        "\n",
        "print(\"Predction:\")\n",
        "print(model_pred)\n",
        "print(\"Actual:\")\n",
        "print(actual)"
      ],
      "metadata": {
        "colab": {
          "base_uri": "https://localhost:8080/"
        },
        "id": "S1NGJPeYBqUV",
        "outputId": "6888690e-ba3d-4082-8d11-8f30a6ff28b5"
      },
      "execution_count": 19,
      "outputs": [
        {
          "output_type": "stream",
          "name": "stdout",
          "text": [
            "Predction:\n",
            "[1 7 8 2 1 9 7 2 9 5 4 9 7 3 0 7 6 8 2 1 2 7 6 9 4 1 0 3 3 4 5 3 9 3 4 6 1\n",
            " 3 6 9 1 3 1 3 8 0 3 2 7 7]\n",
            "Actual:\n",
            "[1 7 8 2 1 9 7 2 9 5 4 9 7 3 0 7 6 8 2 1 2 7 6 9 4 1 0 3 3 4 5 3 9 3 4 6 1\n",
            " 3 6 9 1 3 1 3 8 0 3 2 7 7]\n"
          ]
        }
      ]
    },
    {
      "cell_type": "code",
      "source": [
        ""
      ],
      "metadata": {
        "id": "0R6gtTOCCcPb"
      },
      "execution_count": null,
      "outputs": []
    }
  ]
}