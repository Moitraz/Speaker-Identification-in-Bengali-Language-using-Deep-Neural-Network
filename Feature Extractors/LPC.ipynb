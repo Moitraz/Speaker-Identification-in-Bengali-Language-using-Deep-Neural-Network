{
 "cells": [
  {
   "cell_type": "code",
   "execution_count": 3,
   "metadata": {},
   "outputs": [],
   "source": [
    "import os \n",
    "import scipy\n",
    "import numpy as np\n",
    "import librosa.display\n",
    "import matplotlib.pyplot as plt\n",
    "import IPython.display as ipd\n",
    "from scipy.io import wavfile\n",
    "from spafe.utils import vis\n",
    "from spafe.features.lpc import lpc, lpcc\n"
   ]
  },
  {
   "cell_type": "code",
   "execution_count": 8,
   "metadata": {},
   "outputs": [],
   "source": [
    "def lpcm(file_path):\n",
    "    audio_list=[]\n",
    "    des_filepath='./LPC'\n",
    "    dirlist=os.listdir(file_path)\n",
    "    for dir in dirlist:\n",
    "        subdir_path=file_path+'/'+dir\n",
    "        des_subdir=des_filepath+'/'+dir\n",
    "        subdir=os.listdir(subdir_path)\n",
    "        i=0\n",
    "        for sub in subdir:\n",
    "            audio_path=subdir_path+'/'+sub\n",
    "            base=os.path.basename(audio_path)\n",
    "            name= os.path.splitext(base)\n",
    "            name=os.path.basename(name[0])\n",
    "            name=os.path.splitext(name)[0]\n",
    "            des_audio_path=des_subdir+'/'+name+str(i)\n",
    "            i+=1\n",
    "            num_ceps = 13\n",
    "            lifter = 0\n",
    "            normalize = True\n",
    "            #print(name)\n",
    "            fs, sig = wavfile.read(audio_path)\n",
    "            #if(sig[1].shape==2):\n",
    "            sig=np.mean(sig,axis=1)\n",
    "            lpcs = lpc(sig=sig, fs=fs, num_ceps=num_ceps)\n",
    "            librosa.display.specshow(lpcs,x_axis=\"time\",sr=fs)\n",
    "            if not os.path.exists(des_subdir):\n",
    "                os.makedirs(des_subdir)\n",
    "                plt.savefig(des_audio_path)\n",
    "            else:\n",
    "                plt.savefig(des_audio_path)   \n",
    "            audio_list.append(audio_path)"
   ]
  },
  {
   "cell_type": "code",
   "execution_count": 9,
   "metadata": {},
   "outputs": [
    {
     "data": {
      "image/png": "[encoded data removed]",
      "text/plain": [
       "<Figure size 432x288 with 1 Axes>"
      ]
     },
     "metadata": {
      "needs_background": "light"
     },
     "output_type": "display_data"
    }
   ],
   "source": [
    "lpcm('./Dataset')"
   ]
  }
 ],
 "metadata": {
  "interpreter": {
   "hash": "81794d4967e6c3204c66dcd87b604927b115b27c00565d3d43f05ba2f3a2cb0d"
  },
  "kernelspec": {
   "display_name": "Python 3.9.5 64-bit",
   "language": "python",
   "name": "python3"
  },
  "language_info": {
   "codemirror_mode": {
    "name": "ipython",
    "version": 3
   },
   "file_extension": ".py",
   "mimetype": "text/x-python",
   "name": "python",
   "nbconvert_exporter": "python",
   "pygments_lexer": "ipython3",
   "version": "3.9.5"
  },
  "orig_nbformat": 4
 },
 "nbformat": 4,
 "nbformat_minor": 2
}
