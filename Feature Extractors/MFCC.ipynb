{
 "cells": [
  {
   "cell_type": "code",
   "execution_count": 1,
   "metadata": {},
   "outputs": [],
   "source": [
    "import os \n",
    "import librosa \n",
    "import librosa.display\n",
    "import numpy as np\n",
    "import matplotlib.pyplot as plt\n",
    "import IPython.display as ipd\n",
    "from scipy.io import wavfile"
   ]
  },
  {
   "cell_type": "code",
   "execution_count": null,
   "metadata": {},
   "outputs": [],
   "source": []
  },
  {
   "cell_type": "code",
   "execution_count": 5,
   "metadata": {},
   "outputs": [],
   "source": [
    "def mfcc(file_path):\n",
    "    audio_list=[]\n",
    "    des_filepath='./MFCC'\n",
    "    dirlist=os.listdir(file_path)\n",
    "    for dir in dirlist:\n",
    "        subdir_path=file_path+'/'+dir\n",
    "        des_subdir=des_filepath+'/'+dir\n",
    "        subdir=os.listdir(subdir_path)\n",
    "        i=0\n",
    "        for sub in subdir:\n",
    "            audio_path=subdir_path+'/'+sub\n",
    "            base=os.path.basename(audio_path)\n",
    "            name= os.path.splitext(base)\n",
    "            name=os.path.basename(name[0])\n",
    "            name=os.path.splitext(name)[0]\n",
    "            des_audio_path=des_subdir+'/'+name+str(i)\n",
    "            i+=1\n",
    "            signal,sr=librosa.load(audio_path)\n",
    "            mfcc=librosa.feature.mfcc(signal,n_mfcc=20,sr=sr)\n",
    "            librosa.display.specshow(mfcc,x_axis=\"time\",sr=sr)\n",
    "            if not os.path.exists(des_subdir):\n",
    "                os.makedirs(des_subdir)\n",
    "                plt.savefig(des_audio_path)\n",
    "            else:\n",
    "                plt.savefig(des_audio_path)   \n",
    "            audio_list.append(audio_path)"
   ]
  },
  {
   "cell_type": "code",
   "execution_count": 6,
   "metadata": {},
   "outputs": [
    {
     "data": {
      "image/png": "[encoded data removed]",
      "text/plain": [
       "<Figure size 432x288 with 1 Axes>"
      ]
     },
     "metadata": {
      "needs_background": "light"
     },
     "output_type": "display_data"
    }
   ],
   "source": [
    "mfcc('./Dataset')"
   ]
  }
 ],
 "metadata": {
  "interpreter": {
   "hash": "81794d4967e6c3204c66dcd87b604927b115b27c00565d3d43f05ba2f3a2cb0d"
  },
  "kernelspec": {
   "display_name": "Python 3.9.5 64-bit",
   "language": "python",
   "name": "python3"
  },
  "language_info": {
   "codemirror_mode": {
    "name": "ipython",
    "version": 3
   },
   "file_extension": ".py",
   "mimetype": "text/x-python",
   "name": "python",
   "nbconvert_exporter": "python",
   "pygments_lexer": "ipython3",
   "version": "3.9.5"
  },
  "orig_nbformat": 4
 },
 "nbformat": 4,
 "nbformat_minor": 2
}
